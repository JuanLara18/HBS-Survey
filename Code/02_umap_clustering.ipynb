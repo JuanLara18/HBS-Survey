{
 "cells": [
  {
   "cell_type": "markdown",
   "metadata": {},
   "source": [
    "# Clustering Analysis for Survey Data\n",
    "\n",
    "This notebook performs clustering analysis on survey data using UMAP for dimensionality reduction and K-Means for clustering. The analysis includes evaluation metrics and visualizations for both 2 and 3 cluster solutions."
   ]
  },
  {
   "cell_type": "markdown",
   "metadata": {},
   "source": [
    "## 1. Data Loading and Preprocessing\n",
    "\n",
    "- Import required libraries\n",
    "- Load survey data\n",
    "- Create dummy variables\n",
    "- Clean column names"
   ]
  },
  {
   "cell_type": "code",
   "execution_count": 3,
   "metadata": {},
   "outputs": [
    {
     "ename": "ModuleNotFoundError",
     "evalue": "No module named 'umap.umap_'",
     "output_type": "error",
     "traceback": [
      "\u001b[1;31m---------------------------------------------------------------------------\u001b[0m",
      "\u001b[1;31mModuleNotFoundError\u001b[0m                       Traceback (most recent call last)",
      "Cell \u001b[1;32mIn[3], line 6\u001b[0m\n\u001b[0;32m      4\u001b[0m \u001b[38;5;28;01mimport\u001b[39;00m\u001b[38;5;250m \u001b[39m\u001b[38;5;21;01mpyreadstat\u001b[39;00m\n\u001b[0;32m      5\u001b[0m \u001b[38;5;28;01mimport\u001b[39;00m\u001b[38;5;250m \u001b[39m\u001b[38;5;21;01mmatplotlib\u001b[39;00m\u001b[38;5;21;01m.\u001b[39;00m\u001b[38;5;21;01mpyplot\u001b[39;00m\u001b[38;5;250m \u001b[39m\u001b[38;5;28;01mas\u001b[39;00m\u001b[38;5;250m \u001b[39m\u001b[38;5;21;01mplt\u001b[39;00m\n\u001b[1;32m----> 6\u001b[0m \u001b[38;5;28;01mimport\u001b[39;00m\u001b[38;5;250m \u001b[39m\u001b[38;5;21;01mumap\u001b[39;00m\u001b[38;5;21;01m.\u001b[39;00m\u001b[38;5;21;01mumap_\u001b[39;00m\u001b[38;5;250m \u001b[39m\u001b[38;5;28;01mas\u001b[39;00m\u001b[38;5;250m \u001b[39m\u001b[38;5;21;01mumap\u001b[39;00m\n\u001b[0;32m      7\u001b[0m \u001b[38;5;28;01mfrom\u001b[39;00m\u001b[38;5;250m \u001b[39m\u001b[38;5;21;01msklearn\u001b[39;00m\u001b[38;5;21;01m.\u001b[39;00m\u001b[38;5;21;01mcluster\u001b[39;00m\u001b[38;5;250m \u001b[39m\u001b[38;5;28;01mimport\u001b[39;00m KMeans\n\u001b[0;32m      8\u001b[0m \u001b[38;5;28;01mfrom\u001b[39;00m\u001b[38;5;250m \u001b[39m\u001b[38;5;21;01msklearn\u001b[39;00m\u001b[38;5;21;01m.\u001b[39;00m\u001b[38;5;21;01mmetrics\u001b[39;00m\u001b[38;5;250m \u001b[39m\u001b[38;5;28;01mimport\u001b[39;00m silhouette_score\n",
      "\u001b[1;31mModuleNotFoundError\u001b[0m: No module named 'umap.umap_'"
     ]
    }
   ],
   "source": [
    "# Import required libraries\n",
    "import pandas as pd\n",
    "import numpy as np\n",
    "import pyreadstat\n",
    "import matplotlib.pyplot as plt\n",
    "import umap.umap_ as umap\n",
    "from sklearn.cluster import KMeans\n",
    "from sklearn.metrics import silhouette_score\n",
    "\n",
    "# Set global plotting parameters\n",
    "plt.style.use('seaborn')\n",
    "np.random.seed(42)\n",
    "plt.rcParams['figure.figsize'] = (10, 7)\n",
    "plt.rcParams['font.size'] = 12\n",
    "\n",
    "# Load data\n",
    "data = pd.read_stata(\"../Data/V1_qualflags_analysis2_ML.dta\")\n",
    "df, meta = pyreadstat.read_dta(\"../Data/V1_qualflags_analysis2_ML.dta\")\n",
    "variable_labels = dict(zip(data.columns, meta.column_labels))\n",
    "\n",
    "# Create dummy variables and clean column names\n",
    "data_dummies = pd.get_dummies(data)\n",
    "new_cols = [col.replace('>', 'greater').replace('<', 'less').replace(',', '_') \n",
    "            for col in data_dummies.columns]\n",
    "data_dummies.columns = new_cols"
   ]
  },
  {
   "cell_type": "markdown",
   "metadata": {},
   "source": [
    "## 2. Dimensionality Reduction and Clustering\n",
    "\n",
    "- Perform UMAP dimensionality reduction\n",
    "- Evaluate optimal number of clusters\n",
    "- Apply K-Means clustering\n",
    "- Visualize results"
   ]
  },
  {
   "cell_type": "code",
   "execution_count": null,
   "metadata": {},
   "outputs": [],
   "source": [
    "# Perform UMAP dimensionality reduction\n",
    "reducer = umap.UMAP(random_state=42)\n",
    "embedding = reducer.fit_transform(data_dummies.dropna())\n",
    "\n",
    "# Evaluate optimal number of clusters\n",
    "wcss = []\n",
    "silhouette_scores = []\n",
    "\n",
    "for n_clusters in range(2, 11):\n",
    "    kmeans = KMeans(n_clusters=n_clusters, random_state=42)\n",
    "    labels = kmeans.fit_predict(embedding)\n",
    "    wcss.append(kmeans.inertia_)\n",
    "    silhouette_scores.append(silhouette_score(embedding, labels))\n",
    "\n",
    "# Plot evaluation metrics\n",
    "fig, (ax1, ax2) = plt.subplots(1, 2, figsize=(15, 5))\n",
    "\n",
    "# Elbow plot\n",
    "ax1.plot(range(2, 11), wcss, marker='o', linestyle='--')\n",
    "ax1.set_title('Elbow Method')\n",
    "ax1.set_xlabel('Number of Clusters')\n",
    "ax1.set_ylabel('WCSS')\n",
    "\n",
    "# Silhouette plot\n",
    "ax2.plot(range(2, 11), silhouette_scores, marker='o', linestyle='--')\n",
    "ax2.set_title('Silhouette Score')\n",
    "ax2.set_xlabel('Number of Clusters')\n",
    "ax2.set_ylabel('Silhouette Score')\n",
    "\n",
    "plt.tight_layout()\n",
    "plt.show()"
   ]
  },
  {
   "cell_type": "markdown",
   "metadata": {},
   "source": [
    "## 3. Cluster Analysis and Export\n",
    "\n",
    "- Generate cluster visualizations\n",
    "- Save clustering results\n",
    "- Export final datasets"
   ]
  },
  {
   "cell_type": "code",
   "execution_count": null,
   "metadata": {},
   "outputs": [],
   "source": [
    "# Perform clustering for both 2 and 3 clusters\n",
    "for n_clusters in [2, 3]:\n",
    "    # Apply K-Means clustering\n",
    "    kmeans = KMeans(n_clusters=n_clusters, random_state=42)\n",
    "    labels = kmeans.fit_predict(embedding)\n",
    "    \n",
    "    # Visualize clusters\n",
    "    plt.figure(figsize=(10, 7))\n",
    "    plt.scatter(embedding[:, 0], embedding[:, 1], c=labels, cmap='viridis')\n",
    "    plt.colorbar(label='Cluster')\n",
    "    plt.title(f'UMAP Projection with {n_clusters} K-Means Clusters', fontsize=15)\n",
    "    plt.xlabel('UMAP1')\n",
    "    plt.ylabel('UMAP2')\n",
    "    plt.show()\n",
    "    \n",
    "    # Save results\n",
    "    result_df = data_dummies.dropna().copy()\n",
    "    result_df['KMeans_Cluster'] = labels\n",
    "    result_df.to_csv(f'clusters_{n_clusters}_construction.csv', index=False)"
   ]
  }
 ],
 "metadata": {
  "kernelspec": {
   "display_name": ".venv",
   "language": "python",
   "name": "python3"
  },
  "language_info": {
   "codemirror_mode": {
    "name": "ipython",
    "version": 3
   },
   "file_extension": ".py",
   "mimetype": "text/x-python",
   "name": "python",
   "nbconvert_exporter": "python",
   "pygments_lexer": "ipython3",
   "version": "3.13.0"
  }
 },
 "nbformat": 4,
 "nbformat_minor": 2
}
