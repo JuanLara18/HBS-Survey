{
 "cells": [
  {
   "cell_type": "markdown",
   "metadata": {},
   "source": [
    "# Statistical Analysis of Clustering Results\n",
    "This notebook performs statistical analysis on the clustering results, including ANOVA for 3-cluster solutions and t-tests for 2-cluster solutions. The analysis is performed both with and without dummy variables to ensure robust results."
   ]
  },
  {
   "cell_type": "markdown",
   "metadata": {},
   "source": [
    "## 1. Setup and Data Loading\n",
    "\n",
    "- Import required libraries\n",
    "- Load clustering results\n",
    "- Configure visualization settings"
   ]
  },
  {
   "cell_type": "code",
   "execution_count": 1,
   "metadata": {},
   "outputs": [],
   "source": [
    "# Import required libraries\n",
    "import pandas as pd\n",
    "import seaborn as sns\n",
    "import matplotlib.pyplot as plt\n",
    "from scipy.stats import f_oneway, ttest_ind\n",
    "import numpy as np\n",
    "import warnings\n",
    "import os\n",
    "from scipy import stats\n",
    "warnings.filterwarnings('ignore')\n",
    "\n",
    "# Set global visualization parameters\n",
    "plt.rcParams['figure.figsize'] = (10, 6)\n",
    "plt.rcParams['font.size'] = 12\n",
    "sns.set_palette(\"Set2\")\n",
    "\n",
    "plt.ioff()  # Turn off interactive plotting\n",
    "\n",
    "# Helper functions\n",
    "def perform_statistical_analysis(df, n_clusters=3):\n",
    "    \"\"\"\n",
    "    Performs statistical analysis for either 2 or 3 clusters\n",
    "    Args:\n",
    "        df: DataFrame with cluster assignments\n",
    "        n_clusters: Number of clusters to analyze\n",
    "    Returns:\n",
    "        DataFrame of significant variables\n",
    "    \"\"\"\n",
    "    if n_clusters == 3:\n",
    "        return perform_anova_analysis(df)\n",
    "    return perform_ttest_analysis(df)\n",
    "\n",
    "def perform_anova_analysis(df):\n",
    "    \"\"\"\n",
    "    Performs ANOVA analysis for 3 clusters\n",
    "    Args:\n",
    "        df: DataFrame with cluster assignments\n",
    "    Returns:\n",
    "        DataFrame with ANOVA results\n",
    "    \"\"\"\n",
    "    groups = df['KMeans_Cluster'].unique()\n",
    "    p_values = {}\n",
    "    \n",
    "    for column in df.columns:\n",
    "        if column != 'KMeans_Cluster':\n",
    "            group_data = [df[df['KMeans_Cluster'] == group][column] for group in groups]\n",
    "            f_statistic, p_value = f_oneway(*group_data)\n",
    "            p_values[column] = p_value\n",
    "            \n",
    "    return process_results(df, p_values)\n",
    "\n",
    "def perform_ttest_analysis(df):\n",
    "    \"\"\"\n",
    "    Performs t-test analysis for 2 clusters\n",
    "    Args:\n",
    "        df: DataFrame with cluster assignments\n",
    "    Returns:\n",
    "        DataFrame with t-test results\n",
    "    \"\"\"\n",
    "    group_X = df[df['KMeans_Cluster'] == 0]\n",
    "    group_Y = df[df['KMeans_Cluster'] == 1]\n",
    "    \n",
    "    results = []\n",
    "    for col in df.columns:\n",
    "        if col != 'KMeans_Cluster':\n",
    "            t_stat, p_value = stats.ttest_ind(group_X[col], group_Y[col], equal_var=False)\n",
    "            results.append((col, p_value))\n",
    "            \n",
    "    return process_results(df, dict(results))\n",
    "\n",
    "def es_dummy(col):\n",
    "    \"\"\"\n",
    "    Check if a column contains only binary values (0/1)\n",
    "    Args:\n",
    "        col: DataFrame column to check\n",
    "    Returns:\n",
    "        bool: True if column contains only binary values\n",
    "    \"\"\"\n",
    "    return col.dropna().isin([0, 1]).all()\n",
    "\n",
    "label_mapping = {\n",
    "    'roi4': 'Negative ROI',\n",
    "    'roi_yes': 'ROI Measured',\n",
    "    'ecp_extredeployment': 'External Redeployment',\n",
    "    'p_effect_reverse': 'Program Effectiveness',\n",
    "    'evp_network': 'Cross-departmental Networks',\n",
    "    'roi5': 'Positive ROI',\n",
    "    'sum_tr_sk': 'Sum of Trained Skills',\n",
    "    'sha_b_sk_n_digital': 'Share Needed Digital Skills',\n",
    "    'stat_government': 'Help Org Use Gov Subsidy',\n",
    "    'ecp_intredeployment': 'Internal Redeployment',\n",
    "    'stat_csr': 'Fulfilling CSR Requirement',\n",
    "    'reason_dei': 'Reason DEI',\n",
    "    'sk_selected': 'Total Nr skills needed',\n",
    "    'stand2': 'Mix Standardization customization',\n",
    "    'f_union_1 - 25%': 'Union Share 1-25%',\n",
    "    'inc_mgr_nofin': 'Manager: Non-financial Incentive',\n",
    "    'invest_cont': 'Continued Investment',\n",
    "    'p_fund_gov': 'Funded by Government',\n",
    "    'f_medium': 'Medium Firm Size (100-999)',\n",
    "    'roi2': 'Not yet but intend to calculate ROI',\n",
    "    'roi3': 'Tried to but unable to',\n",
    "    'roi1': 'No attempt to calculate',\n",
    "    'p_eligibility': 'Participation Eligibility',\n",
    "    'p_targetfunc_it_Not_Selected': 'Target Function: IT not selected',\n",
    "    'p_cont_investment_Very likely': 'Cont. Investment Very Likely',\n",
    "    'p_adv_hr': 'Advocate HR',\n",
    "    'p_participated_2023_1000 - 9999': 'Participated in 2023 (1000 - 9999)',\n",
    "    'p_program_length': 'Program Length (Years)',\n",
    "    'p_fund_org': 'Funded by Org',\n",
    "    'p_criteria_jobtitle': 'Selection Criteria: Job Title',\n",
    "    'p_criteria_assmskills': 'Selection Criteria: Assessment of Skills',\n",
    "    'p_target_emp': 'Target Group: Employees',\n",
    "    'p_challenge_progcompl': 'Challenge: Program Completion',\n",
    "    'p_year_end_2023': 'Program End: 2023',\n",
    "    'p_part': 'Number of participants',\n",
    "    'p_fund_wrk': 'Funded by Worker',\n",
    "    'sha_b_sk_n_soft': 'Needed share soft skill',\n",
    "    'sha_b_sk_n_man': 'Needed share mgmt skill',\n",
    "    'p_part_exp': 'Expected Participation',\n",
    "    'tot_kpi_tracked': 'Total Nr of KPIs',\n",
    "    'f_union_1___25%': 'Union share 1-25%',  # Updated label\n",
    "    'p_targetfunc_it': 'Target function IT',  # Updated label\n",
    "}\n",
    "\n",
    "def create_statistical_table(df, group_col, results, n_groups):\n",
    "    \"\"\"Create statistical table with means and standard deviations\"\"\"\n",
    "    groups = df[group_col].unique()\n",
    "    \n",
    "    # Create LaTeX table\n",
    "    if n_groups == 3:\n",
    "        latex_table = \"\\\\begin{tabular}{lcccccc}\\n\"\n",
    "        latex_table += \"Feature & Mean G1 & SD G1 & Mean G2 & SD G2 & Mean G3 & SD G3 & p-value \\\\\\\\\\n\"\n",
    "    else:\n",
    "        latex_table = \"\\\\begin{tabular}{lcccc}\\n\"\n",
    "        latex_table += \"Feature & Mean G1 & SD G1 & Mean G2 & SD G2 & p-value \\\\\\\\\\n\"\n",
    "    \n",
    "    latex_table += \"\\\\hline\\n\"\n",
    "    \n",
    "    # Create pandas DataFrame for visualization\n",
    "    table_data = []\n",
    "    columns = ['Feature']\n",
    "    for i in range(n_groups):\n",
    "        columns.extend([f'Mean G{i+1}', f'SD G{i+1}'])\n",
    "    columns.append('p-value')\n",
    "    \n",
    "    for variable, p_value in results:\n",
    "        variable_label = label_mapping.get(variable, variable)\n",
    "        means = []\n",
    "        sds = []\n",
    "        # row_data = [variable]\n",
    "        row_data = [variable_label]\n",
    "        for group in range(n_groups):\n",
    "            group_data = df[df[group_col] == group][variable]\n",
    "            mean = group_data.mean()\n",
    "            sd = group_data.std()\n",
    "            means.append(mean)\n",
    "            sds.append(sd)\n",
    "            row_data.extend([f\"{mean:.2f}\", f\"{sd:.2f}\"])\n",
    "        \n",
    "        # Add to LaTeX table\n",
    "        stats_str = \" & \".join([f\"{m:.2f} & {s:.2f}\" for m, s in zip(means, sds)])\n",
    "        #latex_table += f\"{variable} & {stats_str} & {p_value:.4f} \\\\\\\\\\n\"\n",
    "        latex_table += f\"{variable_label} & {stats_str} & {p_value:.4f} \\\\\\\\\\n\"\n",
    "        \n",
    "        # Add to pandas data\n",
    "        row_data.append(f\"{p_value:.4f}\")\n",
    "        table_data.append(row_data)\n",
    "    \n",
    "    latex_table += \"\\\\end{tabular}\"\n",
    "    \n",
    "    # Create pandas DataFrame\n",
    "    pd_table = pd.DataFrame(table_data, columns=columns)\n",
    "    \n",
    "    return latex_table, pd_table\n",
    "\n",
    "def plot_density_distributions(df, variables, group_col, title_prefix=\"\", n_clusters=None, analysis_type=\"all_vars\"):\n",
    "    \"\"\"\n",
    "    Create and save density plots for specified variables\n",
    "    Args:\n",
    "        df: DataFrame containing the data\n",
    "        variables: List of variables to plot\n",
    "        group_col: Column name for cluster assignments\n",
    "        title_prefix: Prefix for plot titles\n",
    "        n_clusters: Number of clusters (2 or 3)\n",
    "        analysis_type: Type of analysis (\"all_vars\" or \"no_dummies\")\n",
    "    \"\"\"\n",
    "    # Create base output directory if it doesn't exist\n",
    "    base_dir = \"../Output/Figures\"\n",
    "    cluster_dir = f\"{base_dir}/{n_clusters}_clusters\"\n",
    "    analysis_dir = f\"{cluster_dir}/{analysis_type}\"\n",
    "    \n",
    "    # Create nested directories if they don't exist\n",
    "    for dir_path in [base_dir, cluster_dir, analysis_dir]:\n",
    "        os.makedirs(dir_path, exist_ok=True)\n",
    "    \n",
    "    for var in variables:\n",
    "        plt.figure(figsize=(10, 6))\n",
    "        for group in sorted(df[group_col].unique()):\n",
    "            group_data = df[df[group_col] == group][var]\n",
    "            sns.kdeplot(data=group_data, label=f'Cluster {group}', fill=True)\n",
    "        \n",
    "        plt.title(f'{title_prefix} {var}')\n",
    "        plt.xlabel(var)\n",
    "        plt.ylabel('Density')\n",
    "        plt.legend()\n",
    "        plt.tight_layout()\n",
    "        \n",
    "        # Save plot\n",
    "        safe_var_name = \"\".join(x for x in var if x.isalnum() or x in ['-', '_'])\n",
    "        plt.savefig(f\"{analysis_dir}/density_{safe_var_name}.png\")\n",
    "        plt.close()\n",
    "        \n",
    "def process_results(df, p_values, alpha=0.05):\n",
    "    \"\"\"\n",
    "    Processes statistical results and generates visualizations\n",
    "    Args:\n",
    "        df: DataFrame with data\n",
    "        p_values: Dictionary of p-values by variable\n",
    "        alpha: Significance level\n",
    "    Returns:\n",
    "        DataFrame of top significant variables\n",
    "    \"\"\"\n",
    "    p_values_df = pd.DataFrame(list(p_values.items()), columns=['Variable', 'p_value'])\n",
    "    significant_vars = p_values_df[p_values_df['p_value'] < alpha]\n",
    "    top_vars = significant_vars.sort_values('p_value').head(20)\n",
    "    \n",
    "    create_density_plots(df, top_vars['Variable'].tolist())\n",
    "    return top_vars\n",
    "\n",
    "def create_density_plots(df, variables, n_clusters=None, analysis_type=\"all_vars\"):\n",
    "    \"\"\"\n",
    "    Creates density plots for significant variables\n",
    "    Args:\n",
    "        df: DataFrame containing the data\n",
    "        variables: List of variables to plot\n",
    "        n_clusters: Number of clusters (2 or 3)\n",
    "        analysis_type: Type of analysis (\"all_vars\" or \"no_dummies\")\n",
    "    \"\"\"\n",
    "    # Create base output directory if it doesn't exist\n",
    "    base_dir = \"../Output/Figures\"\n",
    "    cluster_dir = f\"{base_dir}/{n_clusters}_clusters\"\n",
    "    analysis_dir = f\"{cluster_dir}/{analysis_type}\"\n",
    "    \n",
    "    # Create nested directories if they don't exist\n",
    "    for dir_path in [base_dir, cluster_dir, analysis_dir]:\n",
    "        os.makedirs(dir_path, exist_ok=True)\n",
    "    \n",
    "    for var in variables:\n",
    "        plt.figure(figsize=(10, 6))\n",
    "        g = sns.FacetGrid(df, hue='KMeans_Cluster', height=6, aspect=1.5)\n",
    "        g.map(sns.kdeplot, var, fill=True)\n",
    "        g.add_legend()\n",
    "        plt.title(f'Density Plot for {var}')\n",
    "        plt.tight_layout()\n",
    "        \n",
    "        # Save plot\n",
    "        safe_var_name = \"\".join(x for x in var if x.isalnum() or x in ['-', '_'])\n",
    "        plt.savefig(f\"{analysis_dir}/density_facet_{safe_var_name}.png\")\n",
    "        plt.close()"
   ]
  },
  {
   "cell_type": "markdown",
   "metadata": {},
   "source": [
    "## 2. Three-Cluster Analysis\n",
    "\n",
    "- ANOVA testing for all variables\n",
    "- Generation of statistical tables\n",
    "- Density plots for significant variables\n",
    "- Analysis without dummy variables"
   ]
  },
  {
   "cell_type": "code",
   "execution_count": 2,
   "metadata": {},
   "outputs": [
    {
     "name": "stdout",
     "output_type": "stream",
     "text": [
      "\n",
      "LaTeX Table for 3-Cluster Analysis:\n",
      "\\begin{tabular}{lcccccc}\n",
      "Feature & Mean G1 & SD G1 & Mean G2 & SD G2 & Mean G3 & SD G3 & p-value \\\\\n",
      "\\hline\n",
      "Number of participants & 38.93 & 16.63 & 76.59 & 9.12 & 74.02 & 10.99 & 0.0000 \\\\\n",
      "Participation Eligibility & 43.77 & 13.06 & 74.36 & 10.24 & 74.80 & 14.18 & 0.0000 \\\\\n",
      "Expected Participation & 52.67 & 17.49 & 83.01 & 11.17 & 83.46 & 9.87 & 0.0000 \\\\\n",
      "Funded by Org & 57.48 & 30.59 & 23.63 & 6.68 & 56.30 & 18.62 & 0.0000 \\\\\n",
      "Funded by Government & 14.25 & 12.24 & 23.10 & 10.23 & 12.40 & 9.44 & 0.0000 \\\\\n",
      "tr_sk_n_f_finance & 0.23 & 0.43 & 0.11 & 0.32 & 0.54 & 0.50 & 0.0000 \\\\\n",
      "p_fund_other & 3.25 & 8.47 & 10.19 & 10.79 & 2.10 & 5.45 & 0.0000 \\\\\n",
      "Funded by Worker & 12.33 & 12.11 & 22.87 & 10.91 & 15.20 & 10.97 & 0.0000 \\\\\n",
      "presp2 & 0.32 & 0.47 & 0.74 & 0.44 & 0.64 & 0.48 & 0.0000 \\\\\n",
      "p_resp_hr & 0.32 & 0.47 & 0.74 & 0.44 & 0.64 & 0.48 & 0.0000 \\\\\n",
      "p_responsibility_HR Leaders & 0.32 & 0.47 & 0.74 & 0.44 & 0.64 & 0.48 & 0.0000 \\\\\n",
      "p_responsibility_hier_HR & 0.32 & 0.47 & 0.74 & 0.44 & 0.64 & 0.48 & 0.0000 \\\\\n",
      "sk_n_dig_advance & 0.53 & 0.50 & 0.36 & 0.48 & 0.82 & 0.39 & 0.0000 \\\\\n",
      "mot_mgr_Easy & 0.35 & 0.48 & 0.74 & 0.44 & 0.70 & 0.46 & 0.0000 \\\\\n",
      "mot_wrkagg_Easy & 0.50 & 0.50 & 0.84 & 0.37 & 0.84 & 0.37 & 0.0000 \\\\\n",
      "mot_mgragg_Easy & 0.52 & 0.50 & 0.83 & 0.38 & 0.88 & 0.33 & 0.0000 \\\\\n",
      "clus4 & 2.53 & 1.05 & 2.94 & 1.17 & 1.94 & 0.93 & 0.0000 \\\\\n",
      "clus5 & 2.53 & 1.05 & 2.94 & 1.17 & 1.94 & 0.93 & 0.0000 \\\\\n",
      "Program End: 2023 & 0.27 & 0.45 & 0.46 & 0.50 & 0.72 & 0.45 & 0.0000 \\\\\n",
      "inc_wrk_strat & 0.45 & 0.50 & 0.23 & 0.42 & 0.66 & 0.48 & 0.0000 \\\\\n",
      "\\end{tabular}\n",
      "\n",
      "Visualized Table for 3-Cluster Analysis:\n"
     ]
    },
    {
     "data": {
      "text/html": [
       "<div>\n",
       "<style scoped>\n",
       "    .dataframe tbody tr th:only-of-type {\n",
       "        vertical-align: middle;\n",
       "    }\n",
       "\n",
       "    .dataframe tbody tr th {\n",
       "        vertical-align: top;\n",
       "    }\n",
       "\n",
       "    .dataframe thead th {\n",
       "        text-align: right;\n",
       "    }\n",
       "</style>\n",
       "<table border=\"1\" class=\"dataframe\">\n",
       "  <thead>\n",
       "    <tr style=\"text-align: right;\">\n",
       "      <th></th>\n",
       "      <th>Feature</th>\n",
       "      <th>Mean G1</th>\n",
       "      <th>SD G1</th>\n",
       "      <th>Mean G2</th>\n",
       "      <th>SD G2</th>\n",
       "      <th>Mean G3</th>\n",
       "      <th>SD G3</th>\n",
       "      <th>p-value</th>\n",
       "    </tr>\n",
       "  </thead>\n",
       "  <tbody>\n",
       "    <tr>\n",
       "      <th>0</th>\n",
       "      <td>Number of participants</td>\n",
       "      <td>38.93</td>\n",
       "      <td>16.63</td>\n",
       "      <td>76.59</td>\n",
       "      <td>9.12</td>\n",
       "      <td>74.02</td>\n",
       "      <td>10.99</td>\n",
       "      <td>0.0000</td>\n",
       "    </tr>\n",
       "    <tr>\n",
       "      <th>1</th>\n",
       "      <td>Participation Eligibility</td>\n",
       "      <td>43.77</td>\n",
       "      <td>13.06</td>\n",
       "      <td>74.36</td>\n",
       "      <td>10.24</td>\n",
       "      <td>74.80</td>\n",
       "      <td>14.18</td>\n",
       "      <td>0.0000</td>\n",
       "    </tr>\n",
       "    <tr>\n",
       "      <th>2</th>\n",
       "      <td>Expected Participation</td>\n",
       "      <td>52.67</td>\n",
       "      <td>17.49</td>\n",
       "      <td>83.01</td>\n",
       "      <td>11.17</td>\n",
       "      <td>83.46</td>\n",
       "      <td>9.87</td>\n",
       "      <td>0.0000</td>\n",
       "    </tr>\n",
       "    <tr>\n",
       "      <th>3</th>\n",
       "      <td>Funded by Org</td>\n",
       "      <td>57.48</td>\n",
       "      <td>30.59</td>\n",
       "      <td>23.63</td>\n",
       "      <td>6.68</td>\n",
       "      <td>56.30</td>\n",
       "      <td>18.62</td>\n",
       "      <td>0.0000</td>\n",
       "    </tr>\n",
       "    <tr>\n",
       "      <th>4</th>\n",
       "      <td>Funded by Government</td>\n",
       "      <td>14.25</td>\n",
       "      <td>12.24</td>\n",
       "      <td>23.10</td>\n",
       "      <td>10.23</td>\n",
       "      <td>12.40</td>\n",
       "      <td>9.44</td>\n",
       "      <td>0.0000</td>\n",
       "    </tr>\n",
       "    <tr>\n",
       "      <th>5</th>\n",
       "      <td>tr_sk_n_f_finance</td>\n",
       "      <td>0.23</td>\n",
       "      <td>0.43</td>\n",
       "      <td>0.11</td>\n",
       "      <td>0.32</td>\n",
       "      <td>0.54</td>\n",
       "      <td>0.50</td>\n",
       "      <td>0.0000</td>\n",
       "    </tr>\n",
       "    <tr>\n",
       "      <th>6</th>\n",
       "      <td>p_fund_other</td>\n",
       "      <td>3.25</td>\n",
       "      <td>8.47</td>\n",
       "      <td>10.19</td>\n",
       "      <td>10.79</td>\n",
       "      <td>2.10</td>\n",
       "      <td>5.45</td>\n",
       "      <td>0.0000</td>\n",
       "    </tr>\n",
       "    <tr>\n",
       "      <th>7</th>\n",
       "      <td>Funded by Worker</td>\n",
       "      <td>12.33</td>\n",
       "      <td>12.11</td>\n",
       "      <td>22.87</td>\n",
       "      <td>10.91</td>\n",
       "      <td>15.20</td>\n",
       "      <td>10.97</td>\n",
       "      <td>0.0000</td>\n",
       "    </tr>\n",
       "    <tr>\n",
       "      <th>8</th>\n",
       "      <td>presp2</td>\n",
       "      <td>0.32</td>\n",
       "      <td>0.47</td>\n",
       "      <td>0.74</td>\n",
       "      <td>0.44</td>\n",
       "      <td>0.64</td>\n",
       "      <td>0.48</td>\n",
       "      <td>0.0000</td>\n",
       "    </tr>\n",
       "    <tr>\n",
       "      <th>9</th>\n",
       "      <td>p_resp_hr</td>\n",
       "      <td>0.32</td>\n",
       "      <td>0.47</td>\n",
       "      <td>0.74</td>\n",
       "      <td>0.44</td>\n",
       "      <td>0.64</td>\n",
       "      <td>0.48</td>\n",
       "      <td>0.0000</td>\n",
       "    </tr>\n",
       "    <tr>\n",
       "      <th>10</th>\n",
       "      <td>p_responsibility_HR Leaders</td>\n",
       "      <td>0.32</td>\n",
       "      <td>0.47</td>\n",
       "      <td>0.74</td>\n",
       "      <td>0.44</td>\n",
       "      <td>0.64</td>\n",
       "      <td>0.48</td>\n",
       "      <td>0.0000</td>\n",
       "    </tr>\n",
       "    <tr>\n",
       "      <th>11</th>\n",
       "      <td>p_responsibility_hier_HR</td>\n",
       "      <td>0.32</td>\n",
       "      <td>0.47</td>\n",
       "      <td>0.74</td>\n",
       "      <td>0.44</td>\n",
       "      <td>0.64</td>\n",
       "      <td>0.48</td>\n",
       "      <td>0.0000</td>\n",
       "    </tr>\n",
       "    <tr>\n",
       "      <th>12</th>\n",
       "      <td>sk_n_dig_advance</td>\n",
       "      <td>0.53</td>\n",
       "      <td>0.50</td>\n",
       "      <td>0.36</td>\n",
       "      <td>0.48</td>\n",
       "      <td>0.82</td>\n",
       "      <td>0.39</td>\n",
       "      <td>0.0000</td>\n",
       "    </tr>\n",
       "    <tr>\n",
       "      <th>13</th>\n",
       "      <td>mot_mgr_Easy</td>\n",
       "      <td>0.35</td>\n",
       "      <td>0.48</td>\n",
       "      <td>0.74</td>\n",
       "      <td>0.44</td>\n",
       "      <td>0.70</td>\n",
       "      <td>0.46</td>\n",
       "      <td>0.0000</td>\n",
       "    </tr>\n",
       "    <tr>\n",
       "      <th>14</th>\n",
       "      <td>mot_wrkagg_Easy</td>\n",
       "      <td>0.50</td>\n",
       "      <td>0.50</td>\n",
       "      <td>0.84</td>\n",
       "      <td>0.37</td>\n",
       "      <td>0.84</td>\n",
       "      <td>0.37</td>\n",
       "      <td>0.0000</td>\n",
       "    </tr>\n",
       "    <tr>\n",
       "      <th>15</th>\n",
       "      <td>mot_mgragg_Easy</td>\n",
       "      <td>0.52</td>\n",
       "      <td>0.50</td>\n",
       "      <td>0.83</td>\n",
       "      <td>0.38</td>\n",
       "      <td>0.88</td>\n",
       "      <td>0.33</td>\n",
       "      <td>0.0000</td>\n",
       "    </tr>\n",
       "    <tr>\n",
       "      <th>16</th>\n",
       "      <td>clus4</td>\n",
       "      <td>2.53</td>\n",
       "      <td>1.05</td>\n",
       "      <td>2.94</td>\n",
       "      <td>1.17</td>\n",
       "      <td>1.94</td>\n",
       "      <td>0.93</td>\n",
       "      <td>0.0000</td>\n",
       "    </tr>\n",
       "    <tr>\n",
       "      <th>17</th>\n",
       "      <td>clus5</td>\n",
       "      <td>2.53</td>\n",
       "      <td>1.05</td>\n",
       "      <td>2.94</td>\n",
       "      <td>1.17</td>\n",
       "      <td>1.94</td>\n",
       "      <td>0.93</td>\n",
       "      <td>0.0000</td>\n",
       "    </tr>\n",
       "    <tr>\n",
       "      <th>18</th>\n",
       "      <td>Program End: 2023</td>\n",
       "      <td>0.27</td>\n",
       "      <td>0.45</td>\n",
       "      <td>0.46</td>\n",
       "      <td>0.50</td>\n",
       "      <td>0.72</td>\n",
       "      <td>0.45</td>\n",
       "      <td>0.0000</td>\n",
       "    </tr>\n",
       "    <tr>\n",
       "      <th>19</th>\n",
       "      <td>inc_wrk_strat</td>\n",
       "      <td>0.45</td>\n",
       "      <td>0.50</td>\n",
       "      <td>0.23</td>\n",
       "      <td>0.42</td>\n",
       "      <td>0.66</td>\n",
       "      <td>0.48</td>\n",
       "      <td>0.0000</td>\n",
       "    </tr>\n",
       "  </tbody>\n",
       "</table>\n",
       "</div>"
      ],
      "text/plain": [
       "                        Feature Mean G1  SD G1 Mean G2  SD G2 Mean G3  SD G3  \\\n",
       "0        Number of participants   38.93  16.63   76.59   9.12   74.02  10.99   \n",
       "1     Participation Eligibility   43.77  13.06   74.36  10.24   74.80  14.18   \n",
       "2        Expected Participation   52.67  17.49   83.01  11.17   83.46   9.87   \n",
       "3                 Funded by Org   57.48  30.59   23.63   6.68   56.30  18.62   \n",
       "4          Funded by Government   14.25  12.24   23.10  10.23   12.40   9.44   \n",
       "5             tr_sk_n_f_finance    0.23   0.43    0.11   0.32    0.54   0.50   \n",
       "6                  p_fund_other    3.25   8.47   10.19  10.79    2.10   5.45   \n",
       "7              Funded by Worker   12.33  12.11   22.87  10.91   15.20  10.97   \n",
       "8                        presp2    0.32   0.47    0.74   0.44    0.64   0.48   \n",
       "9                     p_resp_hr    0.32   0.47    0.74   0.44    0.64   0.48   \n",
       "10  p_responsibility_HR Leaders    0.32   0.47    0.74   0.44    0.64   0.48   \n",
       "11     p_responsibility_hier_HR    0.32   0.47    0.74   0.44    0.64   0.48   \n",
       "12             sk_n_dig_advance    0.53   0.50    0.36   0.48    0.82   0.39   \n",
       "13                 mot_mgr_Easy    0.35   0.48    0.74   0.44    0.70   0.46   \n",
       "14              mot_wrkagg_Easy    0.50   0.50    0.84   0.37    0.84   0.37   \n",
       "15              mot_mgragg_Easy    0.52   0.50    0.83   0.38    0.88   0.33   \n",
       "16                        clus4    2.53   1.05    2.94   1.17    1.94   0.93   \n",
       "17                        clus5    2.53   1.05    2.94   1.17    1.94   0.93   \n",
       "18            Program End: 2023    0.27   0.45    0.46   0.50    0.72   0.45   \n",
       "19                inc_wrk_strat    0.45   0.50    0.23   0.42    0.66   0.48   \n",
       "\n",
       "   p-value  \n",
       "0   0.0000  \n",
       "1   0.0000  \n",
       "2   0.0000  \n",
       "3   0.0000  \n",
       "4   0.0000  \n",
       "5   0.0000  \n",
       "6   0.0000  \n",
       "7   0.0000  \n",
       "8   0.0000  \n",
       "9   0.0000  \n",
       "10  0.0000  \n",
       "11  0.0000  \n",
       "12  0.0000  \n",
       "13  0.0000  \n",
       "14  0.0000  \n",
       "15  0.0000  \n",
       "16  0.0000  \n",
       "17  0.0000  \n",
       "18  0.0000  \n",
       "19  0.0000  "
      ]
     },
     "metadata": {},
     "output_type": "display_data"
    },
    {
     "data": {
      "text/plain": [
       "<Figure size 1000x600 with 0 Axes>"
      ]
     },
     "metadata": {},
     "output_type": "display_data"
    },
    {
     "data": {
      "text/plain": [
       "<Figure size 1000x600 with 0 Axes>"
      ]
     },
     "metadata": {},
     "output_type": "display_data"
    },
    {
     "data": {
      "text/plain": [
       "<Figure size 1000x600 with 0 Axes>"
      ]
     },
     "metadata": {},
     "output_type": "display_data"
    },
    {
     "data": {
      "text/plain": [
       "<Figure size 1000x600 with 0 Axes>"
      ]
     },
     "metadata": {},
     "output_type": "display_data"
    },
    {
     "data": {
      "text/plain": [
       "<Figure size 1000x600 with 0 Axes>"
      ]
     },
     "metadata": {},
     "output_type": "display_data"
    },
    {
     "data": {
      "text/plain": [
       "<Figure size 1000x600 with 0 Axes>"
      ]
     },
     "metadata": {},
     "output_type": "display_data"
    },
    {
     "data": {
      "text/plain": [
       "<Figure size 1000x600 with 0 Axes>"
      ]
     },
     "metadata": {},
     "output_type": "display_data"
    },
    {
     "data": {
      "text/plain": [
       "<Figure size 1000x600 with 0 Axes>"
      ]
     },
     "metadata": {},
     "output_type": "display_data"
    },
    {
     "data": {
      "text/plain": [
       "<Figure size 1000x600 with 0 Axes>"
      ]
     },
     "metadata": {},
     "output_type": "display_data"
    },
    {
     "data": {
      "text/plain": [
       "<Figure size 1000x600 with 0 Axes>"
      ]
     },
     "metadata": {},
     "output_type": "display_data"
    },
    {
     "data": {
      "text/plain": [
       "<Figure size 1000x600 with 0 Axes>"
      ]
     },
     "metadata": {},
     "output_type": "display_data"
    },
    {
     "data": {
      "text/plain": [
       "<Figure size 1000x600 with 0 Axes>"
      ]
     },
     "metadata": {},
     "output_type": "display_data"
    },
    {
     "data": {
      "text/plain": [
       "<Figure size 1000x600 with 0 Axes>"
      ]
     },
     "metadata": {},
     "output_type": "display_data"
    },
    {
     "data": {
      "text/plain": [
       "<Figure size 1000x600 with 0 Axes>"
      ]
     },
     "metadata": {},
     "output_type": "display_data"
    },
    {
     "data": {
      "text/plain": [
       "<Figure size 1000x600 with 0 Axes>"
      ]
     },
     "metadata": {},
     "output_type": "display_data"
    },
    {
     "data": {
      "text/plain": [
       "<Figure size 1000x600 with 0 Axes>"
      ]
     },
     "metadata": {},
     "output_type": "display_data"
    },
    {
     "data": {
      "text/plain": [
       "<Figure size 1000x600 with 0 Axes>"
      ]
     },
     "metadata": {},
     "output_type": "display_data"
    },
    {
     "data": {
      "text/plain": [
       "<Figure size 1000x600 with 0 Axes>"
      ]
     },
     "metadata": {},
     "output_type": "display_data"
    },
    {
     "data": {
      "text/plain": [
       "<Figure size 1000x600 with 0 Axes>"
      ]
     },
     "metadata": {},
     "output_type": "display_data"
    },
    {
     "data": {
      "text/plain": [
       "<Figure size 1000x600 with 0 Axes>"
      ]
     },
     "metadata": {},
     "output_type": "display_data"
    },
    {
     "data": {
      "text/plain": [
       "<Figure size 1000x600 with 0 Axes>"
      ]
     },
     "metadata": {},
     "output_type": "display_data"
    },
    {
     "data": {
      "text/plain": [
       "<Figure size 1000x600 with 0 Axes>"
      ]
     },
     "metadata": {},
     "output_type": "display_data"
    },
    {
     "data": {
      "text/plain": [
       "<Figure size 1000x600 with 0 Axes>"
      ]
     },
     "metadata": {},
     "output_type": "display_data"
    },
    {
     "data": {
      "text/plain": [
       "<Figure size 1000x600 with 0 Axes>"
      ]
     },
     "metadata": {},
     "output_type": "display_data"
    },
    {
     "data": {
      "text/plain": [
       "<Figure size 1000x600 with 0 Axes>"
      ]
     },
     "metadata": {},
     "output_type": "display_data"
    },
    {
     "data": {
      "text/plain": [
       "<Figure size 1000x600 with 0 Axes>"
      ]
     },
     "metadata": {},
     "output_type": "display_data"
    },
    {
     "data": {
      "text/plain": [
       "<Figure size 1000x600 with 0 Axes>"
      ]
     },
     "metadata": {},
     "output_type": "display_data"
    },
    {
     "data": {
      "text/plain": [
       "<Figure size 1000x600 with 0 Axes>"
      ]
     },
     "metadata": {},
     "output_type": "display_data"
    },
    {
     "data": {
      "text/plain": [
       "<Figure size 1000x600 with 0 Axes>"
      ]
     },
     "metadata": {},
     "output_type": "display_data"
    },
    {
     "data": {
      "text/plain": [
       "<Figure size 1000x600 with 0 Axes>"
      ]
     },
     "metadata": {},
     "output_type": "display_data"
    },
    {
     "data": {
      "text/plain": [
       "<Figure size 1000x600 with 0 Axes>"
      ]
     },
     "metadata": {},
     "output_type": "display_data"
    },
    {
     "data": {
      "text/plain": [
       "<Figure size 1000x600 with 0 Axes>"
      ]
     },
     "metadata": {},
     "output_type": "display_data"
    },
    {
     "data": {
      "text/plain": [
       "<Figure size 1000x600 with 0 Axes>"
      ]
     },
     "metadata": {},
     "output_type": "display_data"
    },
    {
     "data": {
      "text/plain": [
       "<Figure size 1000x600 with 0 Axes>"
      ]
     },
     "metadata": {},
     "output_type": "display_data"
    },
    {
     "data": {
      "text/plain": [
       "<Figure size 1000x600 with 0 Axes>"
      ]
     },
     "metadata": {},
     "output_type": "display_data"
    },
    {
     "data": {
      "text/plain": [
       "<Figure size 1000x600 with 0 Axes>"
      ]
     },
     "metadata": {},
     "output_type": "display_data"
    },
    {
     "data": {
      "text/plain": [
       "<Figure size 1000x600 with 0 Axes>"
      ]
     },
     "metadata": {},
     "output_type": "display_data"
    },
    {
     "data": {
      "text/plain": [
       "<Figure size 1000x600 with 0 Axes>"
      ]
     },
     "metadata": {},
     "output_type": "display_data"
    },
    {
     "data": {
      "text/plain": [
       "<Figure size 1000x600 with 0 Axes>"
      ]
     },
     "metadata": {},
     "output_type": "display_data"
    },
    {
     "data": {
      "text/plain": [
       "<Figure size 1000x600 with 0 Axes>"
      ]
     },
     "metadata": {},
     "output_type": "display_data"
    }
   ],
   "source": [
    "def analyze_clusters(df, n_clusters):\n",
    "    \"\"\"\n",
    "    Main analysis function for clusters\n",
    "    Args:\n",
    "        df: DataFrame with cluster assignments\n",
    "        n_clusters: Number of clusters to analyze\n",
    "    \"\"\"\n",
    "    # Drop unnecessary columns if they exist\n",
    "    if n_clusters == 3:\n",
    "        df.drop([\"tr_part\", \"tr_eligibility\", \"tr_part_exp\"], axis=1, inplace=True)\n",
    "    \n",
    "    # Perform statistical analysis\n",
    "    top_vars = perform_statistical_analysis(df, n_clusters)\n",
    "    \n",
    "    # Create plots and save them\n",
    "    create_density_plots(df, top_vars['Variable'].tolist(), \n",
    "                        n_clusters=n_clusters, \n",
    "                        analysis_type=\"all_vars\")\n",
    "    \n",
    "    # Generate and print LaTeX table and pandas table\n",
    "    latex_table, pd_table = create_statistical_table(df, 'KMeans_Cluster', \n",
    "                                                   zip(top_vars['Variable'], top_vars['p_value']), \n",
    "                                                   n_clusters)\n",
    "    print(f\"\\nLaTeX Table for {n_clusters}-Cluster Analysis:\")\n",
    "    print(latex_table)\n",
    "    print(f\"\\nVisualized Table for {n_clusters}-Cluster Analysis:\")\n",
    "    display(pd_table)\n",
    "    \n",
    "    return top_vars\n",
    "\n",
    "# Execute analysis for 3 clusters\n",
    "df_3clusters = pd.read_csv(\"../Output/Results/clusters_3_construction.csv\")\n",
    "top_vars_3clusters = analyze_clusters(df_3clusters, 3)"
   ]
  },
  {
   "cell_type": "code",
   "execution_count": 3,
   "metadata": {},
   "outputs": [
    {
     "name": "stdout",
     "output_type": "stream",
     "text": [
      "\n",
      "LaTeX Table for 3-Cluster Analysis:\n",
      "\\begin{tabular}{lcccccc}\n",
      "Feature & Mean G1 & SD G1 & Mean G2 & SD G2 & Mean G3 & SD G3 & p-value \\\\\n",
      "\\hline\n",
      "Funded by Government & 21.61 & 14.97 & 0.96 & 3.66 & 21.70 & 11.87 & 0.0000 \\\\\n",
      "p_fund_union & 15.99 & 13.20 & 0.42 & 2.97 & 19.22 & 8.59 & 0.0000 \\\\\n",
      "Funded by Worker & 16.82 & 15.87 & 1.18 & 4.72 & 20.96 & 12.80 & 0.0000 \\\\\n",
      "Funded by Org & 41.41 & 20.64 & 97.23 & 7.01 & 28.92 & 13.86 & 0.0000 \\\\\n",
      "Expected Participation & 58.71 & 18.00 & 54.93 & 25.39 & 84.07 & 9.81 & 0.0000 \\\\\n",
      "Number of participants & 48.99 & 18.37 & 41.43 & 23.72 & 76.22 & 11.31 & 0.0000 \\\\\n",
      "Participation Eligibility & 54.23 & 17.49 & 54.18 & 23.38 & 74.04 & 12.65 & 0.0000 \\\\\n",
      "p_fund_other & 4.16 & 8.53 & 0.21 & 1.82 & 9.21 & 10.32 & 0.0000 \\\\\n",
      "p_participated_coarse & 1.96 & 0.77 & 1.76 & 0.80 & 2.30 & 0.77 & 0.0000 \\\\\n",
      "Total Nr of KPIs & 3.51 & 1.82 & 4.00 & 1.85 & 3.33 & 1.42 & 0.0000 \\\\\n",
      "Program Length (Years) & 1.67 & 1.12 & 1.91 & 1.18 & 1.49 & 1.03 & 0.0001 \\\\\n",
      "f_size_n & 4.39 & 1.65 & 4.49 & 2.12 & 5.02 & 1.76 & 0.0001 \\\\\n",
      "Program Effectiveness & 2.54 & 0.51 & 2.42 & 0.50 & 2.57 & 0.52 & 0.0015 \\\\\n",
      "Total Nr skills needed & 5.62 & 2.98 & 4.91 & 2.37 & 5.58 & 3.15 & 0.0041 \\\\\n",
      "b_sk_n_soft & 0.88 & 0.74 & 0.81 & 0.74 & 1.02 & 0.78 & 0.0042 \\\\\n",
      "clus5 & 2.31 & 1.09 & 2.51 & 1.14 & 2.63 & 1.15 & 0.0042 \\\\\n",
      "clus4 & 2.31 & 1.09 & 2.51 & 1.14 & 2.63 & 1.15 & 0.0042 \\\\\n",
      "b_sk_n_digital & 1.71 & 1.13 & 1.39 & 1.04 & 1.54 & 1.24 & 0.0050 \\\\\n",
      "Needed share soft skill & 0.17 & 0.17 & 0.17 & 0.17 & 0.21 & 0.19 & 0.0075 \\\\\n",
      "b_sk_n_functional & 1.74 & 1.56 & 1.54 & 1.19 & 1.89 & 1.58 & 0.0152 \\\\\n",
      "\\end{tabular}\n",
      "\n",
      "Visualized Table for 3-Cluster Analysis:\n"
     ]
    },
    {
     "data": {
      "text/html": [
       "<div>\n",
       "<style scoped>\n",
       "    .dataframe tbody tr th:only-of-type {\n",
       "        vertical-align: middle;\n",
       "    }\n",
       "\n",
       "    .dataframe tbody tr th {\n",
       "        vertical-align: top;\n",
       "    }\n",
       "\n",
       "    .dataframe thead th {\n",
       "        text-align: right;\n",
       "    }\n",
       "</style>\n",
       "<table border=\"1\" class=\"dataframe\">\n",
       "  <thead>\n",
       "    <tr style=\"text-align: right;\">\n",
       "      <th></th>\n",
       "      <th>Feature</th>\n",
       "      <th>Mean G1</th>\n",
       "      <th>SD G1</th>\n",
       "      <th>Mean G2</th>\n",
       "      <th>SD G2</th>\n",
       "      <th>Mean G3</th>\n",
       "      <th>SD G3</th>\n",
       "      <th>p-value</th>\n",
       "    </tr>\n",
       "  </thead>\n",
       "  <tbody>\n",
       "    <tr>\n",
       "      <th>0</th>\n",
       "      <td>Funded by Government</td>\n",
       "      <td>21.61</td>\n",
       "      <td>14.97</td>\n",
       "      <td>0.96</td>\n",
       "      <td>3.66</td>\n",
       "      <td>21.70</td>\n",
       "      <td>11.87</td>\n",
       "      <td>0.0000</td>\n",
       "    </tr>\n",
       "    <tr>\n",
       "      <th>1</th>\n",
       "      <td>p_fund_union</td>\n",
       "      <td>15.99</td>\n",
       "      <td>13.20</td>\n",
       "      <td>0.42</td>\n",
       "      <td>2.97</td>\n",
       "      <td>19.22</td>\n",
       "      <td>8.59</td>\n",
       "      <td>0.0000</td>\n",
       "    </tr>\n",
       "    <tr>\n",
       "      <th>2</th>\n",
       "      <td>Funded by Worker</td>\n",
       "      <td>16.82</td>\n",
       "      <td>15.87</td>\n",
       "      <td>1.18</td>\n",
       "      <td>4.72</td>\n",
       "      <td>20.96</td>\n",
       "      <td>12.80</td>\n",
       "      <td>0.0000</td>\n",
       "    </tr>\n",
       "    <tr>\n",
       "      <th>3</th>\n",
       "      <td>Funded by Org</td>\n",
       "      <td>41.41</td>\n",
       "      <td>20.64</td>\n",
       "      <td>97.23</td>\n",
       "      <td>7.01</td>\n",
       "      <td>28.92</td>\n",
       "      <td>13.86</td>\n",
       "      <td>0.0000</td>\n",
       "    </tr>\n",
       "    <tr>\n",
       "      <th>4</th>\n",
       "      <td>Expected Participation</td>\n",
       "      <td>58.71</td>\n",
       "      <td>18.00</td>\n",
       "      <td>54.93</td>\n",
       "      <td>25.39</td>\n",
       "      <td>84.07</td>\n",
       "      <td>9.81</td>\n",
       "      <td>0.0000</td>\n",
       "    </tr>\n",
       "    <tr>\n",
       "      <th>5</th>\n",
       "      <td>Number of participants</td>\n",
       "      <td>48.99</td>\n",
       "      <td>18.37</td>\n",
       "      <td>41.43</td>\n",
       "      <td>23.72</td>\n",
       "      <td>76.22</td>\n",
       "      <td>11.31</td>\n",
       "      <td>0.0000</td>\n",
       "    </tr>\n",
       "    <tr>\n",
       "      <th>6</th>\n",
       "      <td>Participation Eligibility</td>\n",
       "      <td>54.23</td>\n",
       "      <td>17.49</td>\n",
       "      <td>54.18</td>\n",
       "      <td>23.38</td>\n",
       "      <td>74.04</td>\n",
       "      <td>12.65</td>\n",
       "      <td>0.0000</td>\n",
       "    </tr>\n",
       "    <tr>\n",
       "      <th>7</th>\n",
       "      <td>p_fund_other</td>\n",
       "      <td>4.16</td>\n",
       "      <td>8.53</td>\n",
       "      <td>0.21</td>\n",
       "      <td>1.82</td>\n",
       "      <td>9.21</td>\n",
       "      <td>10.32</td>\n",
       "      <td>0.0000</td>\n",
       "    </tr>\n",
       "    <tr>\n",
       "      <th>8</th>\n",
       "      <td>p_participated_coarse</td>\n",
       "      <td>1.96</td>\n",
       "      <td>0.77</td>\n",
       "      <td>1.76</td>\n",
       "      <td>0.80</td>\n",
       "      <td>2.30</td>\n",
       "      <td>0.77</td>\n",
       "      <td>0.0000</td>\n",
       "    </tr>\n",
       "    <tr>\n",
       "      <th>9</th>\n",
       "      <td>Total Nr of KPIs</td>\n",
       "      <td>3.51</td>\n",
       "      <td>1.82</td>\n",
       "      <td>4.00</td>\n",
       "      <td>1.85</td>\n",
       "      <td>3.33</td>\n",
       "      <td>1.42</td>\n",
       "      <td>0.0000</td>\n",
       "    </tr>\n",
       "    <tr>\n",
       "      <th>10</th>\n",
       "      <td>Program Length (Years)</td>\n",
       "      <td>1.67</td>\n",
       "      <td>1.12</td>\n",
       "      <td>1.91</td>\n",
       "      <td>1.18</td>\n",
       "      <td>1.49</td>\n",
       "      <td>1.03</td>\n",
       "      <td>0.0001</td>\n",
       "    </tr>\n",
       "    <tr>\n",
       "      <th>11</th>\n",
       "      <td>f_size_n</td>\n",
       "      <td>4.39</td>\n",
       "      <td>1.65</td>\n",
       "      <td>4.49</td>\n",
       "      <td>2.12</td>\n",
       "      <td>5.02</td>\n",
       "      <td>1.76</td>\n",
       "      <td>0.0001</td>\n",
       "    </tr>\n",
       "    <tr>\n",
       "      <th>12</th>\n",
       "      <td>Program Effectiveness</td>\n",
       "      <td>2.54</td>\n",
       "      <td>0.51</td>\n",
       "      <td>2.42</td>\n",
       "      <td>0.50</td>\n",
       "      <td>2.57</td>\n",
       "      <td>0.52</td>\n",
       "      <td>0.0015</td>\n",
       "    </tr>\n",
       "    <tr>\n",
       "      <th>13</th>\n",
       "      <td>Total Nr skills needed</td>\n",
       "      <td>5.62</td>\n",
       "      <td>2.98</td>\n",
       "      <td>4.91</td>\n",
       "      <td>2.37</td>\n",
       "      <td>5.58</td>\n",
       "      <td>3.15</td>\n",
       "      <td>0.0041</td>\n",
       "    </tr>\n",
       "    <tr>\n",
       "      <th>14</th>\n",
       "      <td>b_sk_n_soft</td>\n",
       "      <td>0.88</td>\n",
       "      <td>0.74</td>\n",
       "      <td>0.81</td>\n",
       "      <td>0.74</td>\n",
       "      <td>1.02</td>\n",
       "      <td>0.78</td>\n",
       "      <td>0.0042</td>\n",
       "    </tr>\n",
       "    <tr>\n",
       "      <th>15</th>\n",
       "      <td>clus5</td>\n",
       "      <td>2.31</td>\n",
       "      <td>1.09</td>\n",
       "      <td>2.51</td>\n",
       "      <td>1.14</td>\n",
       "      <td>2.63</td>\n",
       "      <td>1.15</td>\n",
       "      <td>0.0042</td>\n",
       "    </tr>\n",
       "    <tr>\n",
       "      <th>16</th>\n",
       "      <td>clus4</td>\n",
       "      <td>2.31</td>\n",
       "      <td>1.09</td>\n",
       "      <td>2.51</td>\n",
       "      <td>1.14</td>\n",
       "      <td>2.63</td>\n",
       "      <td>1.15</td>\n",
       "      <td>0.0042</td>\n",
       "    </tr>\n",
       "    <tr>\n",
       "      <th>17</th>\n",
       "      <td>b_sk_n_digital</td>\n",
       "      <td>1.71</td>\n",
       "      <td>1.13</td>\n",
       "      <td>1.39</td>\n",
       "      <td>1.04</td>\n",
       "      <td>1.54</td>\n",
       "      <td>1.24</td>\n",
       "      <td>0.0050</td>\n",
       "    </tr>\n",
       "    <tr>\n",
       "      <th>18</th>\n",
       "      <td>Needed share soft skill</td>\n",
       "      <td>0.17</td>\n",
       "      <td>0.17</td>\n",
       "      <td>0.17</td>\n",
       "      <td>0.17</td>\n",
       "      <td>0.21</td>\n",
       "      <td>0.19</td>\n",
       "      <td>0.0075</td>\n",
       "    </tr>\n",
       "    <tr>\n",
       "      <th>19</th>\n",
       "      <td>b_sk_n_functional</td>\n",
       "      <td>1.74</td>\n",
       "      <td>1.56</td>\n",
       "      <td>1.54</td>\n",
       "      <td>1.19</td>\n",
       "      <td>1.89</td>\n",
       "      <td>1.58</td>\n",
       "      <td>0.0152</td>\n",
       "    </tr>\n",
       "  </tbody>\n",
       "</table>\n",
       "</div>"
      ],
      "text/plain": [
       "                      Feature Mean G1  SD G1 Mean G2  SD G2 Mean G3  SD G3  \\\n",
       "0        Funded by Government   21.61  14.97    0.96   3.66   21.70  11.87   \n",
       "1                p_fund_union   15.99  13.20    0.42   2.97   19.22   8.59   \n",
       "2            Funded by Worker   16.82  15.87    1.18   4.72   20.96  12.80   \n",
       "3               Funded by Org   41.41  20.64   97.23   7.01   28.92  13.86   \n",
       "4      Expected Participation   58.71  18.00   54.93  25.39   84.07   9.81   \n",
       "5      Number of participants   48.99  18.37   41.43  23.72   76.22  11.31   \n",
       "6   Participation Eligibility   54.23  17.49   54.18  23.38   74.04  12.65   \n",
       "7                p_fund_other    4.16   8.53    0.21   1.82    9.21  10.32   \n",
       "8       p_participated_coarse    1.96   0.77    1.76   0.80    2.30   0.77   \n",
       "9            Total Nr of KPIs    3.51   1.82    4.00   1.85    3.33   1.42   \n",
       "10     Program Length (Years)    1.67   1.12    1.91   1.18    1.49   1.03   \n",
       "11                   f_size_n    4.39   1.65    4.49   2.12    5.02   1.76   \n",
       "12      Program Effectiveness    2.54   0.51    2.42   0.50    2.57   0.52   \n",
       "13     Total Nr skills needed    5.62   2.98    4.91   2.37    5.58   3.15   \n",
       "14                b_sk_n_soft    0.88   0.74    0.81   0.74    1.02   0.78   \n",
       "15                      clus5    2.31   1.09    2.51   1.14    2.63   1.15   \n",
       "16                      clus4    2.31   1.09    2.51   1.14    2.63   1.15   \n",
       "17             b_sk_n_digital    1.71   1.13    1.39   1.04    1.54   1.24   \n",
       "18    Needed share soft skill    0.17   0.17    0.17   0.17    0.21   0.19   \n",
       "19          b_sk_n_functional    1.74   1.56    1.54   1.19    1.89   1.58   \n",
       "\n",
       "   p-value  \n",
       "0   0.0000  \n",
       "1   0.0000  \n",
       "2   0.0000  \n",
       "3   0.0000  \n",
       "4   0.0000  \n",
       "5   0.0000  \n",
       "6   0.0000  \n",
       "7   0.0000  \n",
       "8   0.0000  \n",
       "9   0.0000  \n",
       "10  0.0001  \n",
       "11  0.0001  \n",
       "12  0.0015  \n",
       "13  0.0041  \n",
       "14  0.0042  \n",
       "15  0.0042  \n",
       "16  0.0042  \n",
       "17  0.0050  \n",
       "18  0.0075  \n",
       "19  0.0152  "
      ]
     },
     "metadata": {},
     "output_type": "display_data"
    },
    {
     "data": {
      "text/plain": [
       "<Figure size 1000x600 with 0 Axes>"
      ]
     },
     "metadata": {},
     "output_type": "display_data"
    },
    {
     "data": {
      "text/plain": [
       "<Figure size 1000x600 with 0 Axes>"
      ]
     },
     "metadata": {},
     "output_type": "display_data"
    },
    {
     "data": {
      "text/plain": [
       "<Figure size 1000x600 with 0 Axes>"
      ]
     },
     "metadata": {},
     "output_type": "display_data"
    },
    {
     "data": {
      "text/plain": [
       "<Figure size 1000x600 with 0 Axes>"
      ]
     },
     "metadata": {},
     "output_type": "display_data"
    },
    {
     "data": {
      "text/plain": [
       "<Figure size 1000x600 with 0 Axes>"
      ]
     },
     "metadata": {},
     "output_type": "display_data"
    },
    {
     "data": {
      "text/plain": [
       "<Figure size 1000x600 with 0 Axes>"
      ]
     },
     "metadata": {},
     "output_type": "display_data"
    },
    {
     "data": {
      "text/plain": [
       "<Figure size 1000x600 with 0 Axes>"
      ]
     },
     "metadata": {},
     "output_type": "display_data"
    },
    {
     "data": {
      "text/plain": [
       "<Figure size 1000x600 with 0 Axes>"
      ]
     },
     "metadata": {},
     "output_type": "display_data"
    },
    {
     "data": {
      "text/plain": [
       "<Figure size 1000x600 with 0 Axes>"
      ]
     },
     "metadata": {},
     "output_type": "display_data"
    },
    {
     "data": {
      "text/plain": [
       "<Figure size 1000x600 with 0 Axes>"
      ]
     },
     "metadata": {},
     "output_type": "display_data"
    },
    {
     "data": {
      "text/plain": [
       "<Figure size 1000x600 with 0 Axes>"
      ]
     },
     "metadata": {},
     "output_type": "display_data"
    },
    {
     "data": {
      "text/plain": [
       "<Figure size 1000x600 with 0 Axes>"
      ]
     },
     "metadata": {},
     "output_type": "display_data"
    },
    {
     "data": {
      "text/plain": [
       "<Figure size 1000x600 with 0 Axes>"
      ]
     },
     "metadata": {},
     "output_type": "display_data"
    },
    {
     "data": {
      "text/plain": [
       "<Figure size 1000x600 with 0 Axes>"
      ]
     },
     "metadata": {},
     "output_type": "display_data"
    },
    {
     "data": {
      "text/plain": [
       "<Figure size 1000x600 with 0 Axes>"
      ]
     },
     "metadata": {},
     "output_type": "display_data"
    },
    {
     "data": {
      "text/plain": [
       "<Figure size 1000x600 with 0 Axes>"
      ]
     },
     "metadata": {},
     "output_type": "display_data"
    },
    {
     "data": {
      "text/plain": [
       "<Figure size 1000x600 with 0 Axes>"
      ]
     },
     "metadata": {},
     "output_type": "display_data"
    },
    {
     "data": {
      "text/plain": [
       "<Figure size 1000x600 with 0 Axes>"
      ]
     },
     "metadata": {},
     "output_type": "display_data"
    },
    {
     "data": {
      "text/plain": [
       "<Figure size 1000x600 with 0 Axes>"
      ]
     },
     "metadata": {},
     "output_type": "display_data"
    },
    {
     "data": {
      "text/plain": [
       "<Figure size 1000x600 with 0 Axes>"
      ]
     },
     "metadata": {},
     "output_type": "display_data"
    },
    {
     "data": {
      "text/plain": [
       "<Figure size 1000x600 with 0 Axes>"
      ]
     },
     "metadata": {},
     "output_type": "display_data"
    },
    {
     "data": {
      "text/plain": [
       "<Figure size 1000x600 with 0 Axes>"
      ]
     },
     "metadata": {},
     "output_type": "display_data"
    },
    {
     "data": {
      "text/plain": [
       "<Figure size 1000x600 with 0 Axes>"
      ]
     },
     "metadata": {},
     "output_type": "display_data"
    },
    {
     "data": {
      "text/plain": [
       "<Figure size 1000x600 with 0 Axes>"
      ]
     },
     "metadata": {},
     "output_type": "display_data"
    },
    {
     "data": {
      "text/plain": [
       "<Figure size 1000x600 with 0 Axes>"
      ]
     },
     "metadata": {},
     "output_type": "display_data"
    },
    {
     "data": {
      "text/plain": [
       "<Figure size 1000x600 with 0 Axes>"
      ]
     },
     "metadata": {},
     "output_type": "display_data"
    },
    {
     "data": {
      "text/plain": [
       "<Figure size 1000x600 with 0 Axes>"
      ]
     },
     "metadata": {},
     "output_type": "display_data"
    },
    {
     "data": {
      "text/plain": [
       "<Figure size 1000x600 with 0 Axes>"
      ]
     },
     "metadata": {},
     "output_type": "display_data"
    },
    {
     "data": {
      "text/plain": [
       "<Figure size 1000x600 with 0 Axes>"
      ]
     },
     "metadata": {},
     "output_type": "display_data"
    },
    {
     "data": {
      "text/plain": [
       "<Figure size 1000x600 with 0 Axes>"
      ]
     },
     "metadata": {},
     "output_type": "display_data"
    },
    {
     "data": {
      "text/plain": [
       "<Figure size 1000x600 with 0 Axes>"
      ]
     },
     "metadata": {},
     "output_type": "display_data"
    },
    {
     "data": {
      "text/plain": [
       "<Figure size 1000x600 with 0 Axes>"
      ]
     },
     "metadata": {},
     "output_type": "display_data"
    },
    {
     "data": {
      "text/plain": [
       "<Figure size 1000x600 with 0 Axes>"
      ]
     },
     "metadata": {},
     "output_type": "display_data"
    },
    {
     "data": {
      "text/plain": [
       "<Figure size 1000x600 with 0 Axes>"
      ]
     },
     "metadata": {},
     "output_type": "display_data"
    },
    {
     "data": {
      "text/plain": [
       "<Figure size 1000x600 with 0 Axes>"
      ]
     },
     "metadata": {},
     "output_type": "display_data"
    },
    {
     "data": {
      "text/plain": [
       "<Figure size 1000x600 with 0 Axes>"
      ]
     },
     "metadata": {},
     "output_type": "display_data"
    },
    {
     "data": {
      "text/plain": [
       "<Figure size 1000x600 with 0 Axes>"
      ]
     },
     "metadata": {},
     "output_type": "display_data"
    },
    {
     "data": {
      "text/plain": [
       "<Figure size 1000x600 with 0 Axes>"
      ]
     },
     "metadata": {},
     "output_type": "display_data"
    },
    {
     "data": {
      "text/plain": [
       "<Figure size 1000x600 with 0 Axes>"
      ]
     },
     "metadata": {},
     "output_type": "display_data"
    },
    {
     "data": {
      "text/plain": [
       "<Figure size 1000x600 with 0 Axes>"
      ]
     },
     "metadata": {},
     "output_type": "display_data"
    },
    {
     "data": {
      "text/plain": [
       "<Figure size 1000x600 with 0 Axes>"
      ]
     },
     "metadata": {},
     "output_type": "display_data"
    },
    {
     "data": {
      "text/plain": [
       "<Figure size 1000x600 with 0 Axes>"
      ]
     },
     "metadata": {},
     "output_type": "display_data"
    },
    {
     "data": {
      "text/plain": [
       "<Figure size 1000x600 with 0 Axes>"
      ]
     },
     "metadata": {},
     "output_type": "display_data"
    },
    {
     "data": {
      "text/plain": [
       "<Figure size 1000x600 with 0 Axes>"
      ]
     },
     "metadata": {},
     "output_type": "display_data"
    },
    {
     "data": {
      "text/plain": [
       "<Figure size 1000x600 with 0 Axes>"
      ]
     },
     "metadata": {},
     "output_type": "display_data"
    },
    {
     "data": {
      "text/plain": [
       "<Figure size 1000x600 with 0 Axes>"
      ]
     },
     "metadata": {},
     "output_type": "display_data"
    },
    {
     "data": {
      "text/plain": [
       "<Figure size 1000x600 with 0 Axes>"
      ]
     },
     "metadata": {},
     "output_type": "display_data"
    },
    {
     "data": {
      "text/plain": [
       "<Figure size 1000x600 with 0 Axes>"
      ]
     },
     "metadata": {},
     "output_type": "display_data"
    },
    {
     "data": {
      "text/plain": [
       "<Figure size 1000x600 with 0 Axes>"
      ]
     },
     "metadata": {},
     "output_type": "display_data"
    },
    {
     "data": {
      "text/plain": [
       "<Figure size 1000x600 with 0 Axes>"
      ]
     },
     "metadata": {},
     "output_type": "display_data"
    },
    {
     "data": {
      "text/plain": [
       "<Figure size 1000x600 with 0 Axes>"
      ]
     },
     "metadata": {},
     "output_type": "display_data"
    },
    {
     "data": {
      "text/plain": [
       "<Figure size 1000x600 with 0 Axes>"
      ]
     },
     "metadata": {},
     "output_type": "display_data"
    },
    {
     "data": {
      "text/plain": [
       "<Figure size 1000x600 with 0 Axes>"
      ]
     },
     "metadata": {},
     "output_type": "display_data"
    },
    {
     "data": {
      "text/plain": [
       "<Figure size 1000x600 with 0 Axes>"
      ]
     },
     "metadata": {},
     "output_type": "display_data"
    },
    {
     "data": {
      "text/plain": [
       "<Figure size 1000x600 with 0 Axes>"
      ]
     },
     "metadata": {},
     "output_type": "display_data"
    },
    {
     "data": {
      "text/plain": [
       "<Figure size 1000x600 with 0 Axes>"
      ]
     },
     "metadata": {},
     "output_type": "display_data"
    },
    {
     "data": {
      "text/plain": [
       "<Figure size 1000x600 with 0 Axes>"
      ]
     },
     "metadata": {},
     "output_type": "display_data"
    },
    {
     "data": {
      "text/plain": [
       "<Figure size 1000x600 with 0 Axes>"
      ]
     },
     "metadata": {},
     "output_type": "display_data"
    },
    {
     "data": {
      "text/plain": [
       "<Figure size 1000x600 with 0 Axes>"
      ]
     },
     "metadata": {},
     "output_type": "display_data"
    },
    {
     "data": {
      "text/plain": [
       "<Figure size 1000x600 with 0 Axes>"
      ]
     },
     "metadata": {},
     "output_type": "display_data"
    }
   ],
   "source": [
    "import umap\n",
    "from sklearn.cluster import KMeans\n",
    "\n",
    "def analyze_without_dummies(df, n_clusters):\n",
    "    \"\"\"\n",
    "    Analysis excluding dummy variables\n",
    "    Args:\n",
    "        df: Original DataFrame\n",
    "        n_clusters: Number of clusters to analyze\n",
    "    \"\"\"\n",
    "    # Prepare data\n",
    "    df_numeric = df.apply(pd.to_numeric, errors='coerce')\n",
    "    df_numeric = df_numeric.dropna(axis=1, how='all')\n",
    "    df_no_dummies = df_numeric.loc[:, ~df_numeric.apply(es_dummy)]\n",
    "    df_no_year = df_no_dummies.loc[:, ~df_no_dummies.columns.str.contains('year', case=False)]\n",
    "    \n",
    "    # Perform clustering\n",
    "    reducer = umap.UMAP(random_state=42)\n",
    "    embedding = reducer.fit_transform(df_no_year.dropna())\n",
    "    kmeans = KMeans(n_clusters=n_clusters, random_state=42)\n",
    "    \n",
    "    # Prepare final dataset\n",
    "    df_analysis = df_no_year.dropna().copy()\n",
    "    df_analysis['KMeans_Cluster'] = kmeans.fit_predict(embedding)\n",
    "    \n",
    "    # Analyze and create visualizations\n",
    "    top_vars = analyze_clusters(df_analysis, n_clusters)\n",
    "    create_density_plots(df_analysis, top_vars['Variable'].tolist(),\n",
    "                        n_clusters=n_clusters,\n",
    "                        analysis_type=\"no_dummies\")\n",
    "    \n",
    "    return df_analysis, top_vars\n",
    "\n",
    "\n",
    "# Execute analysis without dummies for 3 clusters\n",
    "df = pd.read_stata(\"../Data/V1_qualflags_analysis2_ML.dta\")\n",
    "df_analysis_3, top_vars_3 = analyze_without_dummies(df, 3)"
   ]
  },
  {
   "cell_type": "markdown",
   "metadata": {},
   "source": [
    "## 3. Two-Cluster Analysis\n",
    "\n",
    "- T-test analysis for all variables\n",
    "- Statistical tables generation\n",
    "- Density plots for significant differences\n",
    "- Analysis without dummy variables"
   ]
  },
  {
   "cell_type": "code",
   "execution_count": 4,
   "metadata": {},
   "outputs": [
    {
     "name": "stdout",
     "output_type": "stream",
     "text": [
      "\n",
      "LaTeX Table for 2-Cluster Analysis:\n",
      "\\begin{tabular}{lcccc}\n",
      "Feature & Mean G1 & SD G1 & Mean G2 & SD G2 & p-value \\\\\n",
      "\\hline\n",
      "Number of participants & 45.95 & 19.66 & 77.22 & 8.83 & 0.0000 \\\\\n",
      "tr_part & 45.95 & 19.66 & 77.22 & 8.83 & 0.0000 \\\\\n",
      "tr_eligibility & 50.96 & 17.83 & 74.94 & 12.05 & 0.0000 \\\\\n",
      "Participation Eligibility & 50.96 & 17.83 & 74.94 & 12.05 & 0.0000 \\\\\n",
      "Expected Participation & 59.84 & 20.18 & 83.57 & 10.78 & 0.0000 \\\\\n",
      "tr_part_exp & 59.84 & 20.18 & 83.57 & 10.78 & 0.0000 \\\\\n",
      "Funded by Org & 61.30 & 28.42 & 30.14 & 12.66 & 0.0000 \\\\\n",
      "p_fund_union & 10.95 & 12.98 & 20.00 & 8.67 & 0.0000 \\\\\n",
      "Funded by Worker & 12.12 & 12.28 & 21.31 & 10.53 & 0.0000 \\\\\n",
      "p_resp_hr & 0.39 & 0.49 & 0.72 & 0.45 & 0.0000 \\\\\n",
      "presp2 & 0.39 & 0.49 & 0.72 & 0.45 & 0.0000 \\\\\n",
      "fsub & 0.66 & 0.48 & 0.93 & 0.26 & 0.0000 \\\\\n",
      "Funded by Government & 13.06 & 11.87 & 20.47 & 10.53 & 0.0000 \\\\\n",
      "p_fund_other & 2.56 & 7.49 & 8.08 & 10.22 & 0.0000 \\\\\n",
      "p_ongoing & 0.55 & 0.50 & 0.27 & 0.45 & 0.0001 \\\\\n",
      "p_target_top & 0.53 & 0.50 & 0.79 & 0.41 & 0.0002 \\\\\n",
      "presp1 & 0.35 & 0.48 & 0.14 & 0.35 & 0.0013 \\\\\n",
      "p_resp_top & 0.35 & 0.48 & 0.14 & 0.35 & 0.0013 \\\\\n",
      "dd_extdesign_gov & 0.16 & 0.37 & 0.37 & 0.49 & 0.0014 \\\\\n",
      "dd_extdesign_ta & 0.34 & 0.48 & 0.57 & 0.50 & 0.0017 \\\\\n",
      "\\end{tabular}\n",
      "\n",
      "Visualized Table for 2-Cluster Analysis:\n"
     ]
    },
    {
     "data": {
      "text/html": [
       "<div>\n",
       "<style scoped>\n",
       "    .dataframe tbody tr th:only-of-type {\n",
       "        vertical-align: middle;\n",
       "    }\n",
       "\n",
       "    .dataframe tbody tr th {\n",
       "        vertical-align: top;\n",
       "    }\n",
       "\n",
       "    .dataframe thead th {\n",
       "        text-align: right;\n",
       "    }\n",
       "</style>\n",
       "<table border=\"1\" class=\"dataframe\">\n",
       "  <thead>\n",
       "    <tr style=\"text-align: right;\">\n",
       "      <th></th>\n",
       "      <th>Feature</th>\n",
       "      <th>Mean G1</th>\n",
       "      <th>SD G1</th>\n",
       "      <th>Mean G2</th>\n",
       "      <th>SD G2</th>\n",
       "      <th>p-value</th>\n",
       "    </tr>\n",
       "  </thead>\n",
       "  <tbody>\n",
       "    <tr>\n",
       "      <th>0</th>\n",
       "      <td>Number of participants</td>\n",
       "      <td>45.95</td>\n",
       "      <td>19.66</td>\n",
       "      <td>77.22</td>\n",
       "      <td>8.83</td>\n",
       "      <td>0.0000</td>\n",
       "    </tr>\n",
       "    <tr>\n",
       "      <th>1</th>\n",
       "      <td>tr_part</td>\n",
       "      <td>45.95</td>\n",
       "      <td>19.66</td>\n",
       "      <td>77.22</td>\n",
       "      <td>8.83</td>\n",
       "      <td>0.0000</td>\n",
       "    </tr>\n",
       "    <tr>\n",
       "      <th>2</th>\n",
       "      <td>tr_eligibility</td>\n",
       "      <td>50.96</td>\n",
       "      <td>17.83</td>\n",
       "      <td>74.94</td>\n",
       "      <td>12.05</td>\n",
       "      <td>0.0000</td>\n",
       "    </tr>\n",
       "    <tr>\n",
       "      <th>3</th>\n",
       "      <td>Participation Eligibility</td>\n",
       "      <td>50.96</td>\n",
       "      <td>17.83</td>\n",
       "      <td>74.94</td>\n",
       "      <td>12.05</td>\n",
       "      <td>0.0000</td>\n",
       "    </tr>\n",
       "    <tr>\n",
       "      <th>4</th>\n",
       "      <td>Expected Participation</td>\n",
       "      <td>59.84</td>\n",
       "      <td>20.18</td>\n",
       "      <td>83.57</td>\n",
       "      <td>10.78</td>\n",
       "      <td>0.0000</td>\n",
       "    </tr>\n",
       "    <tr>\n",
       "      <th>5</th>\n",
       "      <td>tr_part_exp</td>\n",
       "      <td>59.84</td>\n",
       "      <td>20.18</td>\n",
       "      <td>83.57</td>\n",
       "      <td>10.78</td>\n",
       "      <td>0.0000</td>\n",
       "    </tr>\n",
       "    <tr>\n",
       "      <th>6</th>\n",
       "      <td>Funded by Org</td>\n",
       "      <td>61.30</td>\n",
       "      <td>28.42</td>\n",
       "      <td>30.14</td>\n",
       "      <td>12.66</td>\n",
       "      <td>0.0000</td>\n",
       "    </tr>\n",
       "    <tr>\n",
       "      <th>7</th>\n",
       "      <td>p_fund_union</td>\n",
       "      <td>10.95</td>\n",
       "      <td>12.98</td>\n",
       "      <td>20.00</td>\n",
       "      <td>8.67</td>\n",
       "      <td>0.0000</td>\n",
       "    </tr>\n",
       "    <tr>\n",
       "      <th>8</th>\n",
       "      <td>Funded by Worker</td>\n",
       "      <td>12.12</td>\n",
       "      <td>12.28</td>\n",
       "      <td>21.31</td>\n",
       "      <td>10.53</td>\n",
       "      <td>0.0000</td>\n",
       "    </tr>\n",
       "    <tr>\n",
       "      <th>9</th>\n",
       "      <td>p_resp_hr</td>\n",
       "      <td>0.39</td>\n",
       "      <td>0.49</td>\n",
       "      <td>0.72</td>\n",
       "      <td>0.45</td>\n",
       "      <td>0.0000</td>\n",
       "    </tr>\n",
       "    <tr>\n",
       "      <th>10</th>\n",
       "      <td>presp2</td>\n",
       "      <td>0.39</td>\n",
       "      <td>0.49</td>\n",
       "      <td>0.72</td>\n",
       "      <td>0.45</td>\n",
       "      <td>0.0000</td>\n",
       "    </tr>\n",
       "    <tr>\n",
       "      <th>11</th>\n",
       "      <td>fsub</td>\n",
       "      <td>0.66</td>\n",
       "      <td>0.48</td>\n",
       "      <td>0.93</td>\n",
       "      <td>0.26</td>\n",
       "      <td>0.0000</td>\n",
       "    </tr>\n",
       "    <tr>\n",
       "      <th>12</th>\n",
       "      <td>Funded by Government</td>\n",
       "      <td>13.06</td>\n",
       "      <td>11.87</td>\n",
       "      <td>20.47</td>\n",
       "      <td>10.53</td>\n",
       "      <td>0.0000</td>\n",
       "    </tr>\n",
       "    <tr>\n",
       "      <th>13</th>\n",
       "      <td>p_fund_other</td>\n",
       "      <td>2.56</td>\n",
       "      <td>7.49</td>\n",
       "      <td>8.08</td>\n",
       "      <td>10.22</td>\n",
       "      <td>0.0000</td>\n",
       "    </tr>\n",
       "    <tr>\n",
       "      <th>14</th>\n",
       "      <td>p_ongoing</td>\n",
       "      <td>0.55</td>\n",
       "      <td>0.50</td>\n",
       "      <td>0.27</td>\n",
       "      <td>0.45</td>\n",
       "      <td>0.0001</td>\n",
       "    </tr>\n",
       "    <tr>\n",
       "      <th>15</th>\n",
       "      <td>p_target_top</td>\n",
       "      <td>0.53</td>\n",
       "      <td>0.50</td>\n",
       "      <td>0.79</td>\n",
       "      <td>0.41</td>\n",
       "      <td>0.0002</td>\n",
       "    </tr>\n",
       "    <tr>\n",
       "      <th>16</th>\n",
       "      <td>presp1</td>\n",
       "      <td>0.35</td>\n",
       "      <td>0.48</td>\n",
       "      <td>0.14</td>\n",
       "      <td>0.35</td>\n",
       "      <td>0.0013</td>\n",
       "    </tr>\n",
       "    <tr>\n",
       "      <th>17</th>\n",
       "      <td>p_resp_top</td>\n",
       "      <td>0.35</td>\n",
       "      <td>0.48</td>\n",
       "      <td>0.14</td>\n",
       "      <td>0.35</td>\n",
       "      <td>0.0013</td>\n",
       "    </tr>\n",
       "    <tr>\n",
       "      <th>18</th>\n",
       "      <td>dd_extdesign_gov</td>\n",
       "      <td>0.16</td>\n",
       "      <td>0.37</td>\n",
       "      <td>0.37</td>\n",
       "      <td>0.49</td>\n",
       "      <td>0.0014</td>\n",
       "    </tr>\n",
       "    <tr>\n",
       "      <th>19</th>\n",
       "      <td>dd_extdesign_ta</td>\n",
       "      <td>0.34</td>\n",
       "      <td>0.48</td>\n",
       "      <td>0.57</td>\n",
       "      <td>0.50</td>\n",
       "      <td>0.0017</td>\n",
       "    </tr>\n",
       "  </tbody>\n",
       "</table>\n",
       "</div>"
      ],
      "text/plain": [
       "                      Feature Mean G1  SD G1 Mean G2  SD G2 p-value\n",
       "0      Number of participants   45.95  19.66   77.22   8.83  0.0000\n",
       "1                     tr_part   45.95  19.66   77.22   8.83  0.0000\n",
       "2              tr_eligibility   50.96  17.83   74.94  12.05  0.0000\n",
       "3   Participation Eligibility   50.96  17.83   74.94  12.05  0.0000\n",
       "4      Expected Participation   59.84  20.18   83.57  10.78  0.0000\n",
       "5                 tr_part_exp   59.84  20.18   83.57  10.78  0.0000\n",
       "6               Funded by Org   61.30  28.42   30.14  12.66  0.0000\n",
       "7                p_fund_union   10.95  12.98   20.00   8.67  0.0000\n",
       "8            Funded by Worker   12.12  12.28   21.31  10.53  0.0000\n",
       "9                   p_resp_hr    0.39   0.49    0.72   0.45  0.0000\n",
       "10                     presp2    0.39   0.49    0.72   0.45  0.0000\n",
       "11                       fsub    0.66   0.48    0.93   0.26  0.0000\n",
       "12       Funded by Government   13.06  11.87   20.47  10.53  0.0000\n",
       "13               p_fund_other    2.56   7.49    8.08  10.22  0.0000\n",
       "14                  p_ongoing    0.55   0.50    0.27   0.45  0.0001\n",
       "15               p_target_top    0.53   0.50    0.79   0.41  0.0002\n",
       "16                     presp1    0.35   0.48    0.14   0.35  0.0013\n",
       "17                 p_resp_top    0.35   0.48    0.14   0.35  0.0013\n",
       "18           dd_extdesign_gov    0.16   0.37    0.37   0.49  0.0014\n",
       "19            dd_extdesign_ta    0.34   0.48    0.57   0.50  0.0017"
      ]
     },
     "metadata": {},
     "output_type": "display_data"
    },
    {
     "name": "stdout",
     "output_type": "stream",
     "text": [
      "\n",
      "LaTeX Table for 2-Cluster Analysis:\n",
      "\\begin{tabular}{lcccc}\n",
      "Feature & Mean G1 & SD G1 & Mean G2 & SD G2 & p-value \\\\\n",
      "\\hline\n",
      "Funded by Org & 33.43 & 17.20 & 91.39 & 18.16 & 0.0000 \\\\\n",
      "p_fund_union & 18.77 & 10.48 & 1.00 & 5.21 & 0.0000 \\\\\n",
      "Funded by Worker & 19.82 & 13.69 & 2.17 & 8.67 & 0.0000 \\\\\n",
      "Number of participants & 66.33 & 16.79 & 38.68 & 23.31 & 0.0000 \\\\\n",
      "tr_part & 66.33 & 16.79 & 38.68 & 23.31 & 0.0000 \\\\\n",
      "Funded by Government & 20.95 & 12.54 & 4.86 & 12.72 & 0.0000 \\\\\n",
      "tr_part_exp & 74.68 & 15.87 & 52.21 & 25.25 & 0.0000 \\\\\n",
      "Expected Participation & 74.68 & 15.87 & 52.21 & 25.25 & 0.0000 \\\\\n",
      "p_fund_other & 7.03 & 9.84 & 0.58 & 3.63 & 0.0000 \\\\\n",
      "Participation Eligibility & 66.99 & 15.85 & 51.23 & 23.34 & 0.0000 \\\\\n",
      "tr_eligibility & 66.99 & 15.85 & 51.23 & 23.34 & 0.0000 \\\\\n",
      "p_participated_coarse & 2.17 & 0.77 & 1.75 & 0.80 & 0.0000 \\\\\n",
      "Total Nr of KPIs & 3.30 & 1.51 & 4.10 & 1.93 & 0.0000 \\\\\n",
      "Program Effectiveness & 2.57 & 0.51 & 2.42 & 0.51 & 0.0000 \\\\\n",
      "Program Length (Years) & 1.58 & 1.07 & 1.86 & 1.18 & 0.0005 \\\\\n",
      "Total Nr skills needed & 5.58 & 3.03 & 5.04 & 2.55 & 0.0056 \\\\\n",
      "b_sk_n_soft & 0.96 & 0.77 & 0.82 & 0.74 & 0.0077 \\\\\n",
      "share_matched & 0.48 & 0.30 & 0.54 & 0.28 & 0.0081 \\\\\n",
      "f_own & 2.68 & 1.21 & 2.92 & 1.62 & 0.0221 \\\\\n",
      "b_sk_n_digital & 1.62 & 1.18 & 1.44 & 1.07 & 0.0237 \\\\\n",
      "\\end{tabular}\n",
      "\n",
      "Visualized Table for 2-Cluster Analysis:\n"
     ]
    },
    {
     "data": {
      "text/html": [
       "<div>\n",
       "<style scoped>\n",
       "    .dataframe tbody tr th:only-of-type {\n",
       "        vertical-align: middle;\n",
       "    }\n",
       "\n",
       "    .dataframe tbody tr th {\n",
       "        vertical-align: top;\n",
       "    }\n",
       "\n",
       "    .dataframe thead th {\n",
       "        text-align: right;\n",
       "    }\n",
       "</style>\n",
       "<table border=\"1\" class=\"dataframe\">\n",
       "  <thead>\n",
       "    <tr style=\"text-align: right;\">\n",
       "      <th></th>\n",
       "      <th>Feature</th>\n",
       "      <th>Mean G1</th>\n",
       "      <th>SD G1</th>\n",
       "      <th>Mean G2</th>\n",
       "      <th>SD G2</th>\n",
       "      <th>p-value</th>\n",
       "    </tr>\n",
       "  </thead>\n",
       "  <tbody>\n",
       "    <tr>\n",
       "      <th>0</th>\n",
       "      <td>Funded by Org</td>\n",
       "      <td>33.43</td>\n",
       "      <td>17.20</td>\n",
       "      <td>91.39</td>\n",
       "      <td>18.16</td>\n",
       "      <td>0.0000</td>\n",
       "    </tr>\n",
       "    <tr>\n",
       "      <th>1</th>\n",
       "      <td>p_fund_union</td>\n",
       "      <td>18.77</td>\n",
       "      <td>10.48</td>\n",
       "      <td>1.00</td>\n",
       "      <td>5.21</td>\n",
       "      <td>0.0000</td>\n",
       "    </tr>\n",
       "    <tr>\n",
       "      <th>2</th>\n",
       "      <td>Funded by Worker</td>\n",
       "      <td>19.82</td>\n",
       "      <td>13.69</td>\n",
       "      <td>2.17</td>\n",
       "      <td>8.67</td>\n",
       "      <td>0.0000</td>\n",
       "    </tr>\n",
       "    <tr>\n",
       "      <th>3</th>\n",
       "      <td>Number of participants</td>\n",
       "      <td>66.33</td>\n",
       "      <td>16.79</td>\n",
       "      <td>38.68</td>\n",
       "      <td>23.31</td>\n",
       "      <td>0.0000</td>\n",
       "    </tr>\n",
       "    <tr>\n",
       "      <th>4</th>\n",
       "      <td>tr_part</td>\n",
       "      <td>66.33</td>\n",
       "      <td>16.79</td>\n",
       "      <td>38.68</td>\n",
       "      <td>23.31</td>\n",
       "      <td>0.0000</td>\n",
       "    </tr>\n",
       "    <tr>\n",
       "      <th>5</th>\n",
       "      <td>Funded by Government</td>\n",
       "      <td>20.95</td>\n",
       "      <td>12.54</td>\n",
       "      <td>4.86</td>\n",
       "      <td>12.72</td>\n",
       "      <td>0.0000</td>\n",
       "    </tr>\n",
       "    <tr>\n",
       "      <th>6</th>\n",
       "      <td>tr_part_exp</td>\n",
       "      <td>74.68</td>\n",
       "      <td>15.87</td>\n",
       "      <td>52.21</td>\n",
       "      <td>25.25</td>\n",
       "      <td>0.0000</td>\n",
       "    </tr>\n",
       "    <tr>\n",
       "      <th>7</th>\n",
       "      <td>Expected Participation</td>\n",
       "      <td>74.68</td>\n",
       "      <td>15.87</td>\n",
       "      <td>52.21</td>\n",
       "      <td>25.25</td>\n",
       "      <td>0.0000</td>\n",
       "    </tr>\n",
       "    <tr>\n",
       "      <th>8</th>\n",
       "      <td>p_fund_other</td>\n",
       "      <td>7.03</td>\n",
       "      <td>9.84</td>\n",
       "      <td>0.58</td>\n",
       "      <td>3.63</td>\n",
       "      <td>0.0000</td>\n",
       "    </tr>\n",
       "    <tr>\n",
       "      <th>9</th>\n",
       "      <td>Participation Eligibility</td>\n",
       "      <td>66.99</td>\n",
       "      <td>15.85</td>\n",
       "      <td>51.23</td>\n",
       "      <td>23.34</td>\n",
       "      <td>0.0000</td>\n",
       "    </tr>\n",
       "    <tr>\n",
       "      <th>10</th>\n",
       "      <td>tr_eligibility</td>\n",
       "      <td>66.99</td>\n",
       "      <td>15.85</td>\n",
       "      <td>51.23</td>\n",
       "      <td>23.34</td>\n",
       "      <td>0.0000</td>\n",
       "    </tr>\n",
       "    <tr>\n",
       "      <th>11</th>\n",
       "      <td>p_participated_coarse</td>\n",
       "      <td>2.17</td>\n",
       "      <td>0.77</td>\n",
       "      <td>1.75</td>\n",
       "      <td>0.80</td>\n",
       "      <td>0.0000</td>\n",
       "    </tr>\n",
       "    <tr>\n",
       "      <th>12</th>\n",
       "      <td>Total Nr of KPIs</td>\n",
       "      <td>3.30</td>\n",
       "      <td>1.51</td>\n",
       "      <td>4.10</td>\n",
       "      <td>1.93</td>\n",
       "      <td>0.0000</td>\n",
       "    </tr>\n",
       "    <tr>\n",
       "      <th>13</th>\n",
       "      <td>Program Effectiveness</td>\n",
       "      <td>2.57</td>\n",
       "      <td>0.51</td>\n",
       "      <td>2.42</td>\n",
       "      <td>0.51</td>\n",
       "      <td>0.0000</td>\n",
       "    </tr>\n",
       "    <tr>\n",
       "      <th>14</th>\n",
       "      <td>Program Length (Years)</td>\n",
       "      <td>1.58</td>\n",
       "      <td>1.07</td>\n",
       "      <td>1.86</td>\n",
       "      <td>1.18</td>\n",
       "      <td>0.0005</td>\n",
       "    </tr>\n",
       "    <tr>\n",
       "      <th>15</th>\n",
       "      <td>Total Nr skills needed</td>\n",
       "      <td>5.58</td>\n",
       "      <td>3.03</td>\n",
       "      <td>5.04</td>\n",
       "      <td>2.55</td>\n",
       "      <td>0.0056</td>\n",
       "    </tr>\n",
       "    <tr>\n",
       "      <th>16</th>\n",
       "      <td>b_sk_n_soft</td>\n",
       "      <td>0.96</td>\n",
       "      <td>0.77</td>\n",
       "      <td>0.82</td>\n",
       "      <td>0.74</td>\n",
       "      <td>0.0077</td>\n",
       "    </tr>\n",
       "    <tr>\n",
       "      <th>17</th>\n",
       "      <td>share_matched</td>\n",
       "      <td>0.48</td>\n",
       "      <td>0.30</td>\n",
       "      <td>0.54</td>\n",
       "      <td>0.28</td>\n",
       "      <td>0.0081</td>\n",
       "    </tr>\n",
       "    <tr>\n",
       "      <th>18</th>\n",
       "      <td>f_own</td>\n",
       "      <td>2.68</td>\n",
       "      <td>1.21</td>\n",
       "      <td>2.92</td>\n",
       "      <td>1.62</td>\n",
       "      <td>0.0221</td>\n",
       "    </tr>\n",
       "    <tr>\n",
       "      <th>19</th>\n",
       "      <td>b_sk_n_digital</td>\n",
       "      <td>1.62</td>\n",
       "      <td>1.18</td>\n",
       "      <td>1.44</td>\n",
       "      <td>1.07</td>\n",
       "      <td>0.0237</td>\n",
       "    </tr>\n",
       "  </tbody>\n",
       "</table>\n",
       "</div>"
      ],
      "text/plain": [
       "                      Feature Mean G1  SD G1 Mean G2  SD G2 p-value\n",
       "0               Funded by Org   33.43  17.20   91.39  18.16  0.0000\n",
       "1                p_fund_union   18.77  10.48    1.00   5.21  0.0000\n",
       "2            Funded by Worker   19.82  13.69    2.17   8.67  0.0000\n",
       "3      Number of participants   66.33  16.79   38.68  23.31  0.0000\n",
       "4                     tr_part   66.33  16.79   38.68  23.31  0.0000\n",
       "5        Funded by Government   20.95  12.54    4.86  12.72  0.0000\n",
       "6                 tr_part_exp   74.68  15.87   52.21  25.25  0.0000\n",
       "7      Expected Participation   74.68  15.87   52.21  25.25  0.0000\n",
       "8                p_fund_other    7.03   9.84    0.58   3.63  0.0000\n",
       "9   Participation Eligibility   66.99  15.85   51.23  23.34  0.0000\n",
       "10             tr_eligibility   66.99  15.85   51.23  23.34  0.0000\n",
       "11      p_participated_coarse    2.17   0.77    1.75   0.80  0.0000\n",
       "12           Total Nr of KPIs    3.30   1.51    4.10   1.93  0.0000\n",
       "13      Program Effectiveness    2.57   0.51    2.42   0.51  0.0000\n",
       "14     Program Length (Years)    1.58   1.07    1.86   1.18  0.0005\n",
       "15     Total Nr skills needed    5.58   3.03    5.04   2.55  0.0056\n",
       "16                b_sk_n_soft    0.96   0.77    0.82   0.74  0.0077\n",
       "17              share_matched    0.48   0.30    0.54   0.28  0.0081\n",
       "18                      f_own    2.68   1.21    2.92   1.62  0.0221\n",
       "19             b_sk_n_digital    1.62   1.18    1.44   1.07  0.0237"
      ]
     },
     "metadata": {},
     "output_type": "display_data"
    },
    {
     "data": {
      "text/plain": [
       "<Figure size 1000x600 with 0 Axes>"
      ]
     },
     "metadata": {},
     "output_type": "display_data"
    },
    {
     "data": {
      "text/plain": [
       "<Figure size 1000x600 with 0 Axes>"
      ]
     },
     "metadata": {},
     "output_type": "display_data"
    },
    {
     "data": {
      "text/plain": [
       "<Figure size 1000x600 with 0 Axes>"
      ]
     },
     "metadata": {},
     "output_type": "display_data"
    },
    {
     "data": {
      "text/plain": [
       "<Figure size 1000x600 with 0 Axes>"
      ]
     },
     "metadata": {},
     "output_type": "display_data"
    },
    {
     "data": {
      "text/plain": [
       "<Figure size 1000x600 with 0 Axes>"
      ]
     },
     "metadata": {},
     "output_type": "display_data"
    },
    {
     "data": {
      "text/plain": [
       "<Figure size 1000x600 with 0 Axes>"
      ]
     },
     "metadata": {},
     "output_type": "display_data"
    },
    {
     "data": {
      "text/plain": [
       "<Figure size 1000x600 with 0 Axes>"
      ]
     },
     "metadata": {},
     "output_type": "display_data"
    },
    {
     "data": {
      "text/plain": [
       "<Figure size 1000x600 with 0 Axes>"
      ]
     },
     "metadata": {},
     "output_type": "display_data"
    },
    {
     "data": {
      "text/plain": [
       "<Figure size 1000x600 with 0 Axes>"
      ]
     },
     "metadata": {},
     "output_type": "display_data"
    },
    {
     "data": {
      "text/plain": [
       "<Figure size 1000x600 with 0 Axes>"
      ]
     },
     "metadata": {},
     "output_type": "display_data"
    },
    {
     "data": {
      "text/plain": [
       "<Figure size 1000x600 with 0 Axes>"
      ]
     },
     "metadata": {},
     "output_type": "display_data"
    },
    {
     "data": {
      "text/plain": [
       "<Figure size 1000x600 with 0 Axes>"
      ]
     },
     "metadata": {},
     "output_type": "display_data"
    },
    {
     "data": {
      "text/plain": [
       "<Figure size 1000x600 with 0 Axes>"
      ]
     },
     "metadata": {},
     "output_type": "display_data"
    },
    {
     "data": {
      "text/plain": [
       "<Figure size 1000x600 with 0 Axes>"
      ]
     },
     "metadata": {},
     "output_type": "display_data"
    },
    {
     "data": {
      "text/plain": [
       "<Figure size 1000x600 with 0 Axes>"
      ]
     },
     "metadata": {},
     "output_type": "display_data"
    },
    {
     "data": {
      "text/plain": [
       "<Figure size 1000x600 with 0 Axes>"
      ]
     },
     "metadata": {},
     "output_type": "display_data"
    },
    {
     "data": {
      "text/plain": [
       "<Figure size 1000x600 with 0 Axes>"
      ]
     },
     "metadata": {},
     "output_type": "display_data"
    },
    {
     "data": {
      "text/plain": [
       "<Figure size 1000x600 with 0 Axes>"
      ]
     },
     "metadata": {},
     "output_type": "display_data"
    },
    {
     "data": {
      "text/plain": [
       "<Figure size 1000x600 with 0 Axes>"
      ]
     },
     "metadata": {},
     "output_type": "display_data"
    },
    {
     "data": {
      "text/plain": [
       "<Figure size 1000x600 with 0 Axes>"
      ]
     },
     "metadata": {},
     "output_type": "display_data"
    },
    {
     "data": {
      "text/plain": [
       "<Figure size 1000x600 with 0 Axes>"
      ]
     },
     "metadata": {},
     "output_type": "display_data"
    },
    {
     "data": {
      "text/plain": [
       "<Figure size 1000x600 with 0 Axes>"
      ]
     },
     "metadata": {},
     "output_type": "display_data"
    },
    {
     "data": {
      "text/plain": [
       "<Figure size 1000x600 with 0 Axes>"
      ]
     },
     "metadata": {},
     "output_type": "display_data"
    },
    {
     "data": {
      "text/plain": [
       "<Figure size 1000x600 with 0 Axes>"
      ]
     },
     "metadata": {},
     "output_type": "display_data"
    },
    {
     "data": {
      "text/plain": [
       "<Figure size 1000x600 with 0 Axes>"
      ]
     },
     "metadata": {},
     "output_type": "display_data"
    },
    {
     "data": {
      "text/plain": [
       "<Figure size 1000x600 with 0 Axes>"
      ]
     },
     "metadata": {},
     "output_type": "display_data"
    },
    {
     "data": {
      "text/plain": [
       "<Figure size 1000x600 with 0 Axes>"
      ]
     },
     "metadata": {},
     "output_type": "display_data"
    },
    {
     "data": {
      "text/plain": [
       "<Figure size 1000x600 with 0 Axes>"
      ]
     },
     "metadata": {},
     "output_type": "display_data"
    },
    {
     "data": {
      "text/plain": [
       "<Figure size 1000x600 with 0 Axes>"
      ]
     },
     "metadata": {},
     "output_type": "display_data"
    },
    {
     "data": {
      "text/plain": [
       "<Figure size 1000x600 with 0 Axes>"
      ]
     },
     "metadata": {},
     "output_type": "display_data"
    },
    {
     "data": {
      "text/plain": [
       "<Figure size 1000x600 with 0 Axes>"
      ]
     },
     "metadata": {},
     "output_type": "display_data"
    },
    {
     "data": {
      "text/plain": [
       "<Figure size 1000x600 with 0 Axes>"
      ]
     },
     "metadata": {},
     "output_type": "display_data"
    },
    {
     "data": {
      "text/plain": [
       "<Figure size 1000x600 with 0 Axes>"
      ]
     },
     "metadata": {},
     "output_type": "display_data"
    },
    {
     "data": {
      "text/plain": [
       "<Figure size 1000x600 with 0 Axes>"
      ]
     },
     "metadata": {},
     "output_type": "display_data"
    },
    {
     "data": {
      "text/plain": [
       "<Figure size 1000x600 with 0 Axes>"
      ]
     },
     "metadata": {},
     "output_type": "display_data"
    },
    {
     "data": {
      "text/plain": [
       "<Figure size 1000x600 with 0 Axes>"
      ]
     },
     "metadata": {},
     "output_type": "display_data"
    },
    {
     "data": {
      "text/plain": [
       "<Figure size 1000x600 with 0 Axes>"
      ]
     },
     "metadata": {},
     "output_type": "display_data"
    },
    {
     "data": {
      "text/plain": [
       "<Figure size 1000x600 with 0 Axes>"
      ]
     },
     "metadata": {},
     "output_type": "display_data"
    },
    {
     "data": {
      "text/plain": [
       "<Figure size 1000x600 with 0 Axes>"
      ]
     },
     "metadata": {},
     "output_type": "display_data"
    },
    {
     "data": {
      "text/plain": [
       "<Figure size 1000x600 with 0 Axes>"
      ]
     },
     "metadata": {},
     "output_type": "display_data"
    },
    {
     "data": {
      "text/plain": [
       "<Figure size 1000x600 with 0 Axes>"
      ]
     },
     "metadata": {},
     "output_type": "display_data"
    },
    {
     "data": {
      "text/plain": [
       "<Figure size 1000x600 with 0 Axes>"
      ]
     },
     "metadata": {},
     "output_type": "display_data"
    },
    {
     "data": {
      "text/plain": [
       "<Figure size 1000x600 with 0 Axes>"
      ]
     },
     "metadata": {},
     "output_type": "display_data"
    },
    {
     "data": {
      "text/plain": [
       "<Figure size 1000x600 with 0 Axes>"
      ]
     },
     "metadata": {},
     "output_type": "display_data"
    },
    {
     "data": {
      "text/plain": [
       "<Figure size 1000x600 with 0 Axes>"
      ]
     },
     "metadata": {},
     "output_type": "display_data"
    },
    {
     "data": {
      "text/plain": [
       "<Figure size 1000x600 with 0 Axes>"
      ]
     },
     "metadata": {},
     "output_type": "display_data"
    },
    {
     "data": {
      "text/plain": [
       "<Figure size 1000x600 with 0 Axes>"
      ]
     },
     "metadata": {},
     "output_type": "display_data"
    },
    {
     "data": {
      "text/plain": [
       "<Figure size 1000x600 with 0 Axes>"
      ]
     },
     "metadata": {},
     "output_type": "display_data"
    },
    {
     "data": {
      "text/plain": [
       "<Figure size 1000x600 with 0 Axes>"
      ]
     },
     "metadata": {},
     "output_type": "display_data"
    },
    {
     "data": {
      "text/plain": [
       "<Figure size 1000x600 with 0 Axes>"
      ]
     },
     "metadata": {},
     "output_type": "display_data"
    },
    {
     "data": {
      "text/plain": [
       "<Figure size 1000x600 with 0 Axes>"
      ]
     },
     "metadata": {},
     "output_type": "display_data"
    },
    {
     "data": {
      "text/plain": [
       "<Figure size 1000x600 with 0 Axes>"
      ]
     },
     "metadata": {},
     "output_type": "display_data"
    },
    {
     "data": {
      "text/plain": [
       "<Figure size 1000x600 with 0 Axes>"
      ]
     },
     "metadata": {},
     "output_type": "display_data"
    },
    {
     "data": {
      "text/plain": [
       "<Figure size 1000x600 with 0 Axes>"
      ]
     },
     "metadata": {},
     "output_type": "display_data"
    },
    {
     "data": {
      "text/plain": [
       "<Figure size 1000x600 with 0 Axes>"
      ]
     },
     "metadata": {},
     "output_type": "display_data"
    },
    {
     "data": {
      "text/plain": [
       "<Figure size 1000x600 with 0 Axes>"
      ]
     },
     "metadata": {},
     "output_type": "display_data"
    },
    {
     "data": {
      "text/plain": [
       "<Figure size 1000x600 with 0 Axes>"
      ]
     },
     "metadata": {},
     "output_type": "display_data"
    },
    {
     "data": {
      "text/plain": [
       "<Figure size 1000x600 with 0 Axes>"
      ]
     },
     "metadata": {},
     "output_type": "display_data"
    },
    {
     "data": {
      "text/plain": [
       "<Figure size 1000x600 with 0 Axes>"
      ]
     },
     "metadata": {},
     "output_type": "display_data"
    },
    {
     "data": {
      "text/plain": [
       "<Figure size 1000x600 with 0 Axes>"
      ]
     },
     "metadata": {},
     "output_type": "display_data"
    },
    {
     "data": {
      "text/plain": [
       "<Figure size 1000x600 with 0 Axes>"
      ]
     },
     "metadata": {},
     "output_type": "display_data"
    },
    {
     "data": {
      "text/plain": [
       "<Figure size 1000x600 with 0 Axes>"
      ]
     },
     "metadata": {},
     "output_type": "display_data"
    },
    {
     "data": {
      "text/plain": [
       "<Figure size 1000x600 with 0 Axes>"
      ]
     },
     "metadata": {},
     "output_type": "display_data"
    },
    {
     "data": {
      "text/plain": [
       "<Figure size 1000x600 with 0 Axes>"
      ]
     },
     "metadata": {},
     "output_type": "display_data"
    },
    {
     "data": {
      "text/plain": [
       "<Figure size 1000x600 with 0 Axes>"
      ]
     },
     "metadata": {},
     "output_type": "display_data"
    },
    {
     "data": {
      "text/plain": [
       "<Figure size 1000x600 with 0 Axes>"
      ]
     },
     "metadata": {},
     "output_type": "display_data"
    },
    {
     "data": {
      "text/plain": [
       "<Figure size 1000x600 with 0 Axes>"
      ]
     },
     "metadata": {},
     "output_type": "display_data"
    },
    {
     "data": {
      "text/plain": [
       "<Figure size 1000x600 with 0 Axes>"
      ]
     },
     "metadata": {},
     "output_type": "display_data"
    },
    {
     "data": {
      "text/plain": [
       "<Figure size 1000x600 with 0 Axes>"
      ]
     },
     "metadata": {},
     "output_type": "display_data"
    },
    {
     "data": {
      "text/plain": [
       "<Figure size 1000x600 with 0 Axes>"
      ]
     },
     "metadata": {},
     "output_type": "display_data"
    },
    {
     "data": {
      "text/plain": [
       "<Figure size 1000x600 with 0 Axes>"
      ]
     },
     "metadata": {},
     "output_type": "display_data"
    },
    {
     "data": {
      "text/plain": [
       "<Figure size 1000x600 with 0 Axes>"
      ]
     },
     "metadata": {},
     "output_type": "display_data"
    },
    {
     "data": {
      "text/plain": [
       "<Figure size 1000x600 with 0 Axes>"
      ]
     },
     "metadata": {},
     "output_type": "display_data"
    },
    {
     "data": {
      "text/plain": [
       "<Figure size 1000x600 with 0 Axes>"
      ]
     },
     "metadata": {},
     "output_type": "display_data"
    },
    {
     "data": {
      "text/plain": [
       "<Figure size 1000x600 with 0 Axes>"
      ]
     },
     "metadata": {},
     "output_type": "display_data"
    },
    {
     "data": {
      "text/plain": [
       "<Figure size 1000x600 with 0 Axes>"
      ]
     },
     "metadata": {},
     "output_type": "display_data"
    },
    {
     "data": {
      "text/plain": [
       "<Figure size 1000x600 with 0 Axes>"
      ]
     },
     "metadata": {},
     "output_type": "display_data"
    },
    {
     "data": {
      "text/plain": [
       "<Figure size 1000x600 with 0 Axes>"
      ]
     },
     "metadata": {},
     "output_type": "display_data"
    },
    {
     "data": {
      "text/plain": [
       "<Figure size 1000x600 with 0 Axes>"
      ]
     },
     "metadata": {},
     "output_type": "display_data"
    },
    {
     "data": {
      "text/plain": [
       "<Figure size 1000x600 with 0 Axes>"
      ]
     },
     "metadata": {},
     "output_type": "display_data"
    },
    {
     "data": {
      "text/plain": [
       "<Figure size 1000x600 with 0 Axes>"
      ]
     },
     "metadata": {},
     "output_type": "display_data"
    },
    {
     "data": {
      "text/plain": [
       "<Figure size 1000x600 with 0 Axes>"
      ]
     },
     "metadata": {},
     "output_type": "display_data"
    },
    {
     "data": {
      "text/plain": [
       "<Figure size 1000x600 with 0 Axes>"
      ]
     },
     "metadata": {},
     "output_type": "display_data"
    },
    {
     "data": {
      "text/plain": [
       "<Figure size 1000x600 with 0 Axes>"
      ]
     },
     "metadata": {},
     "output_type": "display_data"
    },
    {
     "data": {
      "text/plain": [
       "<Figure size 1000x600 with 0 Axes>"
      ]
     },
     "metadata": {},
     "output_type": "display_data"
    },
    {
     "data": {
      "text/plain": [
       "<Figure size 1000x600 with 0 Axes>"
      ]
     },
     "metadata": {},
     "output_type": "display_data"
    },
    {
     "data": {
      "text/plain": [
       "<Figure size 1000x600 with 0 Axes>"
      ]
     },
     "metadata": {},
     "output_type": "display_data"
    },
    {
     "data": {
      "text/plain": [
       "<Figure size 1000x600 with 0 Axes>"
      ]
     },
     "metadata": {},
     "output_type": "display_data"
    },
    {
     "data": {
      "text/plain": [
       "<Figure size 1000x600 with 0 Axes>"
      ]
     },
     "metadata": {},
     "output_type": "display_data"
    },
    {
     "data": {
      "text/plain": [
       "<Figure size 1000x600 with 0 Axes>"
      ]
     },
     "metadata": {},
     "output_type": "display_data"
    },
    {
     "data": {
      "text/plain": [
       "<Figure size 1000x600 with 0 Axes>"
      ]
     },
     "metadata": {},
     "output_type": "display_data"
    },
    {
     "data": {
      "text/plain": [
       "<Figure size 1000x600 with 0 Axes>"
      ]
     },
     "metadata": {},
     "output_type": "display_data"
    },
    {
     "data": {
      "text/plain": [
       "<Figure size 1000x600 with 0 Axes>"
      ]
     },
     "metadata": {},
     "output_type": "display_data"
    },
    {
     "data": {
      "text/plain": [
       "<Figure size 1000x600 with 0 Axes>"
      ]
     },
     "metadata": {},
     "output_type": "display_data"
    },
    {
     "data": {
      "text/plain": [
       "<Figure size 1000x600 with 0 Axes>"
      ]
     },
     "metadata": {},
     "output_type": "display_data"
    },
    {
     "data": {
      "text/plain": [
       "<Figure size 1000x600 with 0 Axes>"
      ]
     },
     "metadata": {},
     "output_type": "display_data"
    },
    {
     "data": {
      "text/plain": [
       "<Figure size 1000x600 with 0 Axes>"
      ]
     },
     "metadata": {},
     "output_type": "display_data"
    },
    {
     "data": {
      "text/plain": [
       "<Figure size 1000x600 with 0 Axes>"
      ]
     },
     "metadata": {},
     "output_type": "display_data"
    },
    {
     "data": {
      "text/plain": [
       "<Figure size 1000x600 with 0 Axes>"
      ]
     },
     "metadata": {},
     "output_type": "display_data"
    },
    {
     "data": {
      "text/plain": [
       "<Figure size 1000x600 with 0 Axes>"
      ]
     },
     "metadata": {},
     "output_type": "display_data"
    },
    {
     "data": {
      "text/plain": [
       "<Figure size 1000x600 with 0 Axes>"
      ]
     },
     "metadata": {},
     "output_type": "display_data"
    },
    {
     "data": {
      "text/plain": [
       "<Figure size 1000x600 with 0 Axes>"
      ]
     },
     "metadata": {},
     "output_type": "display_data"
    },
    {
     "data": {
      "text/plain": [
       "<Figure size 1000x600 with 0 Axes>"
      ]
     },
     "metadata": {},
     "output_type": "display_data"
    },
    {
     "data": {
      "text/plain": [
       "<Figure size 1000x600 with 0 Axes>"
      ]
     },
     "metadata": {},
     "output_type": "display_data"
    },
    {
     "data": {
      "text/plain": [
       "<Figure size 1000x600 with 0 Axes>"
      ]
     },
     "metadata": {},
     "output_type": "display_data"
    },
    {
     "data": {
      "text/plain": [
       "<Figure size 1000x600 with 0 Axes>"
      ]
     },
     "metadata": {},
     "output_type": "display_data"
    },
    {
     "data": {
      "text/plain": [
       "<Figure size 1000x600 with 0 Axes>"
      ]
     },
     "metadata": {},
     "output_type": "display_data"
    },
    {
     "data": {
      "text/plain": [
       "<Figure size 1000x600 with 0 Axes>"
      ]
     },
     "metadata": {},
     "output_type": "display_data"
    },
    {
     "data": {
      "text/plain": [
       "<Figure size 1000x600 with 0 Axes>"
      ]
     },
     "metadata": {},
     "output_type": "display_data"
    },
    {
     "data": {
      "text/plain": [
       "<Figure size 1000x600 with 0 Axes>"
      ]
     },
     "metadata": {},
     "output_type": "display_data"
    },
    {
     "data": {
      "text/plain": [
       "<Figure size 1000x600 with 0 Axes>"
      ]
     },
     "metadata": {},
     "output_type": "display_data"
    },
    {
     "data": {
      "text/plain": [
       "<Figure size 1000x600 with 0 Axes>"
      ]
     },
     "metadata": {},
     "output_type": "display_data"
    },
    {
     "data": {
      "text/plain": [
       "<Figure size 1000x600 with 0 Axes>"
      ]
     },
     "metadata": {},
     "output_type": "display_data"
    },
    {
     "data": {
      "text/plain": [
       "<Figure size 1000x600 with 0 Axes>"
      ]
     },
     "metadata": {},
     "output_type": "display_data"
    },
    {
     "data": {
      "text/plain": [
       "<Figure size 1000x600 with 0 Axes>"
      ]
     },
     "metadata": {},
     "output_type": "display_data"
    },
    {
     "data": {
      "text/plain": [
       "<Figure size 1000x600 with 0 Axes>"
      ]
     },
     "metadata": {},
     "output_type": "display_data"
    },
    {
     "data": {
      "text/plain": [
       "<Figure size 1000x600 with 0 Axes>"
      ]
     },
     "metadata": {},
     "output_type": "display_data"
    },
    {
     "data": {
      "text/plain": [
       "<Figure size 1000x600 with 0 Axes>"
      ]
     },
     "metadata": {},
     "output_type": "display_data"
    },
    {
     "data": {
      "text/plain": [
       "<Figure size 1000x600 with 0 Axes>"
      ]
     },
     "metadata": {},
     "output_type": "display_data"
    },
    {
     "data": {
      "text/plain": [
       "<Figure size 1000x600 with 0 Axes>"
      ]
     },
     "metadata": {},
     "output_type": "display_data"
    }
   ],
   "source": [
    "# Execute analysis for 2 clusters\n",
    "df_2clusters = pd.read_csv(\"../Output/Results/clusters_2_construction.csv\")\n",
    "top_vars_2clusters = analyze_clusters(df_2clusters, 2)\n",
    "create_density_plots(df_2clusters, top_vars_2clusters['Variable'].tolist())\n",
    "\n",
    "# Execute analysis without dummies for 2 clusters\n",
    "df = pd.read_stata(\"../Data/V1_qualflags_analysis2_ML.dta\")\n",
    "df_analysis_2, top_vars_2 = analyze_without_dummies(df, 2)"
   ]
  }
 ],
 "metadata": {
  "kernelspec": {
   "display_name": ".venv",
   "language": "python",
   "name": "python3"
  },
  "language_info": {
   "codemirror_mode": {
    "name": "ipython",
    "version": 3
   },
   "file_extension": ".py",
   "mimetype": "text/x-python",
   "name": "python",
   "nbconvert_exporter": "python",
   "pygments_lexer": "ipython3",
   "version": "3.13.1"
  }
 },
 "nbformat": 4,
 "nbformat_minor": 2
}
