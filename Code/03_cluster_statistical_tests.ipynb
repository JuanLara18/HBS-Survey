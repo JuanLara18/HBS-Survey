{
 "cells": [
  {
   "cell_type": "markdown",
   "metadata": {},
   "source": [
    "# Statistical Analysis of Clustering Results\n",
    "This notebook performs statistical analysis on the clustering results, including ANOVA for 3-cluster solutions and t-tests for 2-cluster solutions. The analysis is performed both with and without dummy variables to ensure robust results."
   ]
  },
  {
   "cell_type": "markdown",
   "metadata": {},
   "source": [
    "## 1. Setup and Data Loading\n",
    "\n",
    "- Import required libraries\n",
    "- Load clustering results\n",
    "- Configure visualization settings"
   ]
  },
  {
   "cell_type": "code",
   "execution_count": 1,
   "metadata": {},
   "outputs": [],
   "source": [
    "# Import required libraries\n",
    "import pandas as pd\n",
    "import seaborn as sns\n",
    "import matplotlib.pyplot as plt\n",
    "from scipy.stats import f_oneway, ttest_ind\n",
    "import numpy as np\n",
    "import warnings\n",
    "import os\n",
    "from scipy import stats\n",
    "warnings.filterwarnings('ignore')\n",
    "\n",
    "# Set global visualization parameters\n",
    "plt.rcParams['figure.figsize'] = (10, 6)\n",
    "plt.rcParams['font.size'] = 12\n",
    "sns.set_palette(\"Set2\")\n",
    "\n",
    "plt.ioff()  # Turn off interactive plotting\n",
    "\n",
    "# Helper functions\n",
    "def perform_statistical_analysis(df, n_clusters=3):\n",
    "    \"\"\"\n",
    "    Performs statistical analysis for either 2 or 3 clusters\n",
    "    Args:\n",
    "        df: DataFrame with cluster assignments\n",
    "        n_clusters: Number of clusters to analyze\n",
    "    Returns:\n",
    "        DataFrame of significant variables\n",
    "    \"\"\"\n",
    "    if n_clusters == 3:\n",
    "        return perform_anova_analysis(df)\n",
    "    return perform_ttest_analysis(df)\n",
    "\n",
    "def perform_anova_analysis(df):\n",
    "    \"\"\"\n",
    "    Performs ANOVA analysis for 3 clusters\n",
    "    Args:\n",
    "        df: DataFrame with cluster assignments\n",
    "    Returns:\n",
    "        DataFrame with ANOVA results\n",
    "    \"\"\"\n",
    "    groups = df['KMeans_Cluster'].unique()\n",
    "    p_values = {}\n",
    "    \n",
    "    for column in df.columns:\n",
    "        if column != 'KMeans_Cluster':\n",
    "            group_data = [df[df['KMeans_Cluster'] == group][column] for group in groups]\n",
    "            f_statistic, p_value = f_oneway(*group_data)\n",
    "            p_values[column] = p_value\n",
    "            \n",
    "    return process_results(df, p_values)\n",
    "\n",
    "def perform_ttest_analysis(df):\n",
    "    \"\"\"\n",
    "    Performs t-test analysis for 2 clusters\n",
    "    Args:\n",
    "        df: DataFrame with cluster assignments\n",
    "    Returns:\n",
    "        DataFrame with t-test results\n",
    "    \"\"\"\n",
    "    group_X = df[df['KMeans_Cluster'] == 0]\n",
    "    group_Y = df[df['KMeans_Cluster'] == 1]\n",
    "    \n",
    "    results = []\n",
    "    for col in df.columns:\n",
    "        if col != 'KMeans_Cluster':\n",
    "            t_stat, p_value = stats.ttest_ind(group_X[col], group_Y[col], equal_var=False)\n",
    "            results.append((col, p_value))\n",
    "            \n",
    "    return process_results(df, dict(results))\n",
    "\n",
    "def es_dummy(col):\n",
    "    \"\"\"\n",
    "    Check if a column contains only binary values (0/1)\n",
    "    Args:\n",
    "        col: DataFrame column to check\n",
    "    Returns:\n",
    "        bool: True if column contains only binary values\n",
    "    \"\"\"\n",
    "    return col.dropna().isin([0, 1]).all()\n",
    "\n",
    "label_mapping = {'roi4': 'Negative ROI',\n",
    " 'roi_yes': 'ROI Measured',\n",
    " 'ecp_extredeployment': 'External Redeployment',\n",
    " 'p_effect_reverse': 'Program Effectiveness',\n",
    " 'evp_network': 'Cross-departmental Networks',\n",
    " 'roi5': 'Positive ROI',\n",
    " 'sum_tr_sk': 'Sum of Trained Skills',\n",
    " 'sha_b_sk_n_digital': 'Share Needed Digital Skills',\n",
    " 'stat_government': 'Help Org Use Gov Subsidy',\n",
    " 'ecp_intredeployment': 'Internal Redeployment',\n",
    " 'stat_csr': 'Fulfilling CSR Requirement',\n",
    " 'reason_dei': 'Reason DEI',\n",
    " 'sk_selected': 'Total Nr skills needed',\n",
    " 'stand2': 'Mix Standardization customization',\n",
    " 'f_union_1 - 25%': 'Union Share 1-25%',\n",
    " 'inc_mgr_nofin': 'Manager: Non-financial Incentive',\n",
    " 'invest_cont': 'Continued Investment',\n",
    " 'p_fund_gov': 'Funded by Government',\n",
    " 'f_medium': 'Medium Firm Size (100-999)',\n",
    " 'roi2': 'Not yet but intend to calculate ROI',\n",
    " 'roi3': 'Tried to but unable to',\n",
    " 'roi1': 'No attempt to calculate',\n",
    " 'p_eligibility': 'Participation Eligibility',\n",
    " 'p_targetfunc_it_Not_Selected': 'Target Function: IT not selected',\n",
    " 'p_cont_investment_Very likely': 'Cont. Investment Very Likely',\n",
    " 'p_adv_hr': 'Advocate HR',\n",
    " 'p_participated_2023_1000 - 9999': 'Participated in 2023 (1000 - 9999)',\n",
    " 'p_program_length': 'Program Length (Years)',\n",
    " 'p_fund_org': 'Funded by Org',\n",
    " 'p_criteria_jobtitle': 'Selection Criteria: Job Title',\n",
    " 'p_criteria_assmskills': 'Selection Criteria: Assessment of Skills',\n",
    " 'p_target_emp': 'Target Group: Employees',\n",
    " 'p_challenge_progcompl': 'Challenge: Program Completion',\n",
    " 'p_year_end_2023': 'Program End: 2023',\n",
    " 'p_part': 'Number of participants',\n",
    " 'p_fund_wrk': 'Funded by Worker',\n",
    " 'sha_b_sk_n_soft': 'Needed share soft skill',\n",
    " 'sha_b_sk_n_man': 'Needed share mgmt skill',\n",
    " 'p_part_exp': 'Expected Participation',\n",
    " 'tot_kpi_tracked': 'Total Nr of KPIs',\n",
    " 'f_union_1___25%': 'Union share 1-25%',\n",
    " 'p_targetfunc_it': 'Target function IT',\n",
    " 'size': 'Q1_2: How many people does your organization employ?',\n",
    " 'm_tenure_firm': 'Tenure of Respondent',\n",
    " 'noanswerQ5_27_n1': 'noanswerQ5_27_n1: How was this upskilling program funded?: I don’t know - No Ans',\n",
    " 'noanswerQ7_29_n1': 'noanswerQ7_29_n1: How was this reskilling program funded?: I don’t know - No Ans',\n",
    " 'f_naics': 'Firm: 2 digits NAICS industry',\n",
    " 'HP_region4': 'HP_region4: Hidden Question. Region4',\n",
    " 'HP_region9': 'HP_region9: Hidden Question. Region9',\n",
    " 'f_size': 'RECODE of f_size_n',\n",
    " 'f_geography': 'Firm: Where do majority of employees work',\n",
    " 'f_geography_grouped': 'Geography - grouped',\n",
    " 'f_hq': 'Firm: HQ location',\n",
    " 'f_mne': 'Firm: MNE dummy',\n",
    " 'f_sub_number': 'Firm: Number of continents firm is active in',\n",
    " 'f_export': 'Firm: Dummy if firm exports',\n",
    " 'f_own': 'Firm: Ownership',\n",
    " 'f_naics_clone': 'Firm: 2 digits NAICS industry',\n",
    " 'f_naics_super': 'Superindustry',\n",
    " 'f_naics_super2': 'Superindustry 2',\n",
    " 'f_union': 'Firm: Union %',\n",
    " 'f_public': 'Firm: Dummy publicly listed',\n",
    " 'f_subsidy': 'Firm: Utilized a subsidy for initiatives',\n",
    " 'program': 'Program type',\n",
    " 'm_role': 'Role of Respondent',\n",
    " 'hr_workforce': 'D: Engagement in Workforce activity',\n",
    " 'hr_sk_description': 'D: Skill taxonomy needed to perform in given occupation',\n",
    " 'hr_sk_inventory_use': 'D: How useful is the inventory of skills for workforce planning activities?',\n",
    " 'hr_academy': 'D: Investment in setting up academy/school',\n",
    " 'hr_internalmkt': 'D: advertised to specific employees and no permission needed',\n",
    " 'p_participated': 'Program: Number of people who have participated since inception',\n",
    " 'p_participated_2023': 'Program: Number of people who will have participated end of 2023',\n",
    " 'p_mandavolunt': 'Was the program mandatory or opt-in for majority?',\n",
    " 'p_year_start': 'Program Start Year',\n",
    " 'p_year_end': 'Program End Year',\n",
    " 'p_hourstrained': 'Total hours trained (per employee)',\n",
    " 'p_duration': 'Duration of program',\n",
    " 'p_comphours': 'Program during working hours',\n",
    " 'p_otjactivities': 'On-the-job activities included',\n",
    " 'p_cost': 'Estimated cost per person',\n",
    " 'p_adequatefund': 'Was the program adequately funded?',\n",
    " 'p_adequatefunddummy': 'Adequately funded Dummy',\n",
    " 'p_fund_union': 'Union',\n",
    " 'p_fund_other': 'Other',\n",
    " 'p_advocacy': 'Who is the primary advocate for investments in the program?',\n",
    " 'p_responsibility': 'Who has the primary responsibility to implement the program?',\n",
    " 'p_application': 'Who could apply?',\n",
    " 'p_selection': 'Were participants selected by org?',\n",
    " 'p_criteria_tenure': 'Criteria - Tenure',\n",
    " 'p_criteria_qualifications': 'Criteria - Pre-existing skills/qualifications',\n",
    " 'p_criteria_assmsmotivation': 'Criteria - Pre-assessment of motivation',\n",
    " 'p_criteria_managerrec': \"Criteria - Manager's recommendation'\",\n",
    " 'p_criteria_other': 'Criteria - Other',\n",
    " 'p_targetemp_c': 'Target - C-suite',\n",
    " 'p_targetemp_bul': 'Target - Unit Leaders',\n",
    " 'p_targetemp_mm': 'Target - Middle Managers',\n",
    " 'p_targetemp_emp': 'Target - Employees',\n",
    " 'p_targetfunc_leg': 'Target - Legal',\n",
    " 'p_targetfunc_hr': 'Target - HR',\n",
    " 'p_targetfunc_adm': 'Target - Administration',\n",
    " 'p_targetfunc_op': 'Target - Operations/Manufacturing',\n",
    " 'p_targetfunc_mrksal': 'Target - Marketing/Sales',\n",
    " 'p_targetfunc_rd': 'Target - Research/Development',\n",
    " 'p_targetfunc_accfin': 'Target - Accounting/Finance',\n",
    " 'p_targetfunc_cust': 'Target - Customer Service',\n",
    " 'p_difloc': 'Was the program rolled out in different locations',\n",
    " 'p_difstand': 'Was the program standardized across locations',\n",
    " 'p_challenge_convincingemployees': 'Challenge - Convincing eligible employees to apply',\n",
    " 'p_challenge_selecting': 'Challenge - Selecting the right participants',\n",
    " 'p_challenge_learning': 'Challenge - Ensuring that participants learned new skills',\n",
    " 'p_challenge_convmanager': 'Challenge - Convincing managers to allow their employees to participate in the p',\n",
    " 'p_challenge_linkprogramcareer': 'Challenge - Linking the program to career progressions',\n",
    " 'p_challenge_effectiveness': 'Challenge - Monitoring the effectiveness of the program',\n",
    " 'p_challenge_scaling': 'Challenge - Scaling-up the program',\n",
    " 'p_challenge_determreturn': 'Challenge - Determining financial returns of programs relative to other policies',\n",
    " 'p_challenge_supportoutsideHR': 'Challenge - Getting the support of other corporate managers outside HR',\n",
    " 'p_challenge_funding': 'Challenge - Finding adequate resources to fund the program',\n",
    " 'p_challenge_other': 'Challenge - Other',\n",
    " 'p_cont_investment': 'Liklihood of continued investment in program',\n",
    " 'dd_pilot_length': 'Length of pilot/experimental phase (or none)',\n",
    " 'dd_pilot_dummy': 'Pilot Dummy variable',\n",
    " 'dd_pilot_ct': 'Did the pilot have control/treatment?',\n",
    " 'dd_pilot_over': 'Is experiment/pilot over?',\n",
    " 'dd_design_board': 'Design - Board of Directors',\n",
    " 'dd_design_c': 'Design - C-Suite Leaders',\n",
    " 'dd_design_hr': 'Design - HR Leaders',\n",
    " 'dd_design_bul': 'Design - Unit/Function Leaders',\n",
    " 'dd_design_mm': 'Design - Middle Managers',\n",
    " 'dd_design_emp': 'Design - Employees',\n",
    " 'dd_design_union': 'Design - Unions',\n",
    " 'dd_design_ia': 'Design - Internal Academy',\n",
    " 'dd_external': 'Were external parties involved?',\n",
    " 'dd_extdesign_ta': 'External Designer - Trade Association',\n",
    " 'dd_extdesign_gov': 'External Designer - Government',\n",
    " 'dd_extdesign_acad': 'External Designer - Academic Institutions',\n",
    " 'dd_extdesign_lsshelf': 'External Designer - Learning Specialist (Off-the-Shelf)',\n",
    " 'dd_extdesign_custom': 'External Designer - Learning Specialist (Custom)',\n",
    " 'dd_extdesign_all': 'External Designers - Combined Categories',\n",
    " 'dd_delivery': 'Delivery - Who delivered the program?',\n",
    " 'mot_mgr': 'Difficulty to get managers to support',\n",
    " 'mot_wrk': 'Difficulty to get employees to enroll',\n",
    " 'mot_mgragg': 'Difficulty to get managers to support',\n",
    " 'mot_wrkagg': 'Difficulty to get employees to enroll',\n",
    " 'inc_mgr_fin': 'Manager Incentive - Financial',\n",
    " 'inc_mgr_rec': 'Manager Incentive - Other Form of Recognition',\n",
    " 'inc_mgr_intrin': 'Manager Incentive - Intrinsic',\n",
    " 'inc_mgr_none': 'Manager Incentive - No Incentive',\n",
    " 'inc_mgr_all': 'Manager Incentive - Combined Incentive Categories',\n",
    " 'inc_wrk_career': 'Worker Incentive - Informed of Career Benefit',\n",
    " 'inc_wrk_risk': 'Worker Incentive - Informed of Risk',\n",
    " 'inc_wrk_fin': 'Worker Incentive - Financial Incentive',\n",
    " 'inc_wrk_nofin': 'Worker Incentive - Non-Financial Incentive',\n",
    " 'inc_wrk_cert': 'Worker Incentive - Certificate or Badge',\n",
    " 'inc_wrk_rec': 'Worker Incentive - Other Form of Recognition',\n",
    " 'inc_wrk_strat': 'Worker Incentive - Informed of Strategic Importance',\n",
    " 'inc_wrk_job': 'Worker Incentive - Job Offer',\n",
    " 'inc_wrk_all': 'Worker Incentive - Combined Categories',\n",
    " 'exp_participation': 'Were expectation about participation met?',\n",
    " 'p_finassessment': 'Final assessment to assess whether skills improved',\n",
    " 'k_track_numberppl': 'How many ppl started program',\n",
    " 'k_track_hours': 'Total hours completed',\n",
    " 'k_track_attract': 'Whether program attracked right participants',\n",
    " 'k_track_completion': 'How many people completed program',\n",
    " 'k_track_changeskill': 'Whether participants saw change in skill set',\n",
    " 'k_track_changecareer': 'Change in career trajectory/moved to different role',\n",
    " 'k_track_otherHR': 'Other HR related outcomes (e.g., reduced attrition)',\n",
    " 'k_track_busoutcomes': 'Business Outcomes',\n",
    " 'k_track_benefitstraining': 'Benefits vs. alternative approaches',\n",
    " 'k_track_other': 'Other',\n",
    " 'k_track_none': 'We did not track any of these metrics',\n",
    " 'k_review_BoD': 'Review - Board of Directors',\n",
    " 'k_review_c': 'Review - C-Suite Leaders',\n",
    " 'k_review_hr': 'Review - HR Leaders',\n",
    " 'k_review_bul': 'Review - Unit/Function Leaders',\n",
    " 'k_review_mm': 'Review - Middle Managers',\n",
    " 'k_review_emp': 'Review - Employees',\n",
    " 'k_review_union': 'Review - Unions',\n",
    " 'k_review_ia': 'Review - Internal Academy',\n",
    " 'k_review_other': 'Review - Other',\n",
    " 'k_reviewcombined_c': 'Review - Board of Directors + C-Suite',\n",
    " 'k_reviewcombined_hr': 'Review - HR Leaders',\n",
    " 'k_reviewcombined_others': 'Review - Others',\n",
    " 'k_freq': 'How often were the KPIs reviewed?',\n",
    " 'p_effectiveness': 'Subjective Effectiveness of Program',\n",
    " 'p_roi': 'ROI achieved',\n",
    " 'dum_sk_gap1': 'sk_gap_overall==     0.0000',\n",
    " 'dum_sk_gap2': 'sk_gap_overall==     1.0000',\n",
    " 'dum_sk_gap3': 'sk_gap_overall==     2.0000',\n",
    " 'clus4': 'Cluster ID',\n",
    " 'cc1': 'clus4==     1.0000',\n",
    " 'cc2': 'clus4==     2.0000',\n",
    " 'cc3': 'clus4==     3.0000',\n",
    " 'cc4': 'clus4==     4.0000',\n",
    " 'clusplot': 'Cluster ID',\n",
    " 'alt_cc1': 'clus5==     1.0000',\n",
    " 'alt_cc2': 'clus5==     2.0000',\n",
    " 'alt_cc3': 'clus5==     3.0000',\n",
    " 'alt_cc4': 'clus5==     4.0000',\n",
    " 'alt_cc5': 'clus5==     5.0000',\n",
    " 'sk_gapcertainty': 'Skill gap: Certainty about gap',\n",
    " 'tr_sk_n_soft_leader': 'Leadership Skills - Included in Training',\n",
    " 'tr_sk_n_soft_adapt': 'Adaptability and Flexibility - Included in Training',\n",
    " 'tr_sk_n_man_comm': 'Communication Skills - Included in Training',\n",
    " 'tr_sk_n_man_problemsolving': 'Problem-Solving Skills - Included in Training',\n",
    " 'tr_sk_n_man_projectman': 'Project Management Skills - Included in Training',\n",
    " 'tr_sk_n_f_industry': 'Industry-Specific Knowledge - Included in Training',\n",
    " 'tr_sk_n_f_customer': 'Customer Service Skills - Included in Training',\n",
    " 'tr_sk_n_f_marketing': 'Sales and Marketing Skills - Included in Training',\n",
    " 'tr_sk_n_f_finance': 'Financial Management Skills - Included in Training',\n",
    " 'tr_sk_n_f_hr': 'Human Resources Skills - Included in Training',\n",
    " 'tr_sk_n_f_supplychain': 'Supply Chain and Logistics Skills - Included in Training',\n",
    " 'tr_sk_n_dig_basic': 'Basic Digital Skills - Included in Training',\n",
    " 'tr_sk_n_dig_advance': 'Advanced Digital Skills - Included in Training',\n",
    " 'tr_sk_n_dig_prod': 'Production-Related Digital Skills - Included in Training',\n",
    " 'tr_sk_n_dig_data': 'Data Analysis and Processing Skills - Included in Training',\n",
    " 'tr_sk_n_career': 'Career Transition Skills - Included in Training',\n",
    " 'tr_sk_n_other': 'Other Skills - Included in Training',\n",
    " 'tr_clus4': 'Cluster ID',\n",
    " 'dd_clus1': 'tr_clusplot2==Digital+Cognitive',\n",
    " 'dd_clus2': 'tr_clusplot2==Everything',\n",
    " 'dd_clus3': 'tr_clusplot2==Soft',\n",
    " 'dd_clus4': 'tr_clusplot2==Digital+Soft',\n",
    " 'ee_clus1': 'tr_clusplot2==Digital+Cognitive',\n",
    " 'ee_clus2': 'tr_clusplot2==Everything',\n",
    " 'ee_clus3': 'tr_clusplot2==Soft',\n",
    " 'ee_clus4': 'tr_clusplot2==Digital+Soft',\n",
    " 'reason_tech': 'New Technology',\n",
    " 'reason_prodinn': 'New Products',\n",
    " 'reason_bmodel': 'New Business Model',\n",
    " 'reason_sust': 'New Sustainability Objectives',\n",
    " 'reason_other': 'Other',\n",
    " 'evp_attract': 'Attracting Talent',\n",
    " 'evp_engage': 'Keeping Employees Engaged',\n",
    " 'evp_retain': 'Retaining Employees',\n",
    " 'evp_orgculture': 'Contributing to Learning Org Culture',\n",
    " 'evp_diversity': 'Building a More Diverse Org',\n",
    " 'reasongroup_evp': 'EVP Employee',\n",
    " 'reasongroup_evpculture': 'EVP Culture',\n",
    " 'ecp_promotion': 'Help Qualify for Internal Promotion Opportunities',\n",
    " 'ecp_other': 'Other',\n",
    " 'stat_dev_noexist': 'Help Develop Skills that Do not Exist in External LaborMrkt',\n",
    " 'stat_dev_expensive': 'Help Develop Skills that are Too Expensive to Hire/Contract',\n",
    " 'p_size_coarse1': 'p_participated_coarse==     1.0000',\n",
    " 'p_size_coarse2': 'p_participated_coarse==     2.0000',\n",
    " 'p_size_coarse3': 'p_participated_coarse==     3.0000',\n",
    " 'pdur1': 'p_duration==< 1 month',\n",
    " 'pdur2': 'p_duration==2 - 6 months',\n",
    " 'pdur3': 'p_duration==7 - 12 months',\n",
    " 'pdur4': 'p_duration== > 12 months',\n",
    " 'phours1': 'p_hourstrained==< 10 hours',\n",
    " 'phours2': 'p_hourstrained==10 - 49 hours',\n",
    " 'phours3': 'p_hourstrained==50 - 99 hours',\n",
    " 'phours4': 'p_hourstrained==100 - 199 hours',\n",
    " 'phours5': 'p_hourstrained==200 - 499 hours',\n",
    " 'phours6': 'p_hourstrained==> 500 hours',\n",
    " 'pcomp1': 'p_comphours==Entirely compensated hours',\n",
    " 'pcomp2': 'p_comphours==Partly compensated hours',\n",
    " 'pcomp3': 'p_comphours==Uncompensated hours',\n",
    " 'padv1': 'p_advocacy_hier==Top Management',\n",
    " 'padv2': 'p_advocacy_hier==HR',\n",
    " 'padv3': 'p_advocacy_hier==BU and Middle Management',\n",
    " 'padv4': 'p_advocacy_hier==Employees and Others',\n",
    " 'presp1': 'p_responsibility_hier==Top Management',\n",
    " 'presp2': 'p_responsibility_hier==HR',\n",
    " 'presp3': 'p_responsibility_hier==BU and Middle Management',\n",
    " 'presp4': 'p_responsibility_hier==Employees and Others',\n",
    " 'pdelivery1': 'dd_delivery==External Instructors only',\n",
    " 'pdelivery2': 'dd_delivery==External and Internal',\n",
    " 'pdelivery3': 'dd_delivery==Internal Instructers only',\n",
    " 'pmand1': 'p_mandavolunt==Mandatory',\n",
    " 'pmand2': 'p_mandavolunt==Voluntary',\n",
    " 'papp1': 'p_application==Anyone could apply regardless of their function/department',\n",
    " 'papp2': 'p_application==Anyone could apply if belonging to specific function/department/h',\n",
    " 'papp3': 'p_application==Only people nominated by managers',\n",
    " 'papp4': 'p_application==Other',\n",
    " 'psel1': 'p_selection==Yes',\n",
    " 'psel2': 'p_selection==No',\n",
    " 'inc_man1': 'inc_mgr_all==No Incentive',\n",
    " 'inc_man2': 'inc_mgr_all==Non-financial Incentive',\n",
    " 'inc_man3': 'inc_mgr_all==Financial Incentive',\n",
    " 'inc_emp1': 'inc_wrk_all==Non-financial Incentive',\n",
    " 'inc_emp2': 'inc_wrk_all==Badge or Certificate',\n",
    " 'inc_emp3': 'inc_wrk_all==Financial Incentive',\n",
    " 'inc_emp4': 'inc_wrk_all==Job Offer',\n",
    " 'exppart1': 'exp_participation==Exceeded',\n",
    " 'exppart2': 'exp_participation==Met',\n",
    " 'exppart3': 'exp_participation==Below',\n",
    " 'pcost1': 'p_cost==< $500',\n",
    " 'pcost2': 'p_cost==$501 - $1,000',\n",
    " 'pcost3': 'p_cost==$1,001 - $5,000',\n",
    " 'pcost4': 'p_cost==$5,001 - $10,000',\n",
    " 'pcost5': 'p_cost==> $10,000',\n",
    " 'stand1': 'p_difstand==Very standard across geographies',\n",
    " 'stand3': 'p_difstand==Very flexible',\n",
    " 'pilot1': 'dd_pilot_length==No pilot',\n",
    " 'pilot2': 'dd_pilot_length==Less than 3 months',\n",
    " 'pilot3': 'dd_pilot_length==Between 3 months and 1 year',\n",
    " 'pilot4': 'dd_pilot_length==More than 1 year',\n",
    " 'control1': 'dd_pilot_ct==Yes',\n",
    " 'control2': 'dd_pilot_ct==No',\n",
    " 'assess1': 'p_finassessment==Yes',\n",
    " 'assess2': 'p_finassessment==No',\n",
    " 'kpiinput1': 'kpi_input==     0.0000',\n",
    " 'kpiinput2': 'kpi_input==     1.0000',\n",
    " 'kpioutput_micro1': 'kpi_output_micro==     0.0000',\n",
    " 'kpioutput_micro2': 'kpi_output_micro==     1.0000',\n",
    " 'kpioutput_macro1': 'kpi_output_macro==     0.0000',\n",
    " 'kpioutput_macro2': 'kpi_output_macro==     1.0000'\n",
    " }\n",
    "\n",
    "\n",
    "def create_statistical_table(df, group_col, results, n_groups):\n",
    "    \"\"\"Create statistical table with means and standard deviations\"\"\"\n",
    "    groups = df[group_col].unique()\n",
    "    \n",
    "    # Create LaTeX table\n",
    "    if n_groups == 3:\n",
    "        latex_table = \"\\\\begin{tabular}{lcccccc}\\n\"\n",
    "        latex_table += \"Feature & Mean G1 & SD G1 & Mean G2 & SD G2 & Mean G3 & SD G3 & p-value \\\\\\\\\\n\"\n",
    "    else:\n",
    "        latex_table = \"\\\\begin{tabular}{lcccc}\\n\"\n",
    "        latex_table += \"Feature & Mean G1 & SD G1 & Mean G2 & SD G2 & p-value \\\\\\\\\\n\"\n",
    "    \n",
    "    latex_table += \"\\\\hline\\n\"\n",
    "    \n",
    "    # Create pandas DataFrame for visualization\n",
    "    table_data = []\n",
    "    columns = ['Feature']\n",
    "    for i in range(n_groups):\n",
    "        columns.extend([f'Mean G{i+1}', f'SD G{i+1}'])\n",
    "    columns.append('p-value')\n",
    "    \n",
    "    for variable, p_value in results:\n",
    "        variable_label = label_mapping.get(variable, variable)\n",
    "        means = []\n",
    "        sds = []\n",
    "        # row_data = [variable]\n",
    "        row_data = [variable_label]\n",
    "        for group in range(n_groups):\n",
    "            group_data = df[df[group_col] == group][variable]\n",
    "            mean = group_data.mean()\n",
    "            sd = group_data.std()\n",
    "            means.append(mean)\n",
    "            sds.append(sd)\n",
    "            row_data.extend([f\"{mean:.2f}\", f\"{sd:.2f}\"])\n",
    "        \n",
    "        # Add to LaTeX table\n",
    "        stats_str = \" & \".join([f\"{m:.2f} & {s:.2f}\" for m, s in zip(means, sds)])\n",
    "        #latex_table += f\"{variable} & {stats_str} & {p_value:.4f} \\\\\\\\\\n\"\n",
    "        latex_table += f\"{variable_label} & {stats_str} & {p_value:.4f} \\\\\\\\\\n\"\n",
    "        \n",
    "        # Add to pandas data\n",
    "        row_data.append(f\"{p_value:.4f}\")\n",
    "        table_data.append(row_data)\n",
    "    \n",
    "    latex_table += \"\\\\end{tabular}\"\n",
    "    \n",
    "    # Create pandas DataFrame\n",
    "    pd_table = pd.DataFrame(table_data, columns=columns)\n",
    "    \n",
    "    return latex_table, pd_table\n",
    "\n",
    "def plot_density_distributions(df, variables, group_col, title_prefix=\"\", n_clusters=None, analysis_type=\"all_vars\"):\n",
    "    \"\"\"\n",
    "    Create and save density plots for specified variables\n",
    "    Args:\n",
    "        df: DataFrame containing the data\n",
    "        variables: List of variables to plot\n",
    "        group_col: Column name for cluster assignments\n",
    "        title_prefix: Prefix for plot titles\n",
    "        n_clusters: Number of clusters (2 or 3)\n",
    "        analysis_type: Type of analysis (\"all_vars\" or \"no_dummies\")\n",
    "    \"\"\"\n",
    "    # Create base output directory if it doesn't exist\n",
    "    base_dir = \"../Output/Figures\"\n",
    "    cluster_dir = f\"{base_dir}/{n_clusters}_clusters\"\n",
    "    analysis_dir = f\"{cluster_dir}/{analysis_type}\"\n",
    "    \n",
    "    # Create nested directories if they don't exist\n",
    "    for dir_path in [base_dir, cluster_dir, analysis_dir]:\n",
    "        os.makedirs(dir_path, exist_ok=True)\n",
    "    \n",
    "    for var in variables:\n",
    "        plt.figure(figsize=(10, 6))\n",
    "        for group in sorted(df[group_col].unique()):\n",
    "            group_data = df[df[group_col] == group][var]\n",
    "            sns.kdeplot(data=group_data, label=f'Cluster {group}', fill=True)\n",
    "        \n",
    "        plt.title(f'{title_prefix} {var}')\n",
    "        plt.xlabel(var)\n",
    "        plt.ylabel('Density')\n",
    "        plt.legend()\n",
    "        plt.tight_layout()\n",
    "        \n",
    "        # Save plot\n",
    "        safe_var_name = \"\".join(x for x in var if x.isalnum() or x in ['-', '_'])\n",
    "        plt.savefig(f\"{analysis_dir}/density_{safe_var_name}.png\")\n",
    "        plt.close()\n",
    "        \n",
    "def process_results(df, p_values, alpha=0.05):\n",
    "    \"\"\"\n",
    "    Processes statistical results and generates visualizations\n",
    "    Args:\n",
    "        df: DataFrame with data\n",
    "        p_values: Dictionary of p-values by variable\n",
    "        alpha: Significance level\n",
    "    Returns:\n",
    "        DataFrame of top significant variables\n",
    "    \"\"\"\n",
    "    p_values_df = pd.DataFrame(list(p_values.items()), columns=['Variable', 'p_value'])\n",
    "    significant_vars = p_values_df[p_values_df['p_value'] < alpha]\n",
    "    top_vars = significant_vars.sort_values('p_value').head(20)\n",
    "    \n",
    "    create_density_plots(df, top_vars['Variable'].tolist())\n",
    "    return top_vars\n",
    "\n",
    "def create_density_plots(df, variables, n_clusters=None, analysis_type=\"all_vars\"):\n",
    "    \"\"\"\n",
    "    Creates density plots for significant variables\n",
    "    Args:\n",
    "        df: DataFrame containing the data\n",
    "        variables: List of variables to plot\n",
    "        n_clusters: Number of clusters (2 or 3)\n",
    "        analysis_type: Type of analysis (\"all_vars\" or \"no_dummies\")\n",
    "    \"\"\"\n",
    "    # Create base output directory if it doesn't exist\n",
    "    base_dir = \"../Output/Figures\"\n",
    "    cluster_dir = f\"{base_dir}/{n_clusters}_clusters\"\n",
    "    analysis_dir = f\"{cluster_dir}/{analysis_type}\"\n",
    "    \n",
    "    # Create nested directories if they don't exist\n",
    "    for dir_path in [base_dir, cluster_dir, analysis_dir]:\n",
    "        os.makedirs(dir_path, exist_ok=True)\n",
    "    \n",
    "    for var in variables:\n",
    "        plt.figure(figsize=(10, 6))\n",
    "        g = sns.FacetGrid(df, hue='KMeans_Cluster', height=6, aspect=1.5)\n",
    "        g.map(sns.kdeplot, var, fill=True)\n",
    "        g.add_legend()\n",
    "        plt.title(f'Density Plot for {var}')\n",
    "        plt.tight_layout()\n",
    "        \n",
    "        # Save plot\n",
    "        safe_var_name = \"\".join(x for x in var if x.isalnum() or x in ['-', '_'])\n",
    "        plt.savefig(f\"{analysis_dir}/density_facet_{safe_var_name}.png\")\n",
    "        plt.close()"
   ]
  },
  {
   "cell_type": "markdown",
   "metadata": {},
   "source": [
    "## 2. Three-Cluster Analysis\n",
    "\n",
    "- ANOVA testing for all variables\n",
    "- Generation of statistical tables\n",
    "- Density plots for significant variables\n",
    "- Analysis without dummy variables"
   ]
  },
  {
   "cell_type": "code",
   "execution_count": 2,
   "metadata": {},
   "outputs": [
    {
     "name": "stdout",
     "output_type": "stream",
     "text": [
      "\n",
      "LaTeX Table for 3-Cluster Analysis:\n",
      "\\begin{tabular}{lcccccc}\n",
      "Feature & Mean G1 & SD G1 & Mean G2 & SD G2 & Mean G3 & SD G3 & p-value \\\\\n",
      "\\hline\n",
      "Number of participants & 38.93 & 16.63 & 76.59 & 9.12 & 74.02 & 10.99 & 0.0000 \\\\\n",
      "Participation Eligibility & 43.77 & 13.06 & 74.36 & 10.24 & 74.80 & 14.18 & 0.0000 \\\\\n",
      "Expected Participation & 52.67 & 17.49 & 83.01 & 11.17 & 83.46 & 9.87 & 0.0000 \\\\\n",
      "Funded by Org & 57.48 & 30.59 & 23.63 & 6.68 & 56.30 & 18.62 & 0.0000 \\\\\n",
      "Funded by Government & 14.25 & 12.24 & 23.10 & 10.23 & 12.40 & 9.44 & 0.0000 \\\\\n",
      "Financial Management Skills - Included in Training & 0.23 & 0.43 & 0.11 & 0.32 & 0.54 & 0.50 & 0.0000 \\\\\n",
      "Other & 3.25 & 8.47 & 10.19 & 10.79 & 2.10 & 5.45 & 0.0000 \\\\\n",
      "Funded by Worker & 12.33 & 12.11 & 22.87 & 10.91 & 15.20 & 10.97 & 0.0000 \\\\\n",
      "p_responsibility_hier==HR & 0.32 & 0.47 & 0.74 & 0.44 & 0.64 & 0.48 & 0.0000 \\\\\n",
      "p_resp_hr & 0.32 & 0.47 & 0.74 & 0.44 & 0.64 & 0.48 & 0.0000 \\\\\n",
      "p_responsibility_HR Leaders & 0.32 & 0.47 & 0.74 & 0.44 & 0.64 & 0.48 & 0.0000 \\\\\n",
      "p_responsibility_hier_HR & 0.32 & 0.47 & 0.74 & 0.44 & 0.64 & 0.48 & 0.0000 \\\\\n",
      "sk_n_dig_advance & 0.53 & 0.50 & 0.36 & 0.48 & 0.82 & 0.39 & 0.0000 \\\\\n",
      "mot_mgr_Easy & 0.35 & 0.48 & 0.74 & 0.44 & 0.70 & 0.46 & 0.0000 \\\\\n",
      "mot_wrkagg_Easy & 0.50 & 0.50 & 0.84 & 0.37 & 0.84 & 0.37 & 0.0000 \\\\\n",
      "mot_mgragg_Easy & 0.52 & 0.50 & 0.83 & 0.38 & 0.88 & 0.33 & 0.0000 \\\\\n",
      "Cluster ID & 2.53 & 1.05 & 2.94 & 1.17 & 1.94 & 0.93 & 0.0000 \\\\\n",
      "clus5 & 2.53 & 1.05 & 2.94 & 1.17 & 1.94 & 0.93 & 0.0000 \\\\\n",
      "Program End: 2023 & 0.27 & 0.45 & 0.46 & 0.50 & 0.72 & 0.45 & 0.0000 \\\\\n",
      "Worker Incentive - Informed of Strategic Importance & 0.45 & 0.50 & 0.23 & 0.42 & 0.66 & 0.48 & 0.0000 \\\\\n",
      "\\end{tabular}\n",
      "\n",
      "Visualized Table for 3-Cluster Analysis:\n"
     ]
    },
    {
     "data": {
      "text/html": [
       "<div>\n",
       "<style scoped>\n",
       "    .dataframe tbody tr th:only-of-type {\n",
       "        vertical-align: middle;\n",
       "    }\n",
       "\n",
       "    .dataframe tbody tr th {\n",
       "        vertical-align: top;\n",
       "    }\n",
       "\n",
       "    .dataframe thead th {\n",
       "        text-align: right;\n",
       "    }\n",
       "</style>\n",
       "<table border=\"1\" class=\"dataframe\">\n",
       "  <thead>\n",
       "    <tr style=\"text-align: right;\">\n",
       "      <th></th>\n",
       "      <th>Feature</th>\n",
       "      <th>Mean G1</th>\n",
       "      <th>SD G1</th>\n",
       "      <th>Mean G2</th>\n",
       "      <th>SD G2</th>\n",
       "      <th>Mean G3</th>\n",
       "      <th>SD G3</th>\n",
       "      <th>p-value</th>\n",
       "    </tr>\n",
       "  </thead>\n",
       "  <tbody>\n",
       "    <tr>\n",
       "      <th>0</th>\n",
       "      <td>Number of participants</td>\n",
       "      <td>38.93</td>\n",
       "      <td>16.63</td>\n",
       "      <td>76.59</td>\n",
       "      <td>9.12</td>\n",
       "      <td>74.02</td>\n",
       "      <td>10.99</td>\n",
       "      <td>0.0000</td>\n",
       "    </tr>\n",
       "    <tr>\n",
       "      <th>1</th>\n",
       "      <td>Participation Eligibility</td>\n",
       "      <td>43.77</td>\n",
       "      <td>13.06</td>\n",
       "      <td>74.36</td>\n",
       "      <td>10.24</td>\n",
       "      <td>74.80</td>\n",
       "      <td>14.18</td>\n",
       "      <td>0.0000</td>\n",
       "    </tr>\n",
       "    <tr>\n",
       "      <th>2</th>\n",
       "      <td>Expected Participation</td>\n",
       "      <td>52.67</td>\n",
       "      <td>17.49</td>\n",
       "      <td>83.01</td>\n",
       "      <td>11.17</td>\n",
       "      <td>83.46</td>\n",
       "      <td>9.87</td>\n",
       "      <td>0.0000</td>\n",
       "    </tr>\n",
       "    <tr>\n",
       "      <th>3</th>\n",
       "      <td>Funded by Org</td>\n",
       "      <td>57.48</td>\n",
       "      <td>30.59</td>\n",
       "      <td>23.63</td>\n",
       "      <td>6.68</td>\n",
       "      <td>56.30</td>\n",
       "      <td>18.62</td>\n",
       "      <td>0.0000</td>\n",
       "    </tr>\n",
       "    <tr>\n",
       "      <th>4</th>\n",
       "      <td>Funded by Government</td>\n",
       "      <td>14.25</td>\n",
       "      <td>12.24</td>\n",
       "      <td>23.10</td>\n",
       "      <td>10.23</td>\n",
       "      <td>12.40</td>\n",
       "      <td>9.44</td>\n",
       "      <td>0.0000</td>\n",
       "    </tr>\n",
       "    <tr>\n",
       "      <th>5</th>\n",
       "      <td>Financial Management Skills - Included in Trai...</td>\n",
       "      <td>0.23</td>\n",
       "      <td>0.43</td>\n",
       "      <td>0.11</td>\n",
       "      <td>0.32</td>\n",
       "      <td>0.54</td>\n",
       "      <td>0.50</td>\n",
       "      <td>0.0000</td>\n",
       "    </tr>\n",
       "    <tr>\n",
       "      <th>6</th>\n",
       "      <td>Other</td>\n",
       "      <td>3.25</td>\n",
       "      <td>8.47</td>\n",
       "      <td>10.19</td>\n",
       "      <td>10.79</td>\n",
       "      <td>2.10</td>\n",
       "      <td>5.45</td>\n",
       "      <td>0.0000</td>\n",
       "    </tr>\n",
       "    <tr>\n",
       "      <th>7</th>\n",
       "      <td>Funded by Worker</td>\n",
       "      <td>12.33</td>\n",
       "      <td>12.11</td>\n",
       "      <td>22.87</td>\n",
       "      <td>10.91</td>\n",
       "      <td>15.20</td>\n",
       "      <td>10.97</td>\n",
       "      <td>0.0000</td>\n",
       "    </tr>\n",
       "    <tr>\n",
       "      <th>8</th>\n",
       "      <td>p_responsibility_hier==HR</td>\n",
       "      <td>0.32</td>\n",
       "      <td>0.47</td>\n",
       "      <td>0.74</td>\n",
       "      <td>0.44</td>\n",
       "      <td>0.64</td>\n",
       "      <td>0.48</td>\n",
       "      <td>0.0000</td>\n",
       "    </tr>\n",
       "    <tr>\n",
       "      <th>9</th>\n",
       "      <td>p_resp_hr</td>\n",
       "      <td>0.32</td>\n",
       "      <td>0.47</td>\n",
       "      <td>0.74</td>\n",
       "      <td>0.44</td>\n",
       "      <td>0.64</td>\n",
       "      <td>0.48</td>\n",
       "      <td>0.0000</td>\n",
       "    </tr>\n",
       "    <tr>\n",
       "      <th>10</th>\n",
       "      <td>p_responsibility_HR Leaders</td>\n",
       "      <td>0.32</td>\n",
       "      <td>0.47</td>\n",
       "      <td>0.74</td>\n",
       "      <td>0.44</td>\n",
       "      <td>0.64</td>\n",
       "      <td>0.48</td>\n",
       "      <td>0.0000</td>\n",
       "    </tr>\n",
       "    <tr>\n",
       "      <th>11</th>\n",
       "      <td>p_responsibility_hier_HR</td>\n",
       "      <td>0.32</td>\n",
       "      <td>0.47</td>\n",
       "      <td>0.74</td>\n",
       "      <td>0.44</td>\n",
       "      <td>0.64</td>\n",
       "      <td>0.48</td>\n",
       "      <td>0.0000</td>\n",
       "    </tr>\n",
       "    <tr>\n",
       "      <th>12</th>\n",
       "      <td>sk_n_dig_advance</td>\n",
       "      <td>0.53</td>\n",
       "      <td>0.50</td>\n",
       "      <td>0.36</td>\n",
       "      <td>0.48</td>\n",
       "      <td>0.82</td>\n",
       "      <td>0.39</td>\n",
       "      <td>0.0000</td>\n",
       "    </tr>\n",
       "    <tr>\n",
       "      <th>13</th>\n",
       "      <td>mot_mgr_Easy</td>\n",
       "      <td>0.35</td>\n",
       "      <td>0.48</td>\n",
       "      <td>0.74</td>\n",
       "      <td>0.44</td>\n",
       "      <td>0.70</td>\n",
       "      <td>0.46</td>\n",
       "      <td>0.0000</td>\n",
       "    </tr>\n",
       "    <tr>\n",
       "      <th>14</th>\n",
       "      <td>mot_wrkagg_Easy</td>\n",
       "      <td>0.50</td>\n",
       "      <td>0.50</td>\n",
       "      <td>0.84</td>\n",
       "      <td>0.37</td>\n",
       "      <td>0.84</td>\n",
       "      <td>0.37</td>\n",
       "      <td>0.0000</td>\n",
       "    </tr>\n",
       "    <tr>\n",
       "      <th>15</th>\n",
       "      <td>mot_mgragg_Easy</td>\n",
       "      <td>0.52</td>\n",
       "      <td>0.50</td>\n",
       "      <td>0.83</td>\n",
       "      <td>0.38</td>\n",
       "      <td>0.88</td>\n",
       "      <td>0.33</td>\n",
       "      <td>0.0000</td>\n",
       "    </tr>\n",
       "    <tr>\n",
       "      <th>16</th>\n",
       "      <td>Cluster ID</td>\n",
       "      <td>2.53</td>\n",
       "      <td>1.05</td>\n",
       "      <td>2.94</td>\n",
       "      <td>1.17</td>\n",
       "      <td>1.94</td>\n",
       "      <td>0.93</td>\n",
       "      <td>0.0000</td>\n",
       "    </tr>\n",
       "    <tr>\n",
       "      <th>17</th>\n",
       "      <td>clus5</td>\n",
       "      <td>2.53</td>\n",
       "      <td>1.05</td>\n",
       "      <td>2.94</td>\n",
       "      <td>1.17</td>\n",
       "      <td>1.94</td>\n",
       "      <td>0.93</td>\n",
       "      <td>0.0000</td>\n",
       "    </tr>\n",
       "    <tr>\n",
       "      <th>18</th>\n",
       "      <td>Program End: 2023</td>\n",
       "      <td>0.27</td>\n",
       "      <td>0.45</td>\n",
       "      <td>0.46</td>\n",
       "      <td>0.50</td>\n",
       "      <td>0.72</td>\n",
       "      <td>0.45</td>\n",
       "      <td>0.0000</td>\n",
       "    </tr>\n",
       "    <tr>\n",
       "      <th>19</th>\n",
       "      <td>Worker Incentive - Informed of Strategic Impor...</td>\n",
       "      <td>0.45</td>\n",
       "      <td>0.50</td>\n",
       "      <td>0.23</td>\n",
       "      <td>0.42</td>\n",
       "      <td>0.66</td>\n",
       "      <td>0.48</td>\n",
       "      <td>0.0000</td>\n",
       "    </tr>\n",
       "  </tbody>\n",
       "</table>\n",
       "</div>"
      ],
      "text/plain": [
       "                                              Feature Mean G1  SD G1 Mean G2  \\\n",
       "0                              Number of participants   38.93  16.63   76.59   \n",
       "1                           Participation Eligibility   43.77  13.06   74.36   \n",
       "2                              Expected Participation   52.67  17.49   83.01   \n",
       "3                                       Funded by Org   57.48  30.59   23.63   \n",
       "4                                Funded by Government   14.25  12.24   23.10   \n",
       "5   Financial Management Skills - Included in Trai...    0.23   0.43    0.11   \n",
       "6                                               Other    3.25   8.47   10.19   \n",
       "7                                    Funded by Worker   12.33  12.11   22.87   \n",
       "8                           p_responsibility_hier==HR    0.32   0.47    0.74   \n",
       "9                                           p_resp_hr    0.32   0.47    0.74   \n",
       "10                        p_responsibility_HR Leaders    0.32   0.47    0.74   \n",
       "11                           p_responsibility_hier_HR    0.32   0.47    0.74   \n",
       "12                                   sk_n_dig_advance    0.53   0.50    0.36   \n",
       "13                                       mot_mgr_Easy    0.35   0.48    0.74   \n",
       "14                                    mot_wrkagg_Easy    0.50   0.50    0.84   \n",
       "15                                    mot_mgragg_Easy    0.52   0.50    0.83   \n",
       "16                                         Cluster ID    2.53   1.05    2.94   \n",
       "17                                              clus5    2.53   1.05    2.94   \n",
       "18                                  Program End: 2023    0.27   0.45    0.46   \n",
       "19  Worker Incentive - Informed of Strategic Impor...    0.45   0.50    0.23   \n",
       "\n",
       "    SD G2 Mean G3  SD G3 p-value  \n",
       "0    9.12   74.02  10.99  0.0000  \n",
       "1   10.24   74.80  14.18  0.0000  \n",
       "2   11.17   83.46   9.87  0.0000  \n",
       "3    6.68   56.30  18.62  0.0000  \n",
       "4   10.23   12.40   9.44  0.0000  \n",
       "5    0.32    0.54   0.50  0.0000  \n",
       "6   10.79    2.10   5.45  0.0000  \n",
       "7   10.91   15.20  10.97  0.0000  \n",
       "8    0.44    0.64   0.48  0.0000  \n",
       "9    0.44    0.64   0.48  0.0000  \n",
       "10   0.44    0.64   0.48  0.0000  \n",
       "11   0.44    0.64   0.48  0.0000  \n",
       "12   0.48    0.82   0.39  0.0000  \n",
       "13   0.44    0.70   0.46  0.0000  \n",
       "14   0.37    0.84   0.37  0.0000  \n",
       "15   0.38    0.88   0.33  0.0000  \n",
       "16   1.17    1.94   0.93  0.0000  \n",
       "17   1.17    1.94   0.93  0.0000  \n",
       "18   0.50    0.72   0.45  0.0000  \n",
       "19   0.42    0.66   0.48  0.0000  "
      ]
     },
     "metadata": {},
     "output_type": "display_data"
    },
    {
     "data": {
      "text/plain": [
       "<Figure size 1000x600 with 0 Axes>"
      ]
     },
     "metadata": {},
     "output_type": "display_data"
    },
    {
     "data": {
      "text/plain": [
       "<Figure size 1000x600 with 0 Axes>"
      ]
     },
     "metadata": {},
     "output_type": "display_data"
    },
    {
     "data": {
      "text/plain": [
       "<Figure size 1000x600 with 0 Axes>"
      ]
     },
     "metadata": {},
     "output_type": "display_data"
    },
    {
     "data": {
      "text/plain": [
       "<Figure size 1000x600 with 0 Axes>"
      ]
     },
     "metadata": {},
     "output_type": "display_data"
    },
    {
     "data": {
      "text/plain": [
       "<Figure size 1000x600 with 0 Axes>"
      ]
     },
     "metadata": {},
     "output_type": "display_data"
    },
    {
     "data": {
      "text/plain": [
       "<Figure size 1000x600 with 0 Axes>"
      ]
     },
     "metadata": {},
     "output_type": "display_data"
    },
    {
     "data": {
      "text/plain": [
       "<Figure size 1000x600 with 0 Axes>"
      ]
     },
     "metadata": {},
     "output_type": "display_data"
    },
    {
     "data": {
      "text/plain": [
       "<Figure size 1000x600 with 0 Axes>"
      ]
     },
     "metadata": {},
     "output_type": "display_data"
    },
    {
     "data": {
      "text/plain": [
       "<Figure size 1000x600 with 0 Axes>"
      ]
     },
     "metadata": {},
     "output_type": "display_data"
    },
    {
     "data": {
      "text/plain": [
       "<Figure size 1000x600 with 0 Axes>"
      ]
     },
     "metadata": {},
     "output_type": "display_data"
    },
    {
     "data": {
      "text/plain": [
       "<Figure size 1000x600 with 0 Axes>"
      ]
     },
     "metadata": {},
     "output_type": "display_data"
    },
    {
     "data": {
      "text/plain": [
       "<Figure size 1000x600 with 0 Axes>"
      ]
     },
     "metadata": {},
     "output_type": "display_data"
    },
    {
     "data": {
      "text/plain": [
       "<Figure size 1000x600 with 0 Axes>"
      ]
     },
     "metadata": {},
     "output_type": "display_data"
    },
    {
     "data": {
      "text/plain": [
       "<Figure size 1000x600 with 0 Axes>"
      ]
     },
     "metadata": {},
     "output_type": "display_data"
    },
    {
     "data": {
      "text/plain": [
       "<Figure size 1000x600 with 0 Axes>"
      ]
     },
     "metadata": {},
     "output_type": "display_data"
    },
    {
     "data": {
      "text/plain": [
       "<Figure size 1000x600 with 0 Axes>"
      ]
     },
     "metadata": {},
     "output_type": "display_data"
    },
    {
     "data": {
      "text/plain": [
       "<Figure size 1000x600 with 0 Axes>"
      ]
     },
     "metadata": {},
     "output_type": "display_data"
    },
    {
     "data": {
      "text/plain": [
       "<Figure size 1000x600 with 0 Axes>"
      ]
     },
     "metadata": {},
     "output_type": "display_data"
    },
    {
     "data": {
      "text/plain": [
       "<Figure size 1000x600 with 0 Axes>"
      ]
     },
     "metadata": {},
     "output_type": "display_data"
    },
    {
     "data": {
      "text/plain": [
       "<Figure size 1000x600 with 0 Axes>"
      ]
     },
     "metadata": {},
     "output_type": "display_data"
    },
    {
     "data": {
      "text/plain": [
       "<Figure size 1000x600 with 0 Axes>"
      ]
     },
     "metadata": {},
     "output_type": "display_data"
    },
    {
     "data": {
      "text/plain": [
       "<Figure size 1000x600 with 0 Axes>"
      ]
     },
     "metadata": {},
     "output_type": "display_data"
    },
    {
     "data": {
      "text/plain": [
       "<Figure size 1000x600 with 0 Axes>"
      ]
     },
     "metadata": {},
     "output_type": "display_data"
    },
    {
     "data": {
      "text/plain": [
       "<Figure size 1000x600 with 0 Axes>"
      ]
     },
     "metadata": {},
     "output_type": "display_data"
    },
    {
     "data": {
      "text/plain": [
       "<Figure size 1000x600 with 0 Axes>"
      ]
     },
     "metadata": {},
     "output_type": "display_data"
    },
    {
     "data": {
      "text/plain": [
       "<Figure size 1000x600 with 0 Axes>"
      ]
     },
     "metadata": {},
     "output_type": "display_data"
    },
    {
     "data": {
      "text/plain": [
       "<Figure size 1000x600 with 0 Axes>"
      ]
     },
     "metadata": {},
     "output_type": "display_data"
    },
    {
     "data": {
      "text/plain": [
       "<Figure size 1000x600 with 0 Axes>"
      ]
     },
     "metadata": {},
     "output_type": "display_data"
    },
    {
     "data": {
      "text/plain": [
       "<Figure size 1000x600 with 0 Axes>"
      ]
     },
     "metadata": {},
     "output_type": "display_data"
    },
    {
     "data": {
      "text/plain": [
       "<Figure size 1000x600 with 0 Axes>"
      ]
     },
     "metadata": {},
     "output_type": "display_data"
    },
    {
     "data": {
      "text/plain": [
       "<Figure size 1000x600 with 0 Axes>"
      ]
     },
     "metadata": {},
     "output_type": "display_data"
    },
    {
     "data": {
      "text/plain": [
       "<Figure size 1000x600 with 0 Axes>"
      ]
     },
     "metadata": {},
     "output_type": "display_data"
    },
    {
     "data": {
      "text/plain": [
       "<Figure size 1000x600 with 0 Axes>"
      ]
     },
     "metadata": {},
     "output_type": "display_data"
    },
    {
     "data": {
      "text/plain": [
       "<Figure size 1000x600 with 0 Axes>"
      ]
     },
     "metadata": {},
     "output_type": "display_data"
    },
    {
     "data": {
      "text/plain": [
       "<Figure size 1000x600 with 0 Axes>"
      ]
     },
     "metadata": {},
     "output_type": "display_data"
    },
    {
     "data": {
      "text/plain": [
       "<Figure size 1000x600 with 0 Axes>"
      ]
     },
     "metadata": {},
     "output_type": "display_data"
    },
    {
     "data": {
      "text/plain": [
       "<Figure size 1000x600 with 0 Axes>"
      ]
     },
     "metadata": {},
     "output_type": "display_data"
    },
    {
     "data": {
      "text/plain": [
       "<Figure size 1000x600 with 0 Axes>"
      ]
     },
     "metadata": {},
     "output_type": "display_data"
    },
    {
     "data": {
      "text/plain": [
       "<Figure size 1000x600 with 0 Axes>"
      ]
     },
     "metadata": {},
     "output_type": "display_data"
    },
    {
     "data": {
      "text/plain": [
       "<Figure size 1000x600 with 0 Axes>"
      ]
     },
     "metadata": {},
     "output_type": "display_data"
    }
   ],
   "source": [
    "def analyze_clusters(df, n_clusters):\n",
    "    \"\"\"\n",
    "    Main analysis function for clusters\n",
    "    Args:\n",
    "        df: DataFrame with cluster assignments\n",
    "        n_clusters: Number of clusters to analyze\n",
    "    \"\"\"\n",
    "    # Drop unnecessary columns if they exist\n",
    "    if n_clusters == 3:\n",
    "        df.drop([\"tr_part\", \"tr_eligibility\", \"tr_part_exp\"], axis=1, inplace=True)\n",
    "    \n",
    "    # Perform statistical analysis\n",
    "    top_vars = perform_statistical_analysis(df, n_clusters)\n",
    "    \n",
    "    # Create plots and save them\n",
    "    create_density_plots(df, top_vars['Variable'].tolist(), \n",
    "                        n_clusters=n_clusters, \n",
    "                        analysis_type=\"all_vars\")\n",
    "    \n",
    "    # Generate and print LaTeX table and pandas table\n",
    "    latex_table, pd_table = create_statistical_table(df, 'KMeans_Cluster', \n",
    "                                                   zip(top_vars['Variable'], top_vars['p_value']), \n",
    "                                                   n_clusters)\n",
    "    print(f\"\\nLaTeX Table for {n_clusters}-Cluster Analysis:\")\n",
    "    print(latex_table)\n",
    "    print(f\"\\nVisualized Table for {n_clusters}-Cluster Analysis:\")\n",
    "    display(pd_table)\n",
    "    \n",
    "    return top_vars\n",
    "\n",
    "# Execute analysis for 3 clusters\n",
    "df_3clusters = pd.read_csv(\"../Output/Results/clusters_3_construction.csv\")\n",
    "top_vars_3clusters = analyze_clusters(df_3clusters, 3)"
   ]
  },
  {
   "cell_type": "code",
   "execution_count": 3,
   "metadata": {},
   "outputs": [
    {
     "name": "stdout",
     "output_type": "stream",
     "text": [
      "\n",
      "LaTeX Table for 3-Cluster Analysis:\n",
      "\\begin{tabular}{lcccccc}\n",
      "Feature & Mean G1 & SD G1 & Mean G2 & SD G2 & Mean G3 & SD G3 & p-value \\\\\n",
      "\\hline\n",
      "Funded by Government & 21.61 & 14.97 & 0.96 & 3.66 & 21.70 & 11.87 & 0.0000 \\\\\n",
      "Union & 15.99 & 13.20 & 0.42 & 2.97 & 19.22 & 8.59 & 0.0000 \\\\\n",
      "Funded by Worker & 16.82 & 15.87 & 1.18 & 4.72 & 20.96 & 12.80 & 0.0000 \\\\\n",
      "Funded by Org & 41.41 & 20.64 & 97.23 & 7.01 & 28.92 & 13.86 & 0.0000 \\\\\n",
      "Expected Participation & 58.71 & 18.00 & 54.93 & 25.39 & 84.07 & 9.81 & 0.0000 \\\\\n",
      "Number of participants & 48.99 & 18.37 & 41.43 & 23.72 & 76.22 & 11.31 & 0.0000 \\\\\n",
      "Participation Eligibility & 54.23 & 17.49 & 54.18 & 23.38 & 74.04 & 12.65 & 0.0000 \\\\\n",
      "Other & 4.16 & 8.53 & 0.21 & 1.82 & 9.21 & 10.32 & 0.0000 \\\\\n",
      "p_participated_coarse & 1.96 & 0.77 & 1.76 & 0.80 & 2.30 & 0.77 & 0.0000 \\\\\n",
      "Total Nr of KPIs & 3.51 & 1.82 & 4.00 & 1.85 & 3.33 & 1.42 & 0.0000 \\\\\n",
      "Program Length (Years) & 1.67 & 1.12 & 1.91 & 1.18 & 1.49 & 1.03 & 0.0001 \\\\\n",
      "f_size_n & 4.39 & 1.65 & 4.49 & 2.12 & 5.02 & 1.76 & 0.0001 \\\\\n",
      "Program Effectiveness & 2.54 & 0.51 & 2.42 & 0.50 & 2.57 & 0.52 & 0.0015 \\\\\n",
      "Total Nr skills needed & 5.62 & 2.98 & 4.91 & 2.37 & 5.58 & 3.15 & 0.0041 \\\\\n",
      "b_sk_n_soft & 0.88 & 0.74 & 0.81 & 0.74 & 1.02 & 0.78 & 0.0042 \\\\\n",
      "clus5 & 2.31 & 1.09 & 2.51 & 1.14 & 2.63 & 1.15 & 0.0042 \\\\\n",
      "Cluster ID & 2.31 & 1.09 & 2.51 & 1.14 & 2.63 & 1.15 & 0.0042 \\\\\n",
      "b_sk_n_digital & 1.71 & 1.13 & 1.39 & 1.04 & 1.54 & 1.24 & 0.0050 \\\\\n",
      "Needed share soft skill & 0.17 & 0.17 & 0.17 & 0.17 & 0.21 & 0.19 & 0.0075 \\\\\n",
      "b_sk_n_functional & 1.74 & 1.56 & 1.54 & 1.19 & 1.89 & 1.58 & 0.0152 \\\\\n",
      "\\end{tabular}\n",
      "\n",
      "Visualized Table for 3-Cluster Analysis:\n"
     ]
    },
    {
     "data": {
      "text/html": [
       "<div>\n",
       "<style scoped>\n",
       "    .dataframe tbody tr th:only-of-type {\n",
       "        vertical-align: middle;\n",
       "    }\n",
       "\n",
       "    .dataframe tbody tr th {\n",
       "        vertical-align: top;\n",
       "    }\n",
       "\n",
       "    .dataframe thead th {\n",
       "        text-align: right;\n",
       "    }\n",
       "</style>\n",
       "<table border=\"1\" class=\"dataframe\">\n",
       "  <thead>\n",
       "    <tr style=\"text-align: right;\">\n",
       "      <th></th>\n",
       "      <th>Feature</th>\n",
       "      <th>Mean G1</th>\n",
       "      <th>SD G1</th>\n",
       "      <th>Mean G2</th>\n",
       "      <th>SD G2</th>\n",
       "      <th>Mean G3</th>\n",
       "      <th>SD G3</th>\n",
       "      <th>p-value</th>\n",
       "    </tr>\n",
       "  </thead>\n",
       "  <tbody>\n",
       "    <tr>\n",
       "      <th>0</th>\n",
       "      <td>Funded by Government</td>\n",
       "      <td>21.61</td>\n",
       "      <td>14.97</td>\n",
       "      <td>0.96</td>\n",
       "      <td>3.66</td>\n",
       "      <td>21.70</td>\n",
       "      <td>11.87</td>\n",
       "      <td>0.0000</td>\n",
       "    </tr>\n",
       "    <tr>\n",
       "      <th>1</th>\n",
       "      <td>Union</td>\n",
       "      <td>15.99</td>\n",
       "      <td>13.20</td>\n",
       "      <td>0.42</td>\n",
       "      <td>2.97</td>\n",
       "      <td>19.22</td>\n",
       "      <td>8.59</td>\n",
       "      <td>0.0000</td>\n",
       "    </tr>\n",
       "    <tr>\n",
       "      <th>2</th>\n",
       "      <td>Funded by Worker</td>\n",
       "      <td>16.82</td>\n",
       "      <td>15.87</td>\n",
       "      <td>1.18</td>\n",
       "      <td>4.72</td>\n",
       "      <td>20.96</td>\n",
       "      <td>12.80</td>\n",
       "      <td>0.0000</td>\n",
       "    </tr>\n",
       "    <tr>\n",
       "      <th>3</th>\n",
       "      <td>Funded by Org</td>\n",
       "      <td>41.41</td>\n",
       "      <td>20.64</td>\n",
       "      <td>97.23</td>\n",
       "      <td>7.01</td>\n",
       "      <td>28.92</td>\n",
       "      <td>13.86</td>\n",
       "      <td>0.0000</td>\n",
       "    </tr>\n",
       "    <tr>\n",
       "      <th>4</th>\n",
       "      <td>Expected Participation</td>\n",
       "      <td>58.71</td>\n",
       "      <td>18.00</td>\n",
       "      <td>54.93</td>\n",
       "      <td>25.39</td>\n",
       "      <td>84.07</td>\n",
       "      <td>9.81</td>\n",
       "      <td>0.0000</td>\n",
       "    </tr>\n",
       "    <tr>\n",
       "      <th>5</th>\n",
       "      <td>Number of participants</td>\n",
       "      <td>48.99</td>\n",
       "      <td>18.37</td>\n",
       "      <td>41.43</td>\n",
       "      <td>23.72</td>\n",
       "      <td>76.22</td>\n",
       "      <td>11.31</td>\n",
       "      <td>0.0000</td>\n",
       "    </tr>\n",
       "    <tr>\n",
       "      <th>6</th>\n",
       "      <td>Participation Eligibility</td>\n",
       "      <td>54.23</td>\n",
       "      <td>17.49</td>\n",
       "      <td>54.18</td>\n",
       "      <td>23.38</td>\n",
       "      <td>74.04</td>\n",
       "      <td>12.65</td>\n",
       "      <td>0.0000</td>\n",
       "    </tr>\n",
       "    <tr>\n",
       "      <th>7</th>\n",
       "      <td>Other</td>\n",
       "      <td>4.16</td>\n",
       "      <td>8.53</td>\n",
       "      <td>0.21</td>\n",
       "      <td>1.82</td>\n",
       "      <td>9.21</td>\n",
       "      <td>10.32</td>\n",
       "      <td>0.0000</td>\n",
       "    </tr>\n",
       "    <tr>\n",
       "      <th>8</th>\n",
       "      <td>p_participated_coarse</td>\n",
       "      <td>1.96</td>\n",
       "      <td>0.77</td>\n",
       "      <td>1.76</td>\n",
       "      <td>0.80</td>\n",
       "      <td>2.30</td>\n",
       "      <td>0.77</td>\n",
       "      <td>0.0000</td>\n",
       "    </tr>\n",
       "    <tr>\n",
       "      <th>9</th>\n",
       "      <td>Total Nr of KPIs</td>\n",
       "      <td>3.51</td>\n",
       "      <td>1.82</td>\n",
       "      <td>4.00</td>\n",
       "      <td>1.85</td>\n",
       "      <td>3.33</td>\n",
       "      <td>1.42</td>\n",
       "      <td>0.0000</td>\n",
       "    </tr>\n",
       "    <tr>\n",
       "      <th>10</th>\n",
       "      <td>Program Length (Years)</td>\n",
       "      <td>1.67</td>\n",
       "      <td>1.12</td>\n",
       "      <td>1.91</td>\n",
       "      <td>1.18</td>\n",
       "      <td>1.49</td>\n",
       "      <td>1.03</td>\n",
       "      <td>0.0001</td>\n",
       "    </tr>\n",
       "    <tr>\n",
       "      <th>11</th>\n",
       "      <td>f_size_n</td>\n",
       "      <td>4.39</td>\n",
       "      <td>1.65</td>\n",
       "      <td>4.49</td>\n",
       "      <td>2.12</td>\n",
       "      <td>5.02</td>\n",
       "      <td>1.76</td>\n",
       "      <td>0.0001</td>\n",
       "    </tr>\n",
       "    <tr>\n",
       "      <th>12</th>\n",
       "      <td>Program Effectiveness</td>\n",
       "      <td>2.54</td>\n",
       "      <td>0.51</td>\n",
       "      <td>2.42</td>\n",
       "      <td>0.50</td>\n",
       "      <td>2.57</td>\n",
       "      <td>0.52</td>\n",
       "      <td>0.0015</td>\n",
       "    </tr>\n",
       "    <tr>\n",
       "      <th>13</th>\n",
       "      <td>Total Nr skills needed</td>\n",
       "      <td>5.62</td>\n",
       "      <td>2.98</td>\n",
       "      <td>4.91</td>\n",
       "      <td>2.37</td>\n",
       "      <td>5.58</td>\n",
       "      <td>3.15</td>\n",
       "      <td>0.0041</td>\n",
       "    </tr>\n",
       "    <tr>\n",
       "      <th>14</th>\n",
       "      <td>b_sk_n_soft</td>\n",
       "      <td>0.88</td>\n",
       "      <td>0.74</td>\n",
       "      <td>0.81</td>\n",
       "      <td>0.74</td>\n",
       "      <td>1.02</td>\n",
       "      <td>0.78</td>\n",
       "      <td>0.0042</td>\n",
       "    </tr>\n",
       "    <tr>\n",
       "      <th>15</th>\n",
       "      <td>clus5</td>\n",
       "      <td>2.31</td>\n",
       "      <td>1.09</td>\n",
       "      <td>2.51</td>\n",
       "      <td>1.14</td>\n",
       "      <td>2.63</td>\n",
       "      <td>1.15</td>\n",
       "      <td>0.0042</td>\n",
       "    </tr>\n",
       "    <tr>\n",
       "      <th>16</th>\n",
       "      <td>Cluster ID</td>\n",
       "      <td>2.31</td>\n",
       "      <td>1.09</td>\n",
       "      <td>2.51</td>\n",
       "      <td>1.14</td>\n",
       "      <td>2.63</td>\n",
       "      <td>1.15</td>\n",
       "      <td>0.0042</td>\n",
       "    </tr>\n",
       "    <tr>\n",
       "      <th>17</th>\n",
       "      <td>b_sk_n_digital</td>\n",
       "      <td>1.71</td>\n",
       "      <td>1.13</td>\n",
       "      <td>1.39</td>\n",
       "      <td>1.04</td>\n",
       "      <td>1.54</td>\n",
       "      <td>1.24</td>\n",
       "      <td>0.0050</td>\n",
       "    </tr>\n",
       "    <tr>\n",
       "      <th>18</th>\n",
       "      <td>Needed share soft skill</td>\n",
       "      <td>0.17</td>\n",
       "      <td>0.17</td>\n",
       "      <td>0.17</td>\n",
       "      <td>0.17</td>\n",
       "      <td>0.21</td>\n",
       "      <td>0.19</td>\n",
       "      <td>0.0075</td>\n",
       "    </tr>\n",
       "    <tr>\n",
       "      <th>19</th>\n",
       "      <td>b_sk_n_functional</td>\n",
       "      <td>1.74</td>\n",
       "      <td>1.56</td>\n",
       "      <td>1.54</td>\n",
       "      <td>1.19</td>\n",
       "      <td>1.89</td>\n",
       "      <td>1.58</td>\n",
       "      <td>0.0152</td>\n",
       "    </tr>\n",
       "  </tbody>\n",
       "</table>\n",
       "</div>"
      ],
      "text/plain": [
       "                      Feature Mean G1  SD G1 Mean G2  SD G2 Mean G3  SD G3  \\\n",
       "0        Funded by Government   21.61  14.97    0.96   3.66   21.70  11.87   \n",
       "1                       Union   15.99  13.20    0.42   2.97   19.22   8.59   \n",
       "2            Funded by Worker   16.82  15.87    1.18   4.72   20.96  12.80   \n",
       "3               Funded by Org   41.41  20.64   97.23   7.01   28.92  13.86   \n",
       "4      Expected Participation   58.71  18.00   54.93  25.39   84.07   9.81   \n",
       "5      Number of participants   48.99  18.37   41.43  23.72   76.22  11.31   \n",
       "6   Participation Eligibility   54.23  17.49   54.18  23.38   74.04  12.65   \n",
       "7                       Other    4.16   8.53    0.21   1.82    9.21  10.32   \n",
       "8       p_participated_coarse    1.96   0.77    1.76   0.80    2.30   0.77   \n",
       "9            Total Nr of KPIs    3.51   1.82    4.00   1.85    3.33   1.42   \n",
       "10     Program Length (Years)    1.67   1.12    1.91   1.18    1.49   1.03   \n",
       "11                   f_size_n    4.39   1.65    4.49   2.12    5.02   1.76   \n",
       "12      Program Effectiveness    2.54   0.51    2.42   0.50    2.57   0.52   \n",
       "13     Total Nr skills needed    5.62   2.98    4.91   2.37    5.58   3.15   \n",
       "14                b_sk_n_soft    0.88   0.74    0.81   0.74    1.02   0.78   \n",
       "15                      clus5    2.31   1.09    2.51   1.14    2.63   1.15   \n",
       "16                 Cluster ID    2.31   1.09    2.51   1.14    2.63   1.15   \n",
       "17             b_sk_n_digital    1.71   1.13    1.39   1.04    1.54   1.24   \n",
       "18    Needed share soft skill    0.17   0.17    0.17   0.17    0.21   0.19   \n",
       "19          b_sk_n_functional    1.74   1.56    1.54   1.19    1.89   1.58   \n",
       "\n",
       "   p-value  \n",
       "0   0.0000  \n",
       "1   0.0000  \n",
       "2   0.0000  \n",
       "3   0.0000  \n",
       "4   0.0000  \n",
       "5   0.0000  \n",
       "6   0.0000  \n",
       "7   0.0000  \n",
       "8   0.0000  \n",
       "9   0.0000  \n",
       "10  0.0001  \n",
       "11  0.0001  \n",
       "12  0.0015  \n",
       "13  0.0041  \n",
       "14  0.0042  \n",
       "15  0.0042  \n",
       "16  0.0042  \n",
       "17  0.0050  \n",
       "18  0.0075  \n",
       "19  0.0152  "
      ]
     },
     "metadata": {},
     "output_type": "display_data"
    },
    {
     "data": {
      "text/plain": [
       "<Figure size 1000x600 with 0 Axes>"
      ]
     },
     "metadata": {},
     "output_type": "display_data"
    },
    {
     "data": {
      "text/plain": [
       "<Figure size 1000x600 with 0 Axes>"
      ]
     },
     "metadata": {},
     "output_type": "display_data"
    },
    {
     "data": {
      "text/plain": [
       "<Figure size 1000x600 with 0 Axes>"
      ]
     },
     "metadata": {},
     "output_type": "display_data"
    },
    {
     "data": {
      "text/plain": [
       "<Figure size 1000x600 with 0 Axes>"
      ]
     },
     "metadata": {},
     "output_type": "display_data"
    },
    {
     "data": {
      "text/plain": [
       "<Figure size 1000x600 with 0 Axes>"
      ]
     },
     "metadata": {},
     "output_type": "display_data"
    },
    {
     "data": {
      "text/plain": [
       "<Figure size 1000x600 with 0 Axes>"
      ]
     },
     "metadata": {},
     "output_type": "display_data"
    },
    {
     "data": {
      "text/plain": [
       "<Figure size 1000x600 with 0 Axes>"
      ]
     },
     "metadata": {},
     "output_type": "display_data"
    },
    {
     "data": {
      "text/plain": [
       "<Figure size 1000x600 with 0 Axes>"
      ]
     },
     "metadata": {},
     "output_type": "display_data"
    },
    {
     "data": {
      "text/plain": [
       "<Figure size 1000x600 with 0 Axes>"
      ]
     },
     "metadata": {},
     "output_type": "display_data"
    },
    {
     "data": {
      "text/plain": [
       "<Figure size 1000x600 with 0 Axes>"
      ]
     },
     "metadata": {},
     "output_type": "display_data"
    },
    {
     "data": {
      "text/plain": [
       "<Figure size 1000x600 with 0 Axes>"
      ]
     },
     "metadata": {},
     "output_type": "display_data"
    },
    {
     "data": {
      "text/plain": [
       "<Figure size 1000x600 with 0 Axes>"
      ]
     },
     "metadata": {},
     "output_type": "display_data"
    },
    {
     "data": {
      "text/plain": [
       "<Figure size 1000x600 with 0 Axes>"
      ]
     },
     "metadata": {},
     "output_type": "display_data"
    },
    {
     "data": {
      "text/plain": [
       "<Figure size 1000x600 with 0 Axes>"
      ]
     },
     "metadata": {},
     "output_type": "display_data"
    },
    {
     "data": {
      "text/plain": [
       "<Figure size 1000x600 with 0 Axes>"
      ]
     },
     "metadata": {},
     "output_type": "display_data"
    },
    {
     "data": {
      "text/plain": [
       "<Figure size 1000x600 with 0 Axes>"
      ]
     },
     "metadata": {},
     "output_type": "display_data"
    },
    {
     "data": {
      "text/plain": [
       "<Figure size 1000x600 with 0 Axes>"
      ]
     },
     "metadata": {},
     "output_type": "display_data"
    },
    {
     "data": {
      "text/plain": [
       "<Figure size 1000x600 with 0 Axes>"
      ]
     },
     "metadata": {},
     "output_type": "display_data"
    },
    {
     "data": {
      "text/plain": [
       "<Figure size 1000x600 with 0 Axes>"
      ]
     },
     "metadata": {},
     "output_type": "display_data"
    },
    {
     "data": {
      "text/plain": [
       "<Figure size 1000x600 with 0 Axes>"
      ]
     },
     "metadata": {},
     "output_type": "display_data"
    },
    {
     "data": {
      "text/plain": [
       "<Figure size 1000x600 with 0 Axes>"
      ]
     },
     "metadata": {},
     "output_type": "display_data"
    },
    {
     "data": {
      "text/plain": [
       "<Figure size 1000x600 with 0 Axes>"
      ]
     },
     "metadata": {},
     "output_type": "display_data"
    },
    {
     "data": {
      "text/plain": [
       "<Figure size 1000x600 with 0 Axes>"
      ]
     },
     "metadata": {},
     "output_type": "display_data"
    },
    {
     "data": {
      "text/plain": [
       "<Figure size 1000x600 with 0 Axes>"
      ]
     },
     "metadata": {},
     "output_type": "display_data"
    },
    {
     "data": {
      "text/plain": [
       "<Figure size 1000x600 with 0 Axes>"
      ]
     },
     "metadata": {},
     "output_type": "display_data"
    },
    {
     "data": {
      "text/plain": [
       "<Figure size 1000x600 with 0 Axes>"
      ]
     },
     "metadata": {},
     "output_type": "display_data"
    },
    {
     "data": {
      "text/plain": [
       "<Figure size 1000x600 with 0 Axes>"
      ]
     },
     "metadata": {},
     "output_type": "display_data"
    },
    {
     "data": {
      "text/plain": [
       "<Figure size 1000x600 with 0 Axes>"
      ]
     },
     "metadata": {},
     "output_type": "display_data"
    },
    {
     "data": {
      "text/plain": [
       "<Figure size 1000x600 with 0 Axes>"
      ]
     },
     "metadata": {},
     "output_type": "display_data"
    },
    {
     "data": {
      "text/plain": [
       "<Figure size 1000x600 with 0 Axes>"
      ]
     },
     "metadata": {},
     "output_type": "display_data"
    },
    {
     "data": {
      "text/plain": [
       "<Figure size 1000x600 with 0 Axes>"
      ]
     },
     "metadata": {},
     "output_type": "display_data"
    },
    {
     "data": {
      "text/plain": [
       "<Figure size 1000x600 with 0 Axes>"
      ]
     },
     "metadata": {},
     "output_type": "display_data"
    },
    {
     "data": {
      "text/plain": [
       "<Figure size 1000x600 with 0 Axes>"
      ]
     },
     "metadata": {},
     "output_type": "display_data"
    },
    {
     "data": {
      "text/plain": [
       "<Figure size 1000x600 with 0 Axes>"
      ]
     },
     "metadata": {},
     "output_type": "display_data"
    },
    {
     "data": {
      "text/plain": [
       "<Figure size 1000x600 with 0 Axes>"
      ]
     },
     "metadata": {},
     "output_type": "display_data"
    },
    {
     "data": {
      "text/plain": [
       "<Figure size 1000x600 with 0 Axes>"
      ]
     },
     "metadata": {},
     "output_type": "display_data"
    },
    {
     "data": {
      "text/plain": [
       "<Figure size 1000x600 with 0 Axes>"
      ]
     },
     "metadata": {},
     "output_type": "display_data"
    },
    {
     "data": {
      "text/plain": [
       "<Figure size 1000x600 with 0 Axes>"
      ]
     },
     "metadata": {},
     "output_type": "display_data"
    },
    {
     "data": {
      "text/plain": [
       "<Figure size 1000x600 with 0 Axes>"
      ]
     },
     "metadata": {},
     "output_type": "display_data"
    },
    {
     "data": {
      "text/plain": [
       "<Figure size 1000x600 with 0 Axes>"
      ]
     },
     "metadata": {},
     "output_type": "display_data"
    },
    {
     "data": {
      "text/plain": [
       "<Figure size 1000x600 with 0 Axes>"
      ]
     },
     "metadata": {},
     "output_type": "display_data"
    },
    {
     "data": {
      "text/plain": [
       "<Figure size 1000x600 with 0 Axes>"
      ]
     },
     "metadata": {},
     "output_type": "display_data"
    },
    {
     "data": {
      "text/plain": [
       "<Figure size 1000x600 with 0 Axes>"
      ]
     },
     "metadata": {},
     "output_type": "display_data"
    },
    {
     "data": {
      "text/plain": [
       "<Figure size 1000x600 with 0 Axes>"
      ]
     },
     "metadata": {},
     "output_type": "display_data"
    },
    {
     "data": {
      "text/plain": [
       "<Figure size 1000x600 with 0 Axes>"
      ]
     },
     "metadata": {},
     "output_type": "display_data"
    },
    {
     "data": {
      "text/plain": [
       "<Figure size 1000x600 with 0 Axes>"
      ]
     },
     "metadata": {},
     "output_type": "display_data"
    },
    {
     "data": {
      "text/plain": [
       "<Figure size 1000x600 with 0 Axes>"
      ]
     },
     "metadata": {},
     "output_type": "display_data"
    },
    {
     "data": {
      "text/plain": [
       "<Figure size 1000x600 with 0 Axes>"
      ]
     },
     "metadata": {},
     "output_type": "display_data"
    },
    {
     "data": {
      "text/plain": [
       "<Figure size 1000x600 with 0 Axes>"
      ]
     },
     "metadata": {},
     "output_type": "display_data"
    },
    {
     "data": {
      "text/plain": [
       "<Figure size 1000x600 with 0 Axes>"
      ]
     },
     "metadata": {},
     "output_type": "display_data"
    },
    {
     "data": {
      "text/plain": [
       "<Figure size 1000x600 with 0 Axes>"
      ]
     },
     "metadata": {},
     "output_type": "display_data"
    },
    {
     "data": {
      "text/plain": [
       "<Figure size 1000x600 with 0 Axes>"
      ]
     },
     "metadata": {},
     "output_type": "display_data"
    },
    {
     "data": {
      "text/plain": [
       "<Figure size 1000x600 with 0 Axes>"
      ]
     },
     "metadata": {},
     "output_type": "display_data"
    },
    {
     "data": {
      "text/plain": [
       "<Figure size 1000x600 with 0 Axes>"
      ]
     },
     "metadata": {},
     "output_type": "display_data"
    },
    {
     "data": {
      "text/plain": [
       "<Figure size 1000x600 with 0 Axes>"
      ]
     },
     "metadata": {},
     "output_type": "display_data"
    },
    {
     "data": {
      "text/plain": [
       "<Figure size 1000x600 with 0 Axes>"
      ]
     },
     "metadata": {},
     "output_type": "display_data"
    },
    {
     "data": {
      "text/plain": [
       "<Figure size 1000x600 with 0 Axes>"
      ]
     },
     "metadata": {},
     "output_type": "display_data"
    },
    {
     "data": {
      "text/plain": [
       "<Figure size 1000x600 with 0 Axes>"
      ]
     },
     "metadata": {},
     "output_type": "display_data"
    },
    {
     "data": {
      "text/plain": [
       "<Figure size 1000x600 with 0 Axes>"
      ]
     },
     "metadata": {},
     "output_type": "display_data"
    },
    {
     "data": {
      "text/plain": [
       "<Figure size 1000x600 with 0 Axes>"
      ]
     },
     "metadata": {},
     "output_type": "display_data"
    }
   ],
   "source": [
    "import umap\n",
    "from sklearn.cluster import KMeans\n",
    "\n",
    "def analyze_without_dummies(df, n_clusters):\n",
    "    \"\"\"\n",
    "    Analysis excluding dummy variables\n",
    "    Args:\n",
    "        df: Original DataFrame\n",
    "        n_clusters: Number of clusters to analyze\n",
    "    \"\"\"\n",
    "    # Prepare data\n",
    "    df_numeric = df.apply(pd.to_numeric, errors='coerce')\n",
    "    df_numeric = df_numeric.dropna(axis=1, how='all')\n",
    "    df_no_dummies = df_numeric.loc[:, ~df_numeric.apply(es_dummy)]\n",
    "    df_no_year = df_no_dummies.loc[:, ~df_no_dummies.columns.str.contains('year', case=False)]\n",
    "    \n",
    "    # Perform clustering\n",
    "    reducer = umap.UMAP(random_state=42)\n",
    "    embedding = reducer.fit_transform(df_no_year.dropna())\n",
    "    kmeans = KMeans(n_clusters=n_clusters, random_state=42)\n",
    "    \n",
    "    # Prepare final dataset\n",
    "    df_analysis = df_no_year.dropna().copy()\n",
    "    df_analysis['KMeans_Cluster'] = kmeans.fit_predict(embedding)\n",
    "    \n",
    "    # Analyze and create visualizations\n",
    "    top_vars = analyze_clusters(df_analysis, n_clusters)\n",
    "    create_density_plots(df_analysis, top_vars['Variable'].tolist(),\n",
    "                        n_clusters=n_clusters,\n",
    "                        analysis_type=\"no_dummies\")\n",
    "    \n",
    "    return df_analysis, top_vars\n",
    "\n",
    "\n",
    "# Execute analysis without dummies for 3 clusters\n",
    "df = pd.read_stata(\"../Data/V1_qualflags_analysis2_ML.dta\")\n",
    "df_analysis_3, top_vars_3 = analyze_without_dummies(df, 3)"
   ]
  },
  {
   "cell_type": "markdown",
   "metadata": {},
   "source": [
    "## 3. Two-Cluster Analysis\n",
    "\n",
    "- T-test analysis for all variables\n",
    "- Statistical tables generation\n",
    "- Density plots for significant differences\n",
    "- Analysis without dummy variables"
   ]
  },
  {
   "cell_type": "code",
   "execution_count": 4,
   "metadata": {},
   "outputs": [
    {
     "name": "stdout",
     "output_type": "stream",
     "text": [
      "\n",
      "LaTeX Table for 2-Cluster Analysis:\n",
      "\\begin{tabular}{lcccc}\n",
      "Feature & Mean G1 & SD G1 & Mean G2 & SD G2 & p-value \\\\\n",
      "\\hline\n",
      "Number of participants & 45.95 & 19.66 & 77.22 & 8.83 & 0.0000 \\\\\n",
      "tr_part & 45.95 & 19.66 & 77.22 & 8.83 & 0.0000 \\\\\n",
      "tr_eligibility & 50.96 & 17.83 & 74.94 & 12.05 & 0.0000 \\\\\n",
      "Participation Eligibility & 50.96 & 17.83 & 74.94 & 12.05 & 0.0000 \\\\\n",
      "Expected Participation & 59.84 & 20.18 & 83.57 & 10.78 & 0.0000 \\\\\n",
      "tr_part_exp & 59.84 & 20.18 & 83.57 & 10.78 & 0.0000 \\\\\n",
      "Funded by Org & 61.30 & 28.42 & 30.14 & 12.66 & 0.0000 \\\\\n",
      "Union & 10.95 & 12.98 & 20.00 & 8.67 & 0.0000 \\\\\n",
      "Funded by Worker & 12.12 & 12.28 & 21.31 & 10.53 & 0.0000 \\\\\n",
      "p_resp_hr & 0.39 & 0.49 & 0.72 & 0.45 & 0.0000 \\\\\n",
      "p_responsibility_hier==HR & 0.39 & 0.49 & 0.72 & 0.45 & 0.0000 \\\\\n",
      "fsub & 0.66 & 0.48 & 0.93 & 0.26 & 0.0000 \\\\\n",
      "Funded by Government & 13.06 & 11.87 & 20.47 & 10.53 & 0.0000 \\\\\n",
      "Other & 2.56 & 7.49 & 8.08 & 10.22 & 0.0000 \\\\\n",
      "p_ongoing & 0.55 & 0.50 & 0.27 & 0.45 & 0.0001 \\\\\n",
      "p_target_top & 0.53 & 0.50 & 0.79 & 0.41 & 0.0002 \\\\\n",
      "p_responsibility_hier==Top Management & 0.35 & 0.48 & 0.14 & 0.35 & 0.0013 \\\\\n",
      "p_resp_top & 0.35 & 0.48 & 0.14 & 0.35 & 0.0013 \\\\\n",
      "External Designer - Government & 0.16 & 0.37 & 0.37 & 0.49 & 0.0014 \\\\\n",
      "External Designer - Trade Association & 0.34 & 0.48 & 0.57 & 0.50 & 0.0017 \\\\\n",
      "\\end{tabular}\n",
      "\n",
      "Visualized Table for 2-Cluster Analysis:\n"
     ]
    },
    {
     "data": {
      "text/html": [
       "<div>\n",
       "<style scoped>\n",
       "    .dataframe tbody tr th:only-of-type {\n",
       "        vertical-align: middle;\n",
       "    }\n",
       "\n",
       "    .dataframe tbody tr th {\n",
       "        vertical-align: top;\n",
       "    }\n",
       "\n",
       "    .dataframe thead th {\n",
       "        text-align: right;\n",
       "    }\n",
       "</style>\n",
       "<table border=\"1\" class=\"dataframe\">\n",
       "  <thead>\n",
       "    <tr style=\"text-align: right;\">\n",
       "      <th></th>\n",
       "      <th>Feature</th>\n",
       "      <th>Mean G1</th>\n",
       "      <th>SD G1</th>\n",
       "      <th>Mean G2</th>\n",
       "      <th>SD G2</th>\n",
       "      <th>p-value</th>\n",
       "    </tr>\n",
       "  </thead>\n",
       "  <tbody>\n",
       "    <tr>\n",
       "      <th>0</th>\n",
       "      <td>Number of participants</td>\n",
       "      <td>45.95</td>\n",
       "      <td>19.66</td>\n",
       "      <td>77.22</td>\n",
       "      <td>8.83</td>\n",
       "      <td>0.0000</td>\n",
       "    </tr>\n",
       "    <tr>\n",
       "      <th>1</th>\n",
       "      <td>tr_part</td>\n",
       "      <td>45.95</td>\n",
       "      <td>19.66</td>\n",
       "      <td>77.22</td>\n",
       "      <td>8.83</td>\n",
       "      <td>0.0000</td>\n",
       "    </tr>\n",
       "    <tr>\n",
       "      <th>2</th>\n",
       "      <td>tr_eligibility</td>\n",
       "      <td>50.96</td>\n",
       "      <td>17.83</td>\n",
       "      <td>74.94</td>\n",
       "      <td>12.05</td>\n",
       "      <td>0.0000</td>\n",
       "    </tr>\n",
       "    <tr>\n",
       "      <th>3</th>\n",
       "      <td>Participation Eligibility</td>\n",
       "      <td>50.96</td>\n",
       "      <td>17.83</td>\n",
       "      <td>74.94</td>\n",
       "      <td>12.05</td>\n",
       "      <td>0.0000</td>\n",
       "    </tr>\n",
       "    <tr>\n",
       "      <th>4</th>\n",
       "      <td>Expected Participation</td>\n",
       "      <td>59.84</td>\n",
       "      <td>20.18</td>\n",
       "      <td>83.57</td>\n",
       "      <td>10.78</td>\n",
       "      <td>0.0000</td>\n",
       "    </tr>\n",
       "    <tr>\n",
       "      <th>5</th>\n",
       "      <td>tr_part_exp</td>\n",
       "      <td>59.84</td>\n",
       "      <td>20.18</td>\n",
       "      <td>83.57</td>\n",
       "      <td>10.78</td>\n",
       "      <td>0.0000</td>\n",
       "    </tr>\n",
       "    <tr>\n",
       "      <th>6</th>\n",
       "      <td>Funded by Org</td>\n",
       "      <td>61.30</td>\n",
       "      <td>28.42</td>\n",
       "      <td>30.14</td>\n",
       "      <td>12.66</td>\n",
       "      <td>0.0000</td>\n",
       "    </tr>\n",
       "    <tr>\n",
       "      <th>7</th>\n",
       "      <td>Union</td>\n",
       "      <td>10.95</td>\n",
       "      <td>12.98</td>\n",
       "      <td>20.00</td>\n",
       "      <td>8.67</td>\n",
       "      <td>0.0000</td>\n",
       "    </tr>\n",
       "    <tr>\n",
       "      <th>8</th>\n",
       "      <td>Funded by Worker</td>\n",
       "      <td>12.12</td>\n",
       "      <td>12.28</td>\n",
       "      <td>21.31</td>\n",
       "      <td>10.53</td>\n",
       "      <td>0.0000</td>\n",
       "    </tr>\n",
       "    <tr>\n",
       "      <th>9</th>\n",
       "      <td>p_resp_hr</td>\n",
       "      <td>0.39</td>\n",
       "      <td>0.49</td>\n",
       "      <td>0.72</td>\n",
       "      <td>0.45</td>\n",
       "      <td>0.0000</td>\n",
       "    </tr>\n",
       "    <tr>\n",
       "      <th>10</th>\n",
       "      <td>p_responsibility_hier==HR</td>\n",
       "      <td>0.39</td>\n",
       "      <td>0.49</td>\n",
       "      <td>0.72</td>\n",
       "      <td>0.45</td>\n",
       "      <td>0.0000</td>\n",
       "    </tr>\n",
       "    <tr>\n",
       "      <th>11</th>\n",
       "      <td>fsub</td>\n",
       "      <td>0.66</td>\n",
       "      <td>0.48</td>\n",
       "      <td>0.93</td>\n",
       "      <td>0.26</td>\n",
       "      <td>0.0000</td>\n",
       "    </tr>\n",
       "    <tr>\n",
       "      <th>12</th>\n",
       "      <td>Funded by Government</td>\n",
       "      <td>13.06</td>\n",
       "      <td>11.87</td>\n",
       "      <td>20.47</td>\n",
       "      <td>10.53</td>\n",
       "      <td>0.0000</td>\n",
       "    </tr>\n",
       "    <tr>\n",
       "      <th>13</th>\n",
       "      <td>Other</td>\n",
       "      <td>2.56</td>\n",
       "      <td>7.49</td>\n",
       "      <td>8.08</td>\n",
       "      <td>10.22</td>\n",
       "      <td>0.0000</td>\n",
       "    </tr>\n",
       "    <tr>\n",
       "      <th>14</th>\n",
       "      <td>p_ongoing</td>\n",
       "      <td>0.55</td>\n",
       "      <td>0.50</td>\n",
       "      <td>0.27</td>\n",
       "      <td>0.45</td>\n",
       "      <td>0.0001</td>\n",
       "    </tr>\n",
       "    <tr>\n",
       "      <th>15</th>\n",
       "      <td>p_target_top</td>\n",
       "      <td>0.53</td>\n",
       "      <td>0.50</td>\n",
       "      <td>0.79</td>\n",
       "      <td>0.41</td>\n",
       "      <td>0.0002</td>\n",
       "    </tr>\n",
       "    <tr>\n",
       "      <th>16</th>\n",
       "      <td>p_responsibility_hier==Top Management</td>\n",
       "      <td>0.35</td>\n",
       "      <td>0.48</td>\n",
       "      <td>0.14</td>\n",
       "      <td>0.35</td>\n",
       "      <td>0.0013</td>\n",
       "    </tr>\n",
       "    <tr>\n",
       "      <th>17</th>\n",
       "      <td>p_resp_top</td>\n",
       "      <td>0.35</td>\n",
       "      <td>0.48</td>\n",
       "      <td>0.14</td>\n",
       "      <td>0.35</td>\n",
       "      <td>0.0013</td>\n",
       "    </tr>\n",
       "    <tr>\n",
       "      <th>18</th>\n",
       "      <td>External Designer - Government</td>\n",
       "      <td>0.16</td>\n",
       "      <td>0.37</td>\n",
       "      <td>0.37</td>\n",
       "      <td>0.49</td>\n",
       "      <td>0.0014</td>\n",
       "    </tr>\n",
       "    <tr>\n",
       "      <th>19</th>\n",
       "      <td>External Designer - Trade Association</td>\n",
       "      <td>0.34</td>\n",
       "      <td>0.48</td>\n",
       "      <td>0.57</td>\n",
       "      <td>0.50</td>\n",
       "      <td>0.0017</td>\n",
       "    </tr>\n",
       "  </tbody>\n",
       "</table>\n",
       "</div>"
      ],
      "text/plain": [
       "                                  Feature Mean G1  SD G1 Mean G2  SD G2  \\\n",
       "0                  Number of participants   45.95  19.66   77.22   8.83   \n",
       "1                                 tr_part   45.95  19.66   77.22   8.83   \n",
       "2                          tr_eligibility   50.96  17.83   74.94  12.05   \n",
       "3               Participation Eligibility   50.96  17.83   74.94  12.05   \n",
       "4                  Expected Participation   59.84  20.18   83.57  10.78   \n",
       "5                             tr_part_exp   59.84  20.18   83.57  10.78   \n",
       "6                           Funded by Org   61.30  28.42   30.14  12.66   \n",
       "7                                   Union   10.95  12.98   20.00   8.67   \n",
       "8                        Funded by Worker   12.12  12.28   21.31  10.53   \n",
       "9                               p_resp_hr    0.39   0.49    0.72   0.45   \n",
       "10              p_responsibility_hier==HR    0.39   0.49    0.72   0.45   \n",
       "11                                   fsub    0.66   0.48    0.93   0.26   \n",
       "12                   Funded by Government   13.06  11.87   20.47  10.53   \n",
       "13                                  Other    2.56   7.49    8.08  10.22   \n",
       "14                              p_ongoing    0.55   0.50    0.27   0.45   \n",
       "15                           p_target_top    0.53   0.50    0.79   0.41   \n",
       "16  p_responsibility_hier==Top Management    0.35   0.48    0.14   0.35   \n",
       "17                             p_resp_top    0.35   0.48    0.14   0.35   \n",
       "18         External Designer - Government    0.16   0.37    0.37   0.49   \n",
       "19  External Designer - Trade Association    0.34   0.48    0.57   0.50   \n",
       "\n",
       "   p-value  \n",
       "0   0.0000  \n",
       "1   0.0000  \n",
       "2   0.0000  \n",
       "3   0.0000  \n",
       "4   0.0000  \n",
       "5   0.0000  \n",
       "6   0.0000  \n",
       "7   0.0000  \n",
       "8   0.0000  \n",
       "9   0.0000  \n",
       "10  0.0000  \n",
       "11  0.0000  \n",
       "12  0.0000  \n",
       "13  0.0000  \n",
       "14  0.0001  \n",
       "15  0.0002  \n",
       "16  0.0013  \n",
       "17  0.0013  \n",
       "18  0.0014  \n",
       "19  0.0017  "
      ]
     },
     "metadata": {},
     "output_type": "display_data"
    },
    {
     "name": "stdout",
     "output_type": "stream",
     "text": [
      "\n",
      "LaTeX Table for 2-Cluster Analysis:\n",
      "\\begin{tabular}{lcccc}\n",
      "Feature & Mean G1 & SD G1 & Mean G2 & SD G2 & p-value \\\\\n",
      "\\hline\n",
      "Funded by Org & 33.43 & 17.20 & 91.39 & 18.16 & 0.0000 \\\\\n",
      "Union & 18.77 & 10.48 & 1.00 & 5.21 & 0.0000 \\\\\n",
      "Funded by Worker & 19.82 & 13.69 & 2.17 & 8.67 & 0.0000 \\\\\n",
      "Number of participants & 66.33 & 16.79 & 38.68 & 23.31 & 0.0000 \\\\\n",
      "tr_part & 66.33 & 16.79 & 38.68 & 23.31 & 0.0000 \\\\\n",
      "Funded by Government & 20.95 & 12.54 & 4.86 & 12.72 & 0.0000 \\\\\n",
      "tr_part_exp & 74.68 & 15.87 & 52.21 & 25.25 & 0.0000 \\\\\n",
      "Expected Participation & 74.68 & 15.87 & 52.21 & 25.25 & 0.0000 \\\\\n",
      "Other & 7.03 & 9.84 & 0.58 & 3.63 & 0.0000 \\\\\n",
      "Participation Eligibility & 66.99 & 15.85 & 51.23 & 23.34 & 0.0000 \\\\\n",
      "tr_eligibility & 66.99 & 15.85 & 51.23 & 23.34 & 0.0000 \\\\\n",
      "p_participated_coarse & 2.17 & 0.77 & 1.75 & 0.80 & 0.0000 \\\\\n",
      "Total Nr of KPIs & 3.30 & 1.51 & 4.10 & 1.93 & 0.0000 \\\\\n",
      "Program Effectiveness & 2.57 & 0.51 & 2.42 & 0.51 & 0.0000 \\\\\n",
      "Program Length (Years) & 1.58 & 1.07 & 1.86 & 1.18 & 0.0005 \\\\\n",
      "Total Nr skills needed & 5.58 & 3.03 & 5.04 & 2.55 & 0.0056 \\\\\n",
      "b_sk_n_soft & 0.96 & 0.77 & 0.82 & 0.74 & 0.0077 \\\\\n",
      "share_matched & 0.48 & 0.30 & 0.54 & 0.28 & 0.0081 \\\\\n",
      "Firm: Ownership & 2.68 & 1.21 & 2.92 & 1.62 & 0.0221 \\\\\n",
      "b_sk_n_digital & 1.62 & 1.18 & 1.44 & 1.07 & 0.0237 \\\\\n",
      "\\end{tabular}\n",
      "\n",
      "Visualized Table for 2-Cluster Analysis:\n"
     ]
    },
    {
     "data": {
      "text/html": [
       "<div>\n",
       "<style scoped>\n",
       "    .dataframe tbody tr th:only-of-type {\n",
       "        vertical-align: middle;\n",
       "    }\n",
       "\n",
       "    .dataframe tbody tr th {\n",
       "        vertical-align: top;\n",
       "    }\n",
       "\n",
       "    .dataframe thead th {\n",
       "        text-align: right;\n",
       "    }\n",
       "</style>\n",
       "<table border=\"1\" class=\"dataframe\">\n",
       "  <thead>\n",
       "    <tr style=\"text-align: right;\">\n",
       "      <th></th>\n",
       "      <th>Feature</th>\n",
       "      <th>Mean G1</th>\n",
       "      <th>SD G1</th>\n",
       "      <th>Mean G2</th>\n",
       "      <th>SD G2</th>\n",
       "      <th>p-value</th>\n",
       "    </tr>\n",
       "  </thead>\n",
       "  <tbody>\n",
       "    <tr>\n",
       "      <th>0</th>\n",
       "      <td>Funded by Org</td>\n",
       "      <td>33.43</td>\n",
       "      <td>17.20</td>\n",
       "      <td>91.39</td>\n",
       "      <td>18.16</td>\n",
       "      <td>0.0000</td>\n",
       "    </tr>\n",
       "    <tr>\n",
       "      <th>1</th>\n",
       "      <td>Union</td>\n",
       "      <td>18.77</td>\n",
       "      <td>10.48</td>\n",
       "      <td>1.00</td>\n",
       "      <td>5.21</td>\n",
       "      <td>0.0000</td>\n",
       "    </tr>\n",
       "    <tr>\n",
       "      <th>2</th>\n",
       "      <td>Funded by Worker</td>\n",
       "      <td>19.82</td>\n",
       "      <td>13.69</td>\n",
       "      <td>2.17</td>\n",
       "      <td>8.67</td>\n",
       "      <td>0.0000</td>\n",
       "    </tr>\n",
       "    <tr>\n",
       "      <th>3</th>\n",
       "      <td>Number of participants</td>\n",
       "      <td>66.33</td>\n",
       "      <td>16.79</td>\n",
       "      <td>38.68</td>\n",
       "      <td>23.31</td>\n",
       "      <td>0.0000</td>\n",
       "    </tr>\n",
       "    <tr>\n",
       "      <th>4</th>\n",
       "      <td>tr_part</td>\n",
       "      <td>66.33</td>\n",
       "      <td>16.79</td>\n",
       "      <td>38.68</td>\n",
       "      <td>23.31</td>\n",
       "      <td>0.0000</td>\n",
       "    </tr>\n",
       "    <tr>\n",
       "      <th>5</th>\n",
       "      <td>Funded by Government</td>\n",
       "      <td>20.95</td>\n",
       "      <td>12.54</td>\n",
       "      <td>4.86</td>\n",
       "      <td>12.72</td>\n",
       "      <td>0.0000</td>\n",
       "    </tr>\n",
       "    <tr>\n",
       "      <th>6</th>\n",
       "      <td>tr_part_exp</td>\n",
       "      <td>74.68</td>\n",
       "      <td>15.87</td>\n",
       "      <td>52.21</td>\n",
       "      <td>25.25</td>\n",
       "      <td>0.0000</td>\n",
       "    </tr>\n",
       "    <tr>\n",
       "      <th>7</th>\n",
       "      <td>Expected Participation</td>\n",
       "      <td>74.68</td>\n",
       "      <td>15.87</td>\n",
       "      <td>52.21</td>\n",
       "      <td>25.25</td>\n",
       "      <td>0.0000</td>\n",
       "    </tr>\n",
       "    <tr>\n",
       "      <th>8</th>\n",
       "      <td>Other</td>\n",
       "      <td>7.03</td>\n",
       "      <td>9.84</td>\n",
       "      <td>0.58</td>\n",
       "      <td>3.63</td>\n",
       "      <td>0.0000</td>\n",
       "    </tr>\n",
       "    <tr>\n",
       "      <th>9</th>\n",
       "      <td>Participation Eligibility</td>\n",
       "      <td>66.99</td>\n",
       "      <td>15.85</td>\n",
       "      <td>51.23</td>\n",
       "      <td>23.34</td>\n",
       "      <td>0.0000</td>\n",
       "    </tr>\n",
       "    <tr>\n",
       "      <th>10</th>\n",
       "      <td>tr_eligibility</td>\n",
       "      <td>66.99</td>\n",
       "      <td>15.85</td>\n",
       "      <td>51.23</td>\n",
       "      <td>23.34</td>\n",
       "      <td>0.0000</td>\n",
       "    </tr>\n",
       "    <tr>\n",
       "      <th>11</th>\n",
       "      <td>p_participated_coarse</td>\n",
       "      <td>2.17</td>\n",
       "      <td>0.77</td>\n",
       "      <td>1.75</td>\n",
       "      <td>0.80</td>\n",
       "      <td>0.0000</td>\n",
       "    </tr>\n",
       "    <tr>\n",
       "      <th>12</th>\n",
       "      <td>Total Nr of KPIs</td>\n",
       "      <td>3.30</td>\n",
       "      <td>1.51</td>\n",
       "      <td>4.10</td>\n",
       "      <td>1.93</td>\n",
       "      <td>0.0000</td>\n",
       "    </tr>\n",
       "    <tr>\n",
       "      <th>13</th>\n",
       "      <td>Program Effectiveness</td>\n",
       "      <td>2.57</td>\n",
       "      <td>0.51</td>\n",
       "      <td>2.42</td>\n",
       "      <td>0.51</td>\n",
       "      <td>0.0000</td>\n",
       "    </tr>\n",
       "    <tr>\n",
       "      <th>14</th>\n",
       "      <td>Program Length (Years)</td>\n",
       "      <td>1.58</td>\n",
       "      <td>1.07</td>\n",
       "      <td>1.86</td>\n",
       "      <td>1.18</td>\n",
       "      <td>0.0005</td>\n",
       "    </tr>\n",
       "    <tr>\n",
       "      <th>15</th>\n",
       "      <td>Total Nr skills needed</td>\n",
       "      <td>5.58</td>\n",
       "      <td>3.03</td>\n",
       "      <td>5.04</td>\n",
       "      <td>2.55</td>\n",
       "      <td>0.0056</td>\n",
       "    </tr>\n",
       "    <tr>\n",
       "      <th>16</th>\n",
       "      <td>b_sk_n_soft</td>\n",
       "      <td>0.96</td>\n",
       "      <td>0.77</td>\n",
       "      <td>0.82</td>\n",
       "      <td>0.74</td>\n",
       "      <td>0.0077</td>\n",
       "    </tr>\n",
       "    <tr>\n",
       "      <th>17</th>\n",
       "      <td>share_matched</td>\n",
       "      <td>0.48</td>\n",
       "      <td>0.30</td>\n",
       "      <td>0.54</td>\n",
       "      <td>0.28</td>\n",
       "      <td>0.0081</td>\n",
       "    </tr>\n",
       "    <tr>\n",
       "      <th>18</th>\n",
       "      <td>Firm: Ownership</td>\n",
       "      <td>2.68</td>\n",
       "      <td>1.21</td>\n",
       "      <td>2.92</td>\n",
       "      <td>1.62</td>\n",
       "      <td>0.0221</td>\n",
       "    </tr>\n",
       "    <tr>\n",
       "      <th>19</th>\n",
       "      <td>b_sk_n_digital</td>\n",
       "      <td>1.62</td>\n",
       "      <td>1.18</td>\n",
       "      <td>1.44</td>\n",
       "      <td>1.07</td>\n",
       "      <td>0.0237</td>\n",
       "    </tr>\n",
       "  </tbody>\n",
       "</table>\n",
       "</div>"
      ],
      "text/plain": [
       "                      Feature Mean G1  SD G1 Mean G2  SD G2 p-value\n",
       "0               Funded by Org   33.43  17.20   91.39  18.16  0.0000\n",
       "1                       Union   18.77  10.48    1.00   5.21  0.0000\n",
       "2            Funded by Worker   19.82  13.69    2.17   8.67  0.0000\n",
       "3      Number of participants   66.33  16.79   38.68  23.31  0.0000\n",
       "4                     tr_part   66.33  16.79   38.68  23.31  0.0000\n",
       "5        Funded by Government   20.95  12.54    4.86  12.72  0.0000\n",
       "6                 tr_part_exp   74.68  15.87   52.21  25.25  0.0000\n",
       "7      Expected Participation   74.68  15.87   52.21  25.25  0.0000\n",
       "8                       Other    7.03   9.84    0.58   3.63  0.0000\n",
       "9   Participation Eligibility   66.99  15.85   51.23  23.34  0.0000\n",
       "10             tr_eligibility   66.99  15.85   51.23  23.34  0.0000\n",
       "11      p_participated_coarse    2.17   0.77    1.75   0.80  0.0000\n",
       "12           Total Nr of KPIs    3.30   1.51    4.10   1.93  0.0000\n",
       "13      Program Effectiveness    2.57   0.51    2.42   0.51  0.0000\n",
       "14     Program Length (Years)    1.58   1.07    1.86   1.18  0.0005\n",
       "15     Total Nr skills needed    5.58   3.03    5.04   2.55  0.0056\n",
       "16                b_sk_n_soft    0.96   0.77    0.82   0.74  0.0077\n",
       "17              share_matched    0.48   0.30    0.54   0.28  0.0081\n",
       "18            Firm: Ownership    2.68   1.21    2.92   1.62  0.0221\n",
       "19             b_sk_n_digital    1.62   1.18    1.44   1.07  0.0237"
      ]
     },
     "metadata": {},
     "output_type": "display_data"
    },
    {
     "data": {
      "text/plain": [
       "<Figure size 1000x600 with 0 Axes>"
      ]
     },
     "metadata": {},
     "output_type": "display_data"
    },
    {
     "data": {
      "text/plain": [
       "<Figure size 1000x600 with 0 Axes>"
      ]
     },
     "metadata": {},
     "output_type": "display_data"
    },
    {
     "data": {
      "text/plain": [
       "<Figure size 1000x600 with 0 Axes>"
      ]
     },
     "metadata": {},
     "output_type": "display_data"
    },
    {
     "data": {
      "text/plain": [
       "<Figure size 1000x600 with 0 Axes>"
      ]
     },
     "metadata": {},
     "output_type": "display_data"
    },
    {
     "data": {
      "text/plain": [
       "<Figure size 1000x600 with 0 Axes>"
      ]
     },
     "metadata": {},
     "output_type": "display_data"
    },
    {
     "data": {
      "text/plain": [
       "<Figure size 1000x600 with 0 Axes>"
      ]
     },
     "metadata": {},
     "output_type": "display_data"
    },
    {
     "data": {
      "text/plain": [
       "<Figure size 1000x600 with 0 Axes>"
      ]
     },
     "metadata": {},
     "output_type": "display_data"
    },
    {
     "data": {
      "text/plain": [
       "<Figure size 1000x600 with 0 Axes>"
      ]
     },
     "metadata": {},
     "output_type": "display_data"
    },
    {
     "data": {
      "text/plain": [
       "<Figure size 1000x600 with 0 Axes>"
      ]
     },
     "metadata": {},
     "output_type": "display_data"
    },
    {
     "data": {
      "text/plain": [
       "<Figure size 1000x600 with 0 Axes>"
      ]
     },
     "metadata": {},
     "output_type": "display_data"
    },
    {
     "data": {
      "text/plain": [
       "<Figure size 1000x600 with 0 Axes>"
      ]
     },
     "metadata": {},
     "output_type": "display_data"
    },
    {
     "data": {
      "text/plain": [
       "<Figure size 1000x600 with 0 Axes>"
      ]
     },
     "metadata": {},
     "output_type": "display_data"
    },
    {
     "data": {
      "text/plain": [
       "<Figure size 1000x600 with 0 Axes>"
      ]
     },
     "metadata": {},
     "output_type": "display_data"
    },
    {
     "data": {
      "text/plain": [
       "<Figure size 1000x600 with 0 Axes>"
      ]
     },
     "metadata": {},
     "output_type": "display_data"
    },
    {
     "data": {
      "text/plain": [
       "<Figure size 1000x600 with 0 Axes>"
      ]
     },
     "metadata": {},
     "output_type": "display_data"
    },
    {
     "data": {
      "text/plain": [
       "<Figure size 1000x600 with 0 Axes>"
      ]
     },
     "metadata": {},
     "output_type": "display_data"
    },
    {
     "data": {
      "text/plain": [
       "<Figure size 1000x600 with 0 Axes>"
      ]
     },
     "metadata": {},
     "output_type": "display_data"
    },
    {
     "data": {
      "text/plain": [
       "<Figure size 1000x600 with 0 Axes>"
      ]
     },
     "metadata": {},
     "output_type": "display_data"
    },
    {
     "data": {
      "text/plain": [
       "<Figure size 1000x600 with 0 Axes>"
      ]
     },
     "metadata": {},
     "output_type": "display_data"
    },
    {
     "data": {
      "text/plain": [
       "<Figure size 1000x600 with 0 Axes>"
      ]
     },
     "metadata": {},
     "output_type": "display_data"
    },
    {
     "data": {
      "text/plain": [
       "<Figure size 1000x600 with 0 Axes>"
      ]
     },
     "metadata": {},
     "output_type": "display_data"
    },
    {
     "data": {
      "text/plain": [
       "<Figure size 1000x600 with 0 Axes>"
      ]
     },
     "metadata": {},
     "output_type": "display_data"
    },
    {
     "data": {
      "text/plain": [
       "<Figure size 1000x600 with 0 Axes>"
      ]
     },
     "metadata": {},
     "output_type": "display_data"
    },
    {
     "data": {
      "text/plain": [
       "<Figure size 1000x600 with 0 Axes>"
      ]
     },
     "metadata": {},
     "output_type": "display_data"
    },
    {
     "data": {
      "text/plain": [
       "<Figure size 1000x600 with 0 Axes>"
      ]
     },
     "metadata": {},
     "output_type": "display_data"
    },
    {
     "data": {
      "text/plain": [
       "<Figure size 1000x600 with 0 Axes>"
      ]
     },
     "metadata": {},
     "output_type": "display_data"
    },
    {
     "data": {
      "text/plain": [
       "<Figure size 1000x600 with 0 Axes>"
      ]
     },
     "metadata": {},
     "output_type": "display_data"
    },
    {
     "data": {
      "text/plain": [
       "<Figure size 1000x600 with 0 Axes>"
      ]
     },
     "metadata": {},
     "output_type": "display_data"
    },
    {
     "data": {
      "text/plain": [
       "<Figure size 1000x600 with 0 Axes>"
      ]
     },
     "metadata": {},
     "output_type": "display_data"
    },
    {
     "data": {
      "text/plain": [
       "<Figure size 1000x600 with 0 Axes>"
      ]
     },
     "metadata": {},
     "output_type": "display_data"
    },
    {
     "data": {
      "text/plain": [
       "<Figure size 1000x600 with 0 Axes>"
      ]
     },
     "metadata": {},
     "output_type": "display_data"
    },
    {
     "data": {
      "text/plain": [
       "<Figure size 1000x600 with 0 Axes>"
      ]
     },
     "metadata": {},
     "output_type": "display_data"
    },
    {
     "data": {
      "text/plain": [
       "<Figure size 1000x600 with 0 Axes>"
      ]
     },
     "metadata": {},
     "output_type": "display_data"
    },
    {
     "data": {
      "text/plain": [
       "<Figure size 1000x600 with 0 Axes>"
      ]
     },
     "metadata": {},
     "output_type": "display_data"
    },
    {
     "data": {
      "text/plain": [
       "<Figure size 1000x600 with 0 Axes>"
      ]
     },
     "metadata": {},
     "output_type": "display_data"
    },
    {
     "data": {
      "text/plain": [
       "<Figure size 1000x600 with 0 Axes>"
      ]
     },
     "metadata": {},
     "output_type": "display_data"
    },
    {
     "data": {
      "text/plain": [
       "<Figure size 1000x600 with 0 Axes>"
      ]
     },
     "metadata": {},
     "output_type": "display_data"
    },
    {
     "data": {
      "text/plain": [
       "<Figure size 1000x600 with 0 Axes>"
      ]
     },
     "metadata": {},
     "output_type": "display_data"
    },
    {
     "data": {
      "text/plain": [
       "<Figure size 1000x600 with 0 Axes>"
      ]
     },
     "metadata": {},
     "output_type": "display_data"
    },
    {
     "data": {
      "text/plain": [
       "<Figure size 1000x600 with 0 Axes>"
      ]
     },
     "metadata": {},
     "output_type": "display_data"
    },
    {
     "data": {
      "text/plain": [
       "<Figure size 1000x600 with 0 Axes>"
      ]
     },
     "metadata": {},
     "output_type": "display_data"
    },
    {
     "data": {
      "text/plain": [
       "<Figure size 1000x600 with 0 Axes>"
      ]
     },
     "metadata": {},
     "output_type": "display_data"
    },
    {
     "data": {
      "text/plain": [
       "<Figure size 1000x600 with 0 Axes>"
      ]
     },
     "metadata": {},
     "output_type": "display_data"
    },
    {
     "data": {
      "text/plain": [
       "<Figure size 1000x600 with 0 Axes>"
      ]
     },
     "metadata": {},
     "output_type": "display_data"
    },
    {
     "data": {
      "text/plain": [
       "<Figure size 1000x600 with 0 Axes>"
      ]
     },
     "metadata": {},
     "output_type": "display_data"
    },
    {
     "data": {
      "text/plain": [
       "<Figure size 1000x600 with 0 Axes>"
      ]
     },
     "metadata": {},
     "output_type": "display_data"
    },
    {
     "data": {
      "text/plain": [
       "<Figure size 1000x600 with 0 Axes>"
      ]
     },
     "metadata": {},
     "output_type": "display_data"
    },
    {
     "data": {
      "text/plain": [
       "<Figure size 1000x600 with 0 Axes>"
      ]
     },
     "metadata": {},
     "output_type": "display_data"
    },
    {
     "data": {
      "text/plain": [
       "<Figure size 1000x600 with 0 Axes>"
      ]
     },
     "metadata": {},
     "output_type": "display_data"
    },
    {
     "data": {
      "text/plain": [
       "<Figure size 1000x600 with 0 Axes>"
      ]
     },
     "metadata": {},
     "output_type": "display_data"
    },
    {
     "data": {
      "text/plain": [
       "<Figure size 1000x600 with 0 Axes>"
      ]
     },
     "metadata": {},
     "output_type": "display_data"
    },
    {
     "data": {
      "text/plain": [
       "<Figure size 1000x600 with 0 Axes>"
      ]
     },
     "metadata": {},
     "output_type": "display_data"
    },
    {
     "data": {
      "text/plain": [
       "<Figure size 1000x600 with 0 Axes>"
      ]
     },
     "metadata": {},
     "output_type": "display_data"
    },
    {
     "data": {
      "text/plain": [
       "<Figure size 1000x600 with 0 Axes>"
      ]
     },
     "metadata": {},
     "output_type": "display_data"
    },
    {
     "data": {
      "text/plain": [
       "<Figure size 1000x600 with 0 Axes>"
      ]
     },
     "metadata": {},
     "output_type": "display_data"
    },
    {
     "data": {
      "text/plain": [
       "<Figure size 1000x600 with 0 Axes>"
      ]
     },
     "metadata": {},
     "output_type": "display_data"
    },
    {
     "data": {
      "text/plain": [
       "<Figure size 1000x600 with 0 Axes>"
      ]
     },
     "metadata": {},
     "output_type": "display_data"
    },
    {
     "data": {
      "text/plain": [
       "<Figure size 1000x600 with 0 Axes>"
      ]
     },
     "metadata": {},
     "output_type": "display_data"
    },
    {
     "data": {
      "text/plain": [
       "<Figure size 1000x600 with 0 Axes>"
      ]
     },
     "metadata": {},
     "output_type": "display_data"
    },
    {
     "data": {
      "text/plain": [
       "<Figure size 1000x600 with 0 Axes>"
      ]
     },
     "metadata": {},
     "output_type": "display_data"
    },
    {
     "data": {
      "text/plain": [
       "<Figure size 1000x600 with 0 Axes>"
      ]
     },
     "metadata": {},
     "output_type": "display_data"
    },
    {
     "data": {
      "text/plain": [
       "<Figure size 1000x600 with 0 Axes>"
      ]
     },
     "metadata": {},
     "output_type": "display_data"
    },
    {
     "data": {
      "text/plain": [
       "<Figure size 1000x600 with 0 Axes>"
      ]
     },
     "metadata": {},
     "output_type": "display_data"
    },
    {
     "data": {
      "text/plain": [
       "<Figure size 1000x600 with 0 Axes>"
      ]
     },
     "metadata": {},
     "output_type": "display_data"
    },
    {
     "data": {
      "text/plain": [
       "<Figure size 1000x600 with 0 Axes>"
      ]
     },
     "metadata": {},
     "output_type": "display_data"
    },
    {
     "data": {
      "text/plain": [
       "<Figure size 1000x600 with 0 Axes>"
      ]
     },
     "metadata": {},
     "output_type": "display_data"
    },
    {
     "data": {
      "text/plain": [
       "<Figure size 1000x600 with 0 Axes>"
      ]
     },
     "metadata": {},
     "output_type": "display_data"
    },
    {
     "data": {
      "text/plain": [
       "<Figure size 1000x600 with 0 Axes>"
      ]
     },
     "metadata": {},
     "output_type": "display_data"
    },
    {
     "data": {
      "text/plain": [
       "<Figure size 1000x600 with 0 Axes>"
      ]
     },
     "metadata": {},
     "output_type": "display_data"
    },
    {
     "data": {
      "text/plain": [
       "<Figure size 1000x600 with 0 Axes>"
      ]
     },
     "metadata": {},
     "output_type": "display_data"
    },
    {
     "data": {
      "text/plain": [
       "<Figure size 1000x600 with 0 Axes>"
      ]
     },
     "metadata": {},
     "output_type": "display_data"
    },
    {
     "data": {
      "text/plain": [
       "<Figure size 1000x600 with 0 Axes>"
      ]
     },
     "metadata": {},
     "output_type": "display_data"
    },
    {
     "data": {
      "text/plain": [
       "<Figure size 1000x600 with 0 Axes>"
      ]
     },
     "metadata": {},
     "output_type": "display_data"
    },
    {
     "data": {
      "text/plain": [
       "<Figure size 1000x600 with 0 Axes>"
      ]
     },
     "metadata": {},
     "output_type": "display_data"
    },
    {
     "data": {
      "text/plain": [
       "<Figure size 1000x600 with 0 Axes>"
      ]
     },
     "metadata": {},
     "output_type": "display_data"
    },
    {
     "data": {
      "text/plain": [
       "<Figure size 1000x600 with 0 Axes>"
      ]
     },
     "metadata": {},
     "output_type": "display_data"
    },
    {
     "data": {
      "text/plain": [
       "<Figure size 1000x600 with 0 Axes>"
      ]
     },
     "metadata": {},
     "output_type": "display_data"
    },
    {
     "data": {
      "text/plain": [
       "<Figure size 1000x600 with 0 Axes>"
      ]
     },
     "metadata": {},
     "output_type": "display_data"
    },
    {
     "data": {
      "text/plain": [
       "<Figure size 1000x600 with 0 Axes>"
      ]
     },
     "metadata": {},
     "output_type": "display_data"
    },
    {
     "data": {
      "text/plain": [
       "<Figure size 1000x600 with 0 Axes>"
      ]
     },
     "metadata": {},
     "output_type": "display_data"
    },
    {
     "data": {
      "text/plain": [
       "<Figure size 1000x600 with 0 Axes>"
      ]
     },
     "metadata": {},
     "output_type": "display_data"
    },
    {
     "data": {
      "text/plain": [
       "<Figure size 1000x600 with 0 Axes>"
      ]
     },
     "metadata": {},
     "output_type": "display_data"
    },
    {
     "data": {
      "text/plain": [
       "<Figure size 1000x600 with 0 Axes>"
      ]
     },
     "metadata": {},
     "output_type": "display_data"
    },
    {
     "data": {
      "text/plain": [
       "<Figure size 1000x600 with 0 Axes>"
      ]
     },
     "metadata": {},
     "output_type": "display_data"
    },
    {
     "data": {
      "text/plain": [
       "<Figure size 1000x600 with 0 Axes>"
      ]
     },
     "metadata": {},
     "output_type": "display_data"
    },
    {
     "data": {
      "text/plain": [
       "<Figure size 1000x600 with 0 Axes>"
      ]
     },
     "metadata": {},
     "output_type": "display_data"
    },
    {
     "data": {
      "text/plain": [
       "<Figure size 1000x600 with 0 Axes>"
      ]
     },
     "metadata": {},
     "output_type": "display_data"
    },
    {
     "data": {
      "text/plain": [
       "<Figure size 1000x600 with 0 Axes>"
      ]
     },
     "metadata": {},
     "output_type": "display_data"
    },
    {
     "data": {
      "text/plain": [
       "<Figure size 1000x600 with 0 Axes>"
      ]
     },
     "metadata": {},
     "output_type": "display_data"
    },
    {
     "data": {
      "text/plain": [
       "<Figure size 1000x600 with 0 Axes>"
      ]
     },
     "metadata": {},
     "output_type": "display_data"
    },
    {
     "data": {
      "text/plain": [
       "<Figure size 1000x600 with 0 Axes>"
      ]
     },
     "metadata": {},
     "output_type": "display_data"
    },
    {
     "data": {
      "text/plain": [
       "<Figure size 1000x600 with 0 Axes>"
      ]
     },
     "metadata": {},
     "output_type": "display_data"
    },
    {
     "data": {
      "text/plain": [
       "<Figure size 1000x600 with 0 Axes>"
      ]
     },
     "metadata": {},
     "output_type": "display_data"
    },
    {
     "data": {
      "text/plain": [
       "<Figure size 1000x600 with 0 Axes>"
      ]
     },
     "metadata": {},
     "output_type": "display_data"
    },
    {
     "data": {
      "text/plain": [
       "<Figure size 1000x600 with 0 Axes>"
      ]
     },
     "metadata": {},
     "output_type": "display_data"
    },
    {
     "data": {
      "text/plain": [
       "<Figure size 1000x600 with 0 Axes>"
      ]
     },
     "metadata": {},
     "output_type": "display_data"
    },
    {
     "data": {
      "text/plain": [
       "<Figure size 1000x600 with 0 Axes>"
      ]
     },
     "metadata": {},
     "output_type": "display_data"
    },
    {
     "data": {
      "text/plain": [
       "<Figure size 1000x600 with 0 Axes>"
      ]
     },
     "metadata": {},
     "output_type": "display_data"
    },
    {
     "data": {
      "text/plain": [
       "<Figure size 1000x600 with 0 Axes>"
      ]
     },
     "metadata": {},
     "output_type": "display_data"
    },
    {
     "data": {
      "text/plain": [
       "<Figure size 1000x600 with 0 Axes>"
      ]
     },
     "metadata": {},
     "output_type": "display_data"
    },
    {
     "data": {
      "text/plain": [
       "<Figure size 1000x600 with 0 Axes>"
      ]
     },
     "metadata": {},
     "output_type": "display_data"
    },
    {
     "data": {
      "text/plain": [
       "<Figure size 1000x600 with 0 Axes>"
      ]
     },
     "metadata": {},
     "output_type": "display_data"
    },
    {
     "data": {
      "text/plain": [
       "<Figure size 1000x600 with 0 Axes>"
      ]
     },
     "metadata": {},
     "output_type": "display_data"
    },
    {
     "data": {
      "text/plain": [
       "<Figure size 1000x600 with 0 Axes>"
      ]
     },
     "metadata": {},
     "output_type": "display_data"
    },
    {
     "data": {
      "text/plain": [
       "<Figure size 1000x600 with 0 Axes>"
      ]
     },
     "metadata": {},
     "output_type": "display_data"
    },
    {
     "data": {
      "text/plain": [
       "<Figure size 1000x600 with 0 Axes>"
      ]
     },
     "metadata": {},
     "output_type": "display_data"
    },
    {
     "data": {
      "text/plain": [
       "<Figure size 1000x600 with 0 Axes>"
      ]
     },
     "metadata": {},
     "output_type": "display_data"
    },
    {
     "data": {
      "text/plain": [
       "<Figure size 1000x600 with 0 Axes>"
      ]
     },
     "metadata": {},
     "output_type": "display_data"
    },
    {
     "data": {
      "text/plain": [
       "<Figure size 1000x600 with 0 Axes>"
      ]
     },
     "metadata": {},
     "output_type": "display_data"
    },
    {
     "data": {
      "text/plain": [
       "<Figure size 1000x600 with 0 Axes>"
      ]
     },
     "metadata": {},
     "output_type": "display_data"
    },
    {
     "data": {
      "text/plain": [
       "<Figure size 1000x600 with 0 Axes>"
      ]
     },
     "metadata": {},
     "output_type": "display_data"
    },
    {
     "data": {
      "text/plain": [
       "<Figure size 1000x600 with 0 Axes>"
      ]
     },
     "metadata": {},
     "output_type": "display_data"
    },
    {
     "data": {
      "text/plain": [
       "<Figure size 1000x600 with 0 Axes>"
      ]
     },
     "metadata": {},
     "output_type": "display_data"
    },
    {
     "data": {
      "text/plain": [
       "<Figure size 1000x600 with 0 Axes>"
      ]
     },
     "metadata": {},
     "output_type": "display_data"
    },
    {
     "data": {
      "text/plain": [
       "<Figure size 1000x600 with 0 Axes>"
      ]
     },
     "metadata": {},
     "output_type": "display_data"
    },
    {
     "data": {
      "text/plain": [
       "<Figure size 1000x600 with 0 Axes>"
      ]
     },
     "metadata": {},
     "output_type": "display_data"
    },
    {
     "data": {
      "text/plain": [
       "<Figure size 1000x600 with 0 Axes>"
      ]
     },
     "metadata": {},
     "output_type": "display_data"
    },
    {
     "data": {
      "text/plain": [
       "<Figure size 1000x600 with 0 Axes>"
      ]
     },
     "metadata": {},
     "output_type": "display_data"
    },
    {
     "data": {
      "text/plain": [
       "<Figure size 1000x600 with 0 Axes>"
      ]
     },
     "metadata": {},
     "output_type": "display_data"
    },
    {
     "data": {
      "text/plain": [
       "<Figure size 1000x600 with 0 Axes>"
      ]
     },
     "metadata": {},
     "output_type": "display_data"
    }
   ],
   "source": [
    "# Execute analysis for 2 clusters\n",
    "df_2clusters = pd.read_csv(\"../Output/Results/clusters_2_construction.csv\")\n",
    "top_vars_2clusters = analyze_clusters(df_2clusters, 2)\n",
    "create_density_plots(df_2clusters, top_vars_2clusters['Variable'].tolist())\n",
    "\n",
    "# Execute analysis without dummies for 2 clusters\n",
    "df = pd.read_stata(\"../Data/V1_qualflags_analysis2_ML.dta\")\n",
    "df_analysis_2, top_vars_2 = analyze_without_dummies(df, 2)"
   ]
  },
  {
   "cell_type": "markdown",
   "metadata": {},
   "source": [
    "## 4. Cluster and Program Type Comparison  \n",
    "\n",
    "- UMAP visualization comparing clusters and actual program types  \n",
    "- Confusion matrix showing program type distribution within clusters  \n",
    "- Normalized proportions for each cluster  \n",
    "- Evaluation of cluster homogeneity  \n",
    "\n",
    "### Files Generated  \n",
    "\n",
    "- `umap_cluster_program_comparison.png`: UMAP visualization  \n",
    "- `cluster_program_distribution.csv`: Distribution statistics  \n",
    "- `cluster_program_distribution.png`: Bar chart visualization  \n"
   ]
  },
  {
   "cell_type": "code",
   "execution_count": 7,
   "metadata": {},
   "outputs": [
    {
     "name": "stdout",
     "output_type": "stream",
     "text": [
      "Loading data...\n",
      "\n",
      "Initial data shape: (1209, 466)\n",
      "Missing values before preprocessing: 48704\n",
      "\n",
      "Preprocessing data...\n",
      "Data shape after preprocessing: (1209, 760)\n",
      "Missing values after preprocessing: 0\n",
      "\n",
      "Standardizing features...\n",
      "\n",
      "Performing UMAP...\n",
      "\n",
      "Creating visualizations...\n",
      "\n",
      "Saving outputs...\n",
      "\n",
      "Distribution of program types within clusters:\n",
      "Program   General  Upskilling  Reskilling\n",
      "Cluster                                  \n",
      "0        0.135084    0.397749    0.467167\n",
      "1        0.000000    0.372781    0.627219\n"
     ]
    },
    {
     "data": {
      "text/plain": [
       "<Figure size 1000x600 with 0 Axes>"
      ]
     },
     "metadata": {},
     "output_type": "display_data"
    }
   ],
   "source": [
    "from sklearn.preprocessing import StandardScaler\n",
    "\n",
    "def clean_and_preprocess(data):\n",
    "    \"\"\"\n",
    "    Clean and preprocess data with thorough NaN handling\n",
    "    \"\"\"\n",
    "    # Create copy to avoid modifying original data\n",
    "    df = data.copy()\n",
    "    \n",
    "    # Step 1: Create dummy variables\n",
    "    df = pd.get_dummies(df)\n",
    "    \n",
    "    # Step 2: Clean column names\n",
    "    df.columns = [col.replace('>', 'greater').replace('<', 'less').replace(',', '_') \n",
    "                 for col in df.columns]\n",
    "    \n",
    "    # Step 3: Handle missing values\n",
    "    numeric_cols = df.select_dtypes(include=['float64', 'int64']).columns\n",
    "    \n",
    "    # Fill numeric columns with median\n",
    "    for col in numeric_cols:\n",
    "        df[col] = df[col].fillna(df[col].median())\n",
    "    \n",
    "    # Fill non-numeric columns with mode\n",
    "    non_numeric_cols = df.select_dtypes(exclude=['float64', 'int64']).columns\n",
    "    for col in non_numeric_cols:\n",
    "        df[col] = df[col].fillna(df[col].mode()[0] if not df[col].mode().empty else 0)\n",
    "    \n",
    "    # Step 4: Verify no NaN values remain\n",
    "    if df.isna().any().any():\n",
    "        print(\"Warning: NaN values still present after cleaning\")\n",
    "        # Drop any remaining rows with NaN values\n",
    "        df = df.dropna()\n",
    "    \n",
    "    # Step 5: Convert all to float64 for scaling\n",
    "    df = df.astype(float)\n",
    "    \n",
    "    return df\n",
    "\n",
    "def compare_clusters_with_program_types(data_path=\"../Data/V1_qualflags_analysis2_ML.dta\", \n",
    "                                      output_dir=\"../Output/Figures/\"):\n",
    "    \"\"\"\n",
    "    Create UMAP visualization comparing clusters with actual program types\n",
    "    \"\"\"\n",
    "    # Load data\n",
    "    print(\"Loading data...\")\n",
    "    data = pd.read_stata(data_path)\n",
    "    program_types = data['program'].copy()  # Save original program types\n",
    "    \n",
    "    # Print initial data info\n",
    "    print(\"\\nInitial data shape:\", data.shape)\n",
    "    print(\"Missing values before preprocessing:\", data.isna().sum().sum())\n",
    "    \n",
    "    # Preprocess data\n",
    "    print(\"\\nPreprocessing data...\")\n",
    "    data_cleaned = clean_and_preprocess(data)\n",
    "    \n",
    "    print(\"Data shape after preprocessing:\", data_cleaned.shape)\n",
    "    print(\"Missing values after preprocessing:\", data_cleaned.isna().sum().sum())\n",
    "    \n",
    "    # Standardize features\n",
    "    print(\"\\nStandardizing features...\")\n",
    "    scaler = StandardScaler()\n",
    "    scaled_data = scaler.fit_transform(data_cleaned)\n",
    "    \n",
    "    # Verify scaled data\n",
    "    if np.isnan(scaled_data).any():\n",
    "        raise ValueError(\"NaN values found in scaled data\")\n",
    "    \n",
    "    # Perform UMAP\n",
    "    print(\"\\nPerforming UMAP...\")\n",
    "    reducer = umap.UMAP(random_state=42)\n",
    "    embedding = reducer.fit_transform(scaled_data)\n",
    "    \n",
    "    # Create visualizations\n",
    "    print(\"\\nCreating visualizations...\")\n",
    "    fig, (ax1, ax2) = plt.subplots(1, 2, figsize=(20, 8))\n",
    "    \n",
    "    # Plot 1: K-means clusters\n",
    "    kmeans = KMeans(n_clusters=2, random_state=42)\n",
    "    cluster_labels = kmeans.fit_predict(embedding)\n",
    "    \n",
    "    scatter1 = ax1.scatter(embedding[:, 0], embedding[:, 1], \n",
    "                          c=cluster_labels, cmap='viridis',\n",
    "                          alpha=0.6)\n",
    "    ax1.set_title('UMAP Projection with K-means Clusters (k=2)')\n",
    "    ax1.set_xlabel('UMAP1')\n",
    "    ax1.set_ylabel('UMAP2')\n",
    "    plt.colorbar(scatter1, ax=ax1, label='Cluster')\n",
    "    \n",
    "    # Plot 2: Program types\n",
    "    program_colors = {'Reskilling': '#FF6B6B', 'Upskilling': '#4ECDC4', 'General': '#95A5A6'}\n",
    "    \n",
    "    # Ensure program_types length matches embedding length\n",
    "    program_types = program_types.iloc[data_cleaned.index]\n",
    "    \n",
    "    for program in program_colors:\n",
    "        mask = program_types == program\n",
    "        ax2.scatter(embedding[mask, 0], embedding[mask, 1], \n",
    "                   c=program_colors[program], label=program,\n",
    "                   alpha=0.6)\n",
    "    \n",
    "    ax2.set_title('UMAP Projection by Program Type')\n",
    "    ax2.set_xlabel('UMAP1')\n",
    "    ax2.set_ylabel('UMAP2')\n",
    "    ax2.legend(title='Program Type')\n",
    "    \n",
    "    plt.tight_layout()\n",
    "    \n",
    "    # Save figure\n",
    "    print(\"\\nSaving outputs...\")\n",
    "    plt.savefig(f\"{output_dir}umap_cluster_program_comparison.png\", \n",
    "                dpi=300, bbox_inches='tight')\n",
    "    plt.close()\n",
    "    \n",
    "    # Create confusion matrix\n",
    "    cluster_program_df = pd.DataFrame({\n",
    "        'Cluster': cluster_labels,\n",
    "        'Program': program_types.values\n",
    "    })\n",
    "    \n",
    "    confusion_matrix = pd.crosstab(\n",
    "        cluster_program_df['Cluster'],\n",
    "        cluster_program_df['Program'],\n",
    "        normalize='index'\n",
    "    )\n",
    "    \n",
    "    # Save confusion matrix\n",
    "    confusion_matrix.to_csv(f\"{output_dir}cluster_program_distribution.csv\")\n",
    "    \n",
    "    # Distribution plot\n",
    "    plt.figure(figsize=(10, 6))\n",
    "    confusion_matrix.plot(kind='bar', stacked=True)\n",
    "    plt.title('Distribution of Program Types within Clusters')\n",
    "    plt.xlabel('Cluster')\n",
    "    plt.ylabel('Proportion')\n",
    "    plt.legend(title='Program Type')\n",
    "    plt.tight_layout()\n",
    "    plt.savefig(f\"{output_dir}cluster_program_distribution.png\",\n",
    "                dpi=300, bbox_inches='tight')\n",
    "    plt.close()\n",
    "    \n",
    "    return confusion_matrix\n",
    "\n",
    "# Run analysis\n",
    "confusion_matrix = compare_clusters_with_program_types()\n",
    "print(\"\\nDistribution of program types within clusters:\")\n",
    "print(confusion_matrix)"
   ]
  }
 ],
 "metadata": {
  "kernelspec": {
   "display_name": ".venv",
   "language": "python",
   "name": "python3"
  },
  "language_info": {
   "codemirror_mode": {
    "name": "ipython",
    "version": 3
   },
   "file_extension": ".py",
   "mimetype": "text/x-python",
   "name": "python",
   "nbconvert_exporter": "python",
   "pygments_lexer": "ipython3",
   "version": "3.13.1"
  }
 },
 "nbformat": 4,
 "nbformat_minor": 2
}
